{
 "cells": [
  {
   "cell_type": "markdown",
   "metadata": {},
   "source": [
    "### Collaboration's notice\n",
    "\n",
    "\n",
    "1. Improvements compared with V0.1:\n",
    "   - Break the function ``egm_factory`` into two functions ``optimal_c`` and ``K``.\n",
    "   - Convert it into ``MyST-md`` format by ``jupytext``.\n",
    "   - Adjust the coefficient of $P$ and $\\sigma$_vec and $\\mu$-vec.\n",
    "   - Converging time is **much shorter**.\n",
    "   - Add assumption testings.\n",
    "     - The assumption testing is on the money.\n",
    "   - Change the loop structure.\n",
    "\n",
    "2. Fault:\n",
    "   - $\\beta$ is not stochastic/state dependent.\n",
    "\n",
    "3. Solution:\n",
    "   - Simulate z_vec and P_z from the AR(1) $Z_t$ by using the function ``rouwenhorst`` in the ``QuantEcon.py``.\n",
    "   - Set up appropriate expressions of stochastic processes, $\\beta_t(z_t, ε_t)$, $R_t(z_t, ζ_t)$ and $Y_t(z_t, η_t)$."
   ]
  },
  {
   "cell_type": "code",
   "execution_count": 272,
   "metadata": {},
   "outputs": [],
   "source": [
    "import numpy as np\n",
    "import matplotlib.pyplot as plt\n",
    "from interpolation import interp\n",
    "from numba import jit, njit, jitclass, prange, float64\n",
    "from quantecon.optimize.root_finding import brentq\n",
    "from scipy.linalg import eig, eigvals\n",
    "\n",
    "%matplotlib inline"
   ]
  },
  {
   "cell_type": "code",
   "execution_count": 273,
   "metadata": {},
   "outputs": [],
   "source": [
    "ifp_data = [\n",
    "    ('γ', float64),              # Utility parameter\n",
    "    ('β', float64),\n",
    "    ('P', float64[:, :]),        # Transition probs for z_t\n",
    "    ('z_vec', float64[:]),       # Shock scale parameters for R_t, Y_t     \n",
    "    ('a_grid', float64[:]),      # Grid over asset values (array)\n",
    "    ('s_grid', float64[:]),\n",
    "    ('ε_draws', float64[:]),\n",
    "    ('η_draws', float64[:]),     # Draws of innovation η for MC (array)\n",
    "    ('ζ_draws', float64[:])      # Draws of innovation ζ for MC (array)\n",
    "]"
   ]
  },
  {
   "cell_type": "code",
   "execution_count": 315,
   "metadata": {
    "incorrectly_encoded_metadata": "hide-output=false"
   },
   "outputs": [],
   "source": [
    "@jitclass(ifp_data)\n",
    "class IFP:\n",
    "    \"\"\"\n",
    "    A class that stores primitives for the income fluctuation \n",
    "    problem. \n",
    "    \"\"\"\n",
    "    def __init__(self,\n",
    "                 γ=2.5,\n",
    "                 β=0.96,\n",
    "                 P=np.array([(0.7861, 0.2139), \n",
    "                             (0.2139, 0.7861)]),\n",
    "                 z_vec=np.array((0.0316, 0.047)),\n",
    "                 shock_draw_size=400,\n",
    "                 grid_max=10,\n",
    "                 grid_size=20):\n",
    "        \n",
    "        np.random.seed(1234)  # arbitrary seed\n",
    "\n",
    "        self.γ = γ\n",
    "        self.β = β\n",
    "        self.P, self.z_vec = P, z_vec\n",
    "        self.ε_draws = np.random.randn(shock_draw_size)\n",
    "        self.η_draws = np.random.randn(shock_draw_size)\n",
    "        self.ζ_draws = np.random.randn(shock_draw_size)\n",
    "        self.a_grid = np.linspace(0, grid_max, grid_size)\n",
    "        self.s_grid = np.copy(self.a_grid)\n",
    "        \n",
    "    # Marginal utility    \n",
    "    def u_prime(self, c):\n",
    "        return c ** (-self.γ)\n",
    "    \n",
    "    # Inverse utility\n",
    "    def u_prime_inv(self, du):\n",
    "        return du ** (-1 / self.γ)\n",
    "    \n",
    "    def R(self, z, ζ):\n",
    "        return np.exp(self.z_vec[z] * ζ)\n",
    "    \n",
    "    def Y(self, z, η):\n",
    "        return np.exp(self.z_vec[z] * η )"
   ]
  },
  {
   "cell_type": "code",
   "execution_count": 316,
   "metadata": {},
   "outputs": [],
   "source": [
    "ifp = IFP()"
   ]
  },
  {
   "cell_type": "markdown",
   "metadata": {},
   "source": [
    "## Testing the assumptions"
   ]
  },
  {
   "cell_type": "code",
   "execution_count": 317,
   "metadata": {},
   "outputs": [],
   "source": [
    "def G_φ(Z_φ, P_φ):\n",
    "    \n",
    "    D_φ = np.diag(Z_φ)\n",
    "    if D_φ.max() == np.inf:\n",
    "        G_R = np.nan\n",
    "    else:\n",
    "        L_φ = np.matmul(P_φ, D_φ)\n",
    "        G_φ = max(np.abs(eig(L_φ)[0])) # G_φ = r(L_φ)\n",
    "    \n",
    "    return G_φ"
   ]
  },
  {
   "cell_type": "code",
   "execution_count": 318,
   "metadata": {},
   "outputs": [
    {
     "data": {
      "text/plain": [
       "0.9993977314739861"
      ]
     },
     "execution_count": 318,
     "metadata": {},
     "output_type": "execute_result"
    }
   ],
   "source": [
    "G_βR = G_φ(ifp.β * np.exp(ifp.z_vec + (ifp.z_vec)**2 /2), ifp.P)\n",
    "G_βR"
   ]
  },
  {
   "cell_type": "markdown",
   "metadata": {},
   "source": [
    "## Implement the endogenous grid method"
   ]
  },
  {
   "cell_type": "code",
   "execution_count": 319,
   "metadata": {},
   "outputs": [],
   "source": [
    "@jit(nopython=True)\n",
    "def optimal_c(s, z, σ_vec, ifp):\n",
    "    \n",
    "    u_prime, u_prime_inv = ifp.u_prime, ifp.u_prime_inv\n",
    "    a_grid, s_grid = ifp.a_grid, ifp.s_grid\n",
    "    η_draws, ζ_draws, ε_draws = ifp.η_draws, ifp.ζ_draws, ifp.ε_draws\n",
    "    β, R, Y, P = ifp.β, ifp.R, ifp.Y, ifp.P\n",
    "    n = len(ε_draws)\n",
    "    \n",
    "    c = lambda a, z: interp(a_grid, σ_vec[:, z], a)\n",
    "        \n",
    "    Ez = 0.0\n",
    "    for z_hat in (0, 1):\n",
    "        for i in range(n):\n",
    "            R_hat = R(z_hat, ζ_draws[i])\n",
    "            Y_hat = Y(z_hat, η_draws[i])\n",
    "            Ez += β * R_hat * u_prime(c(R_hat * s + Y_hat, z_hat)) * P[z, z_hat]\n",
    "                \n",
    "    Ez = Ez / (n ** 3)\n",
    "    return u_prime_inv(Ez)\n",
    "    "
   ]
  },
  {
   "cell_type": "code",
   "execution_count": 320,
   "metadata": {},
   "outputs": [],
   "source": [
    "@jit(nopython=True)\n",
    "def K(c, ifp):\n",
    "    \n",
    "    a_grid, s_grid = ifp.a_grid, ifp.s_grid\n",
    "    \n",
    "    c_new = np.empty_like(c)\n",
    "    for z in (0, 1):\n",
    "        for i in range(len(s_grid)):\n",
    "            s = s_grid[i]\n",
    "            \n",
    "            c_new[i, z] = optimal_c(s, z, c, ifp)\n",
    "            \n",
    "        a_new = c_new[:, z] + s_grid\n",
    "        c_new[:, z] = interp(a_new, c_new[:, z], a_grid)\n",
    "        \n",
    "        c_new[:, z] = np.minimum(c_new[:, z], a_grid)\n",
    "        \n",
    "    return c_new"
   ]
  },
  {
   "cell_type": "code",
   "execution_count": 321,
   "metadata": {},
   "outputs": [],
   "source": [
    "def solve_model(ifp,\n",
    "                K,\n",
    "                tol=1e-10,\n",
    "                max_iter=1e3,\n",
    "                verbose=True,\n",
    "                print_skip=4):\n",
    "\n",
    "    \"\"\"\n",
    "    Solves for the optimal policy using operator K\n",
    "\n",
    "    * ifp is an instance of ConsumerProblem\n",
    "    * K is an operator that updates consumption policy\n",
    "    \"\"\"\n",
    "\n",
    "    # Initial guess of c_vec = consume all assets\n",
    "    n = len(ifp.a_grid)\n",
    "    c = np.empty((n, 2))\n",
    "    for z in 0, 1:\n",
    "        c[:, z] = ifp.a_grid\n",
    "\n",
    "    i = 0\n",
    "    error = tol + 1\n",
    "\n",
    "    while i < max_iter and error > tol:\n",
    "        c_new = K(c, ifp)\n",
    "\n",
    "        error = np.max(np.abs(c - c_new))\n",
    "        i += 1\n",
    "\n",
    "        if verbose and i % print_skip == 0:\n",
    "            print(f\"Error at iteration {i} is {error}.\")\n",
    "\n",
    "        c[:, :] = c_new\n",
    "\n",
    "    if i == max_iter:\n",
    "        print(\"Failed to converge!\")\n",
    "\n",
    "    if verbose and i < max_iter:\n",
    "        print(f\"\\nConverged in {i} iterations.\")\n",
    "\n",
    "    return c"
   ]
  },
  {
   "cell_type": "code",
   "execution_count": 322,
   "metadata": {
    "scrolled": true
   },
   "outputs": [
    {
     "name": "stdout",
     "output_type": "stream",
     "text": [
      "\n",
      "Converged in 1 iterations.\n",
      "CPU times: user 706 ms, sys: 9.05 ms, total: 715 ms\n",
      "Wall time: 714 ms\n"
     ]
    }
   ],
   "source": [
    "%%time\n",
    "c = solve_model(ifp, K)"
   ]
  },
  {
   "cell_type": "code",
   "execution_count": 323,
   "metadata": {
    "scrolled": true
   },
   "outputs": [
    {
     "data": {
      "image/png": "[encoded data removed]",
      "text/plain": [
       "<Figure size 432x288 with 1 Axes>"
      ]
     },
     "metadata": {
      "needs_background": "light"
     },
     "output_type": "display_data"
    }
   ],
   "source": [
    "for z in [0, 1]:\n",
    "    plt.plot(ifp.a_grid, c[:, z], label=f\"$z$ = {z}\")\n",
    "\n",
    "plt.legend()\n",
    "plt.show()"
   ]
  },
  {
   "cell_type": "code",
   "execution_count": null,
   "metadata": {},
   "outputs": [],
   "source": []
  },
  {
   "cell_type": "code",
   "execution_count": null,
   "metadata": {},
   "outputs": [],
   "source": []
  }
 ],
 "metadata": {
  "jupytext": {
   "formats": "ipynb,md"
  },
  "kernelspec": {
   "display_name": "Python 3",
   "language": "python",
   "name": "python3"
  },
  "language_info": {
   "codemirror_mode": {
    "name": "ipython",
    "version": 3
   },
   "file_extension": ".py",
   "mimetype": "text/x-python",
   "name": "python",
   "nbconvert_exporter": "python",
   "pygments_lexer": "ipython3",
   "version": "3.7.6"
  }
 },
 "nbformat": 4,
 "nbformat_minor": 4
}
