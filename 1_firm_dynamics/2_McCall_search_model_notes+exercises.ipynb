{
 "cells": [
  {
   "cell_type": "markdown",
   "metadata": {},
   "source": [
    "# 2 McCall search model"
   ]
  },
  {
   "cell_type": "code",
   "execution_count": 63,
   "metadata": {},
   "outputs": [
    {
     "name": "stdout",
     "output_type": "stream",
     "text": [
      "Requirement already up-to-date: quantecon in /Users/shuhu/anaconda3/lib/python3.7/site-packages (0.4.5)\r\n",
      "Requirement already satisfied, skipping upgrade: numba>=0.38 in /Users/shuhu/anaconda3/lib/python3.7/site-packages (from quantecon) (0.41.0)\r\n",
      "Requirement already satisfied, skipping upgrade: sympy in /Users/shuhu/anaconda3/lib/python3.7/site-packages (from quantecon) (1.3)\r\n",
      "Requirement already satisfied, skipping upgrade: requests in /Users/shuhu/anaconda3/lib/python3.7/site-packages (from quantecon) (2.21.0)\r\n",
      "Requirement already satisfied, skipping upgrade: numpy in /Users/shuhu/anaconda3/lib/python3.7/site-packages (from quantecon) (1.15.4)\r\n",
      "Requirement already satisfied, skipping upgrade: scipy>=1.0.0 in /Users/shuhu/anaconda3/lib/python3.7/site-packages (from quantecon) (1.1.0)\r\n",
      "Requirement already satisfied, skipping upgrade: llvmlite>=0.26.0dev0 in /Users/shuhu/anaconda3/lib/python3.7/site-packages (from numba>=0.38->quantecon) (0.26.0)\r\n",
      "Requirement already satisfied, skipping upgrade: idna<2.9,>=2.5 in /Users/shuhu/anaconda3/lib/python3.7/site-packages (from requests->quantecon) (2.8)\r\n",
      "Requirement already satisfied, skipping upgrade: chardet<3.1.0,>=3.0.2 in /Users/shuhu/anaconda3/lib/python3.7/site-packages (from requests->quantecon) (3.0.4)\r\n",
      "Requirement already satisfied, skipping upgrade: certifi>=2017.4.17 in /Users/shuhu/anaconda3/lib/python3.7/site-packages (from requests->quantecon) (2018.11.29)\r\n",
      "Requirement already satisfied, skipping upgrade: urllib3<1.25,>=1.21.1 in /Users/shuhu/anaconda3/lib/python3.7/site-packages (from requests->quantecon) (1.24.1)\r\n"
     ]
    }
   ],
   "source": [
    "!pip install --upgrade quantecon # install quantecon lib"
   ]
  },
  {
   "cell_type": "code",
   "execution_count": 64,
   "metadata": {},
   "outputs": [],
   "source": [
    "import numpy as np\n",
    "from numba import jit\n",
    "import matplotlib.pyplot as plt\n",
    "import quantecon as qe\n",
    "from quantecon.distributions import BetaBinomial"
   ]
  },
  {
   "cell_type": "markdown",
   "metadata": {},
   "source": [
    "## 2.1 Overview\n",
    "\n",
    "To clarify vague notions such as \"involuntary\" unemployment, McCall modelled the decision of unemployed agents directly, in terms of factors such as\n",
    "\n",
    "1. current and likely future wages, $ W_t $\n",
    "2. impatience (?)\n",
    "3. Unemployment compensation $c$.\n",
    "\n",
    "To solve the decision problem, he used dynamic programming."
   ]
  },
  {
   "cell_type": "markdown",
   "metadata": {},
   "source": [
    "## 2.2 The McCall Model\n",
    "\n",
    "### Basic settings\n",
    "\n",
    "1. An unemployed worker receives in each period a job offer at wage $W_t$.\n",
    "\n",
    "2. At time $t$, the worker has two choices:\n",
    "\n",
    "   a) Accept the offer and work permanently at constant wage $W_t$;\n",
    "\n",
    "   b) Reject the offer, receive unemployment compensation $c$, and reconsider next period.\n",
    "\n",
    "3. The wage sequence is assumed to be IID (identical independently distributed) with probability mass function $\\phi$.\n",
    "4. Thus, $\\phi(w)$ is the probability of observing wage offer $w$ in the set $w_1,…,w_n$.\n",
    "5. The worker is infinitely lived and aims to maximise the expected discounted sum of earnings\n",
    "\n",
    "$$\n",
    "E \\sum^{\\infty}_{t=0} \\beta^t Y_t\n",
    "$$\n",
    "\n",
    "The constant $\\beta$ lies in $(0,1)$ and is called a discounted factor.\n",
    "\n",
    "The smaller is $\\beta$, the more the worker discounts future utility relative to current utility.\n",
    "\n",
    "6. The variable $Y_t$ is income, equal to\n",
    "\n",
    "   6.1 his wage $W_t$ when employed or\n",
    "\n",
    "   6.2 unemployment compensation $c$ when unemployed.\n",
    "\n",
    "### A trade-off\n",
    "\n",
    "The worker faces a trade-off:\n",
    "\n",
    "1. waiting too long for a good offer is costly, since the future is **discounted**.\n",
    "2. accepting too early is costly, since **better** offers might arrive in the future.\n",
    "\n",
    "To decide optimally in the face of this trade-off, we use dynamic programming, which can be thought of as a two-step procedure:\n",
    "\n",
    "1. first assigns values to **\"states\"**(? $w_t$ wage offer at each period?) and \n",
    "2. then deduces optimal actions, given those values.\n",
    "\n",
    "### The value function\n",
    "\n",
    "#### Assign values to states $w_t $\n",
    "\n",
    "In order to optimally trade-off current and future rewards, we need to think about two things:\n",
    "\n",
    "1. the current payoffs we get from different choices;\n",
    "2. the different states that those choices will lead to in next period (in this case, either employment or unemployment)\n",
    "\n",
    "To weigh these two aspects of the decision problem, we need to assign values to states.\n",
    "\n",
    "Let $v^*(w)$ be the total lifetime *value* accruing to an unemployed worker who enters the current period unemployed but with wage offer $w$ in hand, or more precisely, $v^*(w)$ denotes the value of the objective function when an agent in this situation makes *optimal* decisions now and at all future points in time.\n",
    "$$\n",
    "v^*(w) = \\max{\\{ \\frac{w}{ 1- \\beta}, c + \\beta \\sum_{w'}v^*(w') \\phi (w') \\}}\n",
    "$$\n",
    "for every possible $w$ in $w_1,…,w_n$.\n",
    "\n",
    "The tuition behind it is as follows:\n",
    "\n",
    "1. the first term inside the max operation is the lifetime payoff from accepting current offer $w$, since\n",
    "   $$\n",
    "   w + \\beta w + \\beta^2 w + \\cdots = \\frac{w}{1-\\beta}\n",
    "   $$\n",
    "\n",
    "2. the second term inside is the continuation value, which is the lifetime payoff from rejecting the current offer and then behaving optimally in all subsequent periods.\n",
    "\n",
    "If we optimize and pick the best of these two options, then we obtain maximal lifetime value from today, given current offer $w$.\n",
    "\n",
    "Note that\n",
    "\n",
    "1. $v^*(w)$ is not trivial to calculate because we don't yet know what decisions are optimal and what aren't, \n",
    "2. but think of $v^*(w)$ as a function that assigns to each possible wage $w$, the maximal lifetime value that can be obtained with that offer in hand.\n",
    "\n",
    "## The optimal policy\n",
    "\n",
    "Suppose for now that we are able to solve (5) for the unknown function $v^*$.\n",
    "\n",
    "Once we have this function in hand, we can behave optimally (i.e., make the right choice between accept and reject).\n",
    "\n",
    "All we have to do is select the maximal choice on the RHS of (5).\n",
    "\n",
    "The optimal action is best thought of as a policy, which is, in general, a map from states to actions, and in our case, the state is the current wage offer $w$.\n",
    "\n",
    "Given any $w$, we can read off the corresponding best choice (accept or reject) by picking the max on the RHS of (5).\n",
    "\n",
    "Thus, we have a map from $\\R$ to $\\{ 0,1 \\}$, with 1 meaning accept and 0 meaning reject.\n",
    "\n",
    "We can write the policy as follows:\n",
    "$$\n",
    "\\sigma (w) =\\mathscr{1} \\{ \\frac{w}{1- \\beta} \\geq c + \\beta \\sum_{w'} v^*(w') \\phi (w') \\}\n",
    "$$\n",
    "where $1 \\{ P \\}=1$ if statement $P$ is true and equals 0 otherwise.\n",
    "\n",
    "Alternatively, we can write it as\n",
    "$$\n",
    "\\sigma (w) = 1 \\{ w \\geq \\bar{w} \\}\n",
    "$$\n",
    "where\n",
    "$$\n",
    "\\bar{w} = (1-\\beta) \\{ c+ \\beta \\sum_{w'}v^*(w') \\phi (w') \\}\n",
    "$$\n",
    "where \n",
    "\n",
    "$\\bar{w}$ is a constant depending on $\\beta$, $c$ and the wage distribution called the reservation wage.\n",
    "\n",
    "The agent should accept if and only if the current wage offer exceeds the researvation wage.\n"
   ]
  },
  {
   "cell_type": "markdown",
   "metadata": {},
   "source": [
    "## 2.3 Computing the optimal policy: take 1\n",
    "\n",
    "To put the above ideas into action, we need to compute the value function at points $w_1,…,w_n$.\n",
    "\n",
    "In doing so, we can identify these values with the vector $v^*=(v^*_i)$ where $v^*_i=v^*(w_i)$.\n",
    "\n",
    "In view of (5), this vector satisfies the nonlinear system of equations\n",
    "$$\n",
    "v^*_i= \\max{ \\{ \\frac{w_i}{1-\\beta}, c+ \\beta \\sum_j v^*_j \\phi (w_j) \\} } \\ for \\ i=1,...,n\n",
    "$$\n",
    "\n",
    "### The algorithm\n",
    "\n",
    "To compute this vector, we proceed as follows:\n",
    "\n",
    "#### Step 1\n",
    "\n",
    "Pick an arbitrary initial guess $v \\in \\R^n$.\n",
    "\n",
    "#### Step 2\n",
    "\n",
    "compute a new vector $v' \\in \\R^n$ via\n",
    "$$\n",
    "v'_i = \\max{ \\{ \\frac{w_i}{1- \\beta}, c + \\beta \\sum_j v_j \\phi (w_j) \\} } \\ for \\ i =1,...,n\n",
    "$$\n",
    "\n",
    "#### Step 3\n",
    "\n",
    "Calculate a measure of the deviation between $v$ and $v'$, such as $\\max_i |v_i - v'_i|$.\n",
    "\n",
    "#### Step 4\n",
    "\n",
    "If the deviation is larger than some fixed tolerance, then set $v=v'$ and go to step 2.\n",
    "\n",
    "Else continue.\n",
    "\n",
    "#### Step 5\n",
    "\n",
    "Return $v$.\n",
    "\n",
    "(Arbitrarily good means here that the approximation converges to the true solution as the tolerence goes to zero.)\n",
    "\n",
    "### The fixed point theory-Math behind\n",
    "\n",
    "First, one defines a mapping $T$ from $\\R^n$ to itself ($\\R^n$) via\n",
    "$$\n",
    "(Tv)_i = \\max{ \\{ \\frac{w_i}{1- \\beta}, c + \\beta \\sum_j v_j \\phi (w_j) \\} } \\ for \\ i =1,...,n\n",
    "$$\n",
    "(A new vector $Tv$ is obtained from given vector $v$ by evaluating the RHS at each $i$.)\n",
    "\n",
    "One can show that the conditions of the **Banach contraction mapping theorem (?)** are satisfied by $T$ as a self-mapping on $\\R^n$.\n",
    "\n",
    "One implication is that $T$ has a unique fixed point in $\\R^n$.\n",
    "\n",
    "Moreover, it is immediate from the definition of $T$ that this fixed point is precisely the value function.\n",
    "\n",
    "The iterative algorithm presented above corresponds to iterating with $T$ from some initial guess $v$.\n",
    "\n",
    "The Banach contraction mapping theorem tells us that this iterative process generates a sequence that converges to the fixed point.\n",
    "\n",
    "Banach contraction mapping theorem tells us that this iterative process generates a sequence that converges to the fixed point.\n",
    "\n",
    "### Banach contraction mapping theorem\n",
    "\n",
    "#### Def\n",
    "\n",
    "Let $(X,d)$ be a complete metric space.\n",
    "\n",
    "A map $T:X \\to X$ is called a contraction mapping on $X$ if there exists $q \\in [0,1)$ such that \n",
    "$$\n",
    "d(T(x), T(y)) \\leq q d(x,y)\n",
    "$$\n",
    "for all $x,y \\in X$.\n",
    "\n",
    "#### Banach Fixed point theorem\n",
    "\n",
    "Let $(X,d)$ be a non-empty complete metric space with a contraction mapping $T:X \\to X$.\n",
    "\n",
    "$T$ admits a unique fixed-point $x^* \\in X$ ($T(x^*)=x^*$).\n",
    "\n",
    "Furthermore, $x^*$ can be found as follows:\n",
    "\n",
    "start with an arbitrary element $x_0$ in X and define a sequence $\\{ x_n \\}$ by $x_n = T(x_{n-1})$, then $x_n \\to x^*$."
   ]
  },
  {
   "cell_type": "markdown",
   "metadata": {},
   "source": [
    "### Distribution of wage offers and reservation wage\n",
    "\n",
    "#### Beta distribution\n",
    "It is a family of continous probability distributions defined on the interval $[0,1]$ parametrized by two positive shape parameters, denoted by $\\alpha$ and $\\beta$, that appear as exponents of the random variable and control the shape of the distribution.\n",
    "\n",
    "#### Probability density function\n",
    "$$f(x, \\alpha, \\beta) = constant \\cdot x^{\\alpha -1} (1-x )^{\\beta -1} \\\\ =$$\n",
    "\n",
    "\n",
    "#### Beta-binomial distribution\n",
    "The beta-binomial distriubtion is the binomial distribution which the probability of successe at each of $n$ trials is fixed but randomly drawn from a beta distribution.\n",
    "\n",
    "It reduces to the Bernoulli distribution as a special case when $n=1$.\n",
    "For $\\alpha = \\beta =1$, it is the discrete uniform distribution from $0$ to $n$\n"
   ]
  },
  {
   "cell_type": "code",
   "execution_count": 65,
   "metadata": {},
   "outputs": [
    {
     "data": {
      "image/png": "[encoded data removed]",
      "text/plain": [
       "<Figure size 648x468 with 1 Axes>"
      ]
     },
     "metadata": {
      "needs_background": "light"
     },
     "output_type": "display_data"
    },
    {
     "name": "stdout",
     "output_type": "stream",
     "text": [
      "[10. 11. 12. 13. 14. 15. 16. 17. 18. 19. 20. 21. 22. 23. 24. 25. 26. 27.\n",
      " 28. 29. 30. 31. 32. 33. 34. 35. 36. 37. 38. 39. 40. 41. 42. 43. 44. 45.\n",
      " 46. 47. 48. 49. 50. 51. 52. 53. 54. 55. 56. 57. 58. 59. 60.]\n"
     ]
    }
   ],
   "source": [
    "# Define the distribution of wage offers by Beta-Binomial distribution\n",
    "n, a, b = 50, 200, 100                             # Parameters in the beta binomial distribution function\n",
    "w_min, w_max = 10, 60                              # min and max of wage offers\n",
    "w_vals = np.linspace(w_min, w_max, n+1)            # creates new sequences, wages, of evenly spaced numbers, w_min, w_max\n",
    "dist = BetaBinomial(n, a, b)                       # create 'dist' as BetaBinomial distribution with parameters (n, a, b)\n",
    "phi_vals = dist.pdf()                              # create 'phi_vals' as probility density function of BB distribution\n",
    "\n",
    "fig, ax = plt.subplots(figsize=(9, 6.5))           # set figure's axis size\n",
    "ax.stem(w_vals, phi_vals, label='$\\phi (w\\')$')    # stem plots vertical lines from a baseline to the y-coordinate and places a marker at the top.\n",
    "ax.set_xlabel('wages')                             # label x-axis as wage\n",
    "ax.set_ylabel('probabilities')                     # label y-axis as probabilities\n",
    "\n",
    "plt.show()\n",
    "\n",
    "print(w_vals)"
   ]
  },
  {
   "cell_type": "markdown",
   "metadata": {},
   "source": [
    "Firstly, let's have a look at the sequence of approximate value functions that the algorithm above generates.\n",
    "\n",
    "Default parameter values are embedded in the function\n",
    "\n",
    "Our initial guess $v$ is the value of accepting at every given wage.\n"
   ]
  },
  {
   "cell_type": "code",
   "execution_count": 66,
   "metadata": {},
   "outputs": [],
   "source": [
    "def plot_value_function_seq(ax,                    # c, b, w_vals are parameters to calculate v; why 'ax'?\n",
    "                           c=25,\n",
    "                           b=0.99,\n",
    "                           w_vals=w_vals,\n",
    "                           phi_vals=phi_vals,      # phi_vals: pdf of the distribution\n",
    "                            num_plots=6):          # set the number of plots\n",
    "    v = w_vals / (1 - b)                           # calculate initial v we guess\n",
    "    v_next = np.empty_like(v)                      # return a new array with the same shape and type as our initial v\n",
    "    for i in range(num_plots):                     # range() return a sequence of number, from 0 to num_plot, increments by 1\n",
    "        ax.plot(w_vals, v, label=f\"iterate {i}\")   # plot into multiple axes in one figure\n",
    "        for j, w in enumerate(w_vals):             # enumerate() returns loop over 'w_val' and have an automatic counter\n",
    "            stop_val = w / (1-b)                   # compute two values and set the larger one to v_next[j]\n",
    "            cont_val = c + b * np.sum(v * phi_vals)\n",
    "            v_next[j] = max(stop_val, cont_val)\n",
    "        v[:] = v_next                              # assign v_next over top of whatever was in v  \n",
    "    ax.legend(loc='lower right')                   # ax.legend\n"
   ]
  },
  {
   "cell_type": "code",
   "execution_count": 67,
   "metadata": {},
   "outputs": [
    {
     "data": {
      "image/png": "[encoded data removed]",
      "text/plain": [
       "<Figure size 648x468 with 1 Axes>"
      ]
     },
     "metadata": {
      "needs_background": "light"
     },
     "output_type": "display_data"
    }
   ],
   "source": [
    "fig, ax = plt.subplots(figsize=(9, 6.5))          \n",
    "plot_value_function_seq(ax)                        # use the function to show\n",
    "plt.show()"
   ]
  },
  {
   "cell_type": "markdown",
   "metadata": {},
   "source": [
    "Here's more serious iteration effort, that continous until measured deviation between successive iterates is below tol.\n",
    "\n",
    "We will use JIT compilation (Just-in-time) via Numba to turbo charge our loops."
   ]
  },
  {
   "cell_type": "markdown",
   "metadata": {},
   "source": [
    "Use this decorator, we can mark a function for optimization by Numba's JIT (just-in-time) compiler.\n",
    "\n",
    "Numba has two compilation modes: nopython mode and object mode. The former produces much faster code, but has limitations that can force Numba to fall back to the latter. To prevent Numba from falling back, and instead raise an error, pass nopython=True"
   ]
  },
  {
   "cell_type": "code",
   "execution_count": 68,
   "metadata": {},
   "outputs": [],
   "source": [
    "@jit(nopython=True)                                    # let Numba decide when and how to optimize\n",
    "def compute_reservation_wage(c=25,                     \n",
    "                            b=0.99,\n",
    "                            w_vals=w_vals,\n",
    "                            phi_vals=phi_vals,\n",
    "                            max_iter=500,              # set max_iter and tol\n",
    "                            tol=1e-6):\n",
    "    v = w_vals / ( 1 - b )                             \n",
    "    v_next = np.empty_like(v)                          \n",
    "    i = 0\n",
    "    error = tol + 1\n",
    "    while i < max_iter and error > tol:                # difference between while and for\n",
    "        for j, w in enumerate(w_vals):                  \n",
    "            stop_val = w / (1-b)                       \n",
    "            cont_val = c + b * np.sum(v * phi_vals)    # Sum of array elements over a given axis.\n",
    "            v_next[j] = max(stop_val, cont_val)        \n",
    "        error = np.max(np.abs(v_next - v))             # np.abs(): calculate the absolute value; np.max(): return the maximum of elements\n",
    "        i += 1\n",
    "        v[:] = v_next                                  # assign v_next over top of whatever was in v \n",
    "    return (1 - b) * (c + b * np.sum(v * phi_vals))    # this returns w-bar"
   ]
  },
  {
   "cell_type": "code",
   "execution_count": 69,
   "metadata": {},
   "outputs": [
    {
     "data": {
      "text/plain": [
       "47.316499710024964"
      ]
     },
     "execution_count": 69,
     "metadata": {},
     "output_type": "execute_result"
    }
   ],
   "source": [
    "compute_reservation_wage()"
   ]
  },
  {
   "cell_type": "markdown",
   "metadata": {},
   "source": [
    "### Comparative statics\n",
    "\n",
    "Now we know how to compute the reservation wage, let's see how it varies with parameters.\n",
    "\n",
    "First, we change $\\beta$ and $c$."
   ]
  },
  {
   "cell_type": "code",
   "execution_count": 70,
   "metadata": {},
   "outputs": [],
   "source": [
    "grid_size = 25                            # return a tuple of the number of column and rows in the grid, here number is 25.\n",
    "R = np.empty((grid_size, grid_size))      # return a new array of given shape and type, without initializing entries.\n",
    "\n",
    "c_vals = np.linspace(10.0, 30.0, grid_size)  # creates new sequences, c_vals, of evenly spaced numbers, 10, 30\n",
    "b_vals = np.linspace(0.9, 0.99, grid_size)   # creates new sequences, b_vals, of evenly spaced numbers, 0.9, 0.99\n",
    "\n",
    "for i, c in enumerate(c_vals):\n",
    "    for j, b in enumerate(b_vals):\n",
    "        R[i,j] = compute_reservation_wage(c=c, b=b) # compute reservation wage by using these parameters"
   ]
  },
  {
   "cell_type": "code",
   "execution_count": 84,
   "metadata": {},
   "outputs": [
    {
     "data": {
      "image/png": "[encoded data removed]",
      "text/plain": [
       "<Figure size 720x410.4 with 2 Axes>"
      ]
     },
     "metadata": {
      "needs_background": "light"
     },
     "output_type": "display_data"
    }
   ],
   "source": [
    "fit, ax = plt.subplots(figsize=(10, 5.7))           # set figure size\n",
    "\n",
    "csl = ax.contourf(c_vals, b_vals, R.T, alpha=0.9)  # draw filled contours.\n",
    "ctrl = ax.contour(c_vals, b_vals, R.T)              # draw contour lines (A curve along a function of two variables has a constant value)\n",
    "\n",
    "plt.clabel(ctrl, inline =1, fontsize=9)    # set label numbers size and place\n",
    "plt.colorbar(csl, ax=ax)                   # set color bar\n",
    "\n",
    "ax.set_title(\"reservation wage\")           # set title, sizes of xlabel and ylabel\n",
    "ax.set_xlabel(\"$c$\", fontsize=16)\n",
    "ax.set_ylabel(\"$b$\", fontsize=16)\n",
    "\n",
    "ax.ticklabel_format(useOffset=False)    # Change the scalarformatter used by default for linear axes; use\n",
    "                                        # useOffset: if True, the offset will be calculated as needed; if False, no offset will be used.\n",
    "plt.show()                              # draw the graph"
   ]
  },
  {
   "cell_type": "markdown",
   "metadata": {},
   "source": [
    "The reservation wage increases both with patience and with unemployment compensation."
   ]
  },
  {
   "cell_type": "markdown",
   "metadata": {},
   "source": [
    "## 2.4 Computing the optimal policy: take 2\n",
    "\n",
    "Let $h$ denote the value of not accepting a job in this period but then behaving optimally in all subsequent periods.\n",
    "$$\n",
    "h = c + \\beta \\sum_{w'} v^*(w') \\phi(w')\n",
    "$$\n",
    "By the Bellman equation, we then have\n",
    "$$\n",
    "v^*(w')= \\max{\\{ \\frac{w'}{1-\\beta},h \\}}\n",
    "$$\n",
    "Substituting this last equation into (14), we have\n",
    "$$\n",
    "h = c + \\beta \\sum_{w'} \\max{\\{ \\frac{w'}{1-\\beta},h \\}}\\phi(w')\n",
    "$$\n",
    "which is a nonlinear equation that we can solve for $h$.\n",
    "\n",
    "The natural solution method for this kind of nonlinear equation is iterative:\n",
    "\n",
    "#### Step 1\n",
    "\n",
    "Pick an initial guess $h$.\n",
    "\n",
    "#### Step 2\n",
    "\n",
    "Compute the update $h'$ via\n",
    "$$\n",
    "h' = c + \\beta \\sum_{w'} \\max{\\{ \\frac{w'}{1-\\beta},h \\}}\\phi(w')\n",
    "$$\n",
    "\n",
    "#### Step 3\n",
    "\n",
    "Calculate the deviation $|h-h'|$.\n",
    "\n",
    "#### Step 4\n",
    "\n",
    "If the deviation is larger than some fixed tolerance, set $h=h'$ and do Step 2 again.\n",
    "\n",
    "Else continue to Step 5.\n",
    "\n",
    "#### Step 5\n",
    "\n",
    "Return $h$.\n",
    "\n",
    "Once again, one can use the Banach contraction mapping theorem to show that this process always converges.\n",
    "\n",
    "The big difference here is that we are iterating on a single number, rather than an $n$-vector."
   ]
  },
  {
   "cell_type": "code",
   "execution_count": 72,
   "metadata": {},
   "outputs": [],
   "source": [
    "@jit(nopython=True)\n",
    "def compute_reservation_wage_two(c=25,\n",
    "                                b=0.99,\n",
    "                                w_vals=w_vals,\n",
    "                                phi_vals=phi_vals,\n",
    "                                max_iter=500,\n",
    "                                tol=1e-5):\n",
    "    # compute phi\n",
    "    h = np.sum(w_vals * phi_vals) / (1 - b)    # pick an initial guess h\n",
    "    i = 0                                      # set counting number i\n",
    "    error = tol + 1                            # set error level we bear\n",
    "    while i < max_iter and error > tol:        # two conditions for the loop\n",
    "        s = np.maximum(w_vals / ( 1 - b), h)   # compute v*\n",
    "        h_next = c + b * np.sum(s * phi_vals)  # compute h'\n",
    "        error = np.abs(h_next - h)             # compute deviation |h - h'|\n",
    "        i += 1                                 # \n",
    "        h = h_next                             # set h = h'\n",
    "        \n",
    "    # compute the researvation wage\n",
    "    return (1 - b) * h                         "
   ]
  },
  {
   "cell_type": "markdown",
   "metadata": {},
   "source": [
    "## Exercises"
   ]
  },
  {
   "cell_type": "code",
   "execution_count": 73,
   "metadata": {},
   "outputs": [],
   "source": [
    "cdf = np.cumsum(phi_vals)          # return the cumulative sum of the elements along a given axis\n",
    "\n",
    "# Calculate time to accept the offer (unemployment time)\n",
    "\n",
    "@jit(nopython=True)\n",
    "def compute_stopping_time(w_bar, seed = 1234): \n",
    "    np.random.seed(seed)           # return the same result if you call the numpy's other random function every time.\n",
    "    t = 1\n",
    "    while True:\n",
    "        w = w_vals[qe.random.draw(cdf)] # random draw numbers from the distribution with cdf\n",
    "        if w >= w_bar:\n",
    "            stopping_time = t\n",
    "            break\n",
    "        else:\n",
    "            t += 1\n",
    "    return stopping_time\n"
   ]
  },
  {
   "cell_type": "code",
   "execution_count": 76,
   "metadata": {},
   "outputs": [
    {
     "data": {
      "image/png": "[encoded data removed]",
      "text/plain": [
       "<Figure size 648x468 with 1 Axes>"
      ]
     },
     "metadata": {
      "needs_background": "light"
     },
     "output_type": "display_data"
    }
   ],
   "source": [
    "# compute the mean of unemployment time\n",
    "\n",
    "@jit(nopython=True)\n",
    "def compute_mean_stopping_time(w_bar, num_reps=100000):\n",
    "    obs = np.empty(num_reps)                    # return a new array of given shape and type, without initializing entries\n",
    "    for i in range(num_reps):\n",
    "        obs[i] = compute_stopping_time(w_bar, seed = i)\n",
    "    return obs.mean()                           # compute the mean of obs\n",
    "\n",
    "# Plug values into our functions defined\n",
    "\n",
    "c_vals = np.linspace(10, 40, 25)       \n",
    "stop_times = np.empty_like(c_vals)              # return a new array with the same shape and type as a given array (c_vals)\n",
    "for i, c in enumerate(c_vals):\n",
    "    w_bar = compute_reservation_wage_two(c=c)\n",
    "    stop_times[i] = compute_mean_stopping_time(w_bar)\n",
    "    \n",
    "fig, ax = plt.subplots(figsize = (9, 6.5))      # set figure size\n",
    "\n",
    "ax.plot(c_vals, stop_times, label=\"mean unemployment duration\")    # set figure parameters, and title \n",
    "ax.set(xlabel=\"unemployment compensation\", ylabel=\"months\")        # set xlabel and ylabel\n",
    "ax.legend()                                                        # ?\n",
    "\n",
    "plt.show()\n"
   ]
  },
  {
   "cell_type": "code",
   "execution_count": null,
   "metadata": {},
   "outputs": [],
   "source": []
  },
  {
   "cell_type": "code",
   "execution_count": null,
   "metadata": {},
   "outputs": [],
   "source": []
  },
  {
   "cell_type": "code",
   "execution_count": null,
   "metadata": {},
   "outputs": [],
   "source": []
  },
  {
   "cell_type": "code",
   "execution_count": null,
   "metadata": {},
   "outputs": [],
   "source": []
  },
  {
   "cell_type": "code",
   "execution_count": null,
   "metadata": {},
   "outputs": [],
   "source": []
  }
 ],
 "metadata": {
  "kernelspec": {
   "display_name": "Python 3",
   "language": "python",
   "name": "python3"
  },
  "language_info": {
   "codemirror_mode": {
    "name": "ipython",
    "version": 3
   },
   "file_extension": ".py",
   "mimetype": "text/x-python",
   "name": "python",
   "nbconvert_exporter": "python",
   "pygments_lexer": "ipython3",
   "version": "3.7.1"
  }
 },
 "nbformat": 4,
 "nbformat_minor": 2
}
