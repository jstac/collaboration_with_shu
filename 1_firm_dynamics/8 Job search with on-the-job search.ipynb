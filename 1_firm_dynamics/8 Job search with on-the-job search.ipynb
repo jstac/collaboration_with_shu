{
 "cells": [
  {
   "cell_type": "markdown",
   "metadata": {},
   "source": [
    "# 8 Job search with on-the-job search"
   ]
  },
  {
   "cell_type": "code",
   "execution_count": 13,
   "metadata": {},
   "outputs": [
    {
     "name": "stdout",
     "output_type": "stream",
     "text": [
      "Requirement already up-to-date: quantecon in /Users/shuhu/anaconda3/lib/python3.7/site-packages (0.4.5)\n",
      "Requirement already satisfied, skipping upgrade: numpy in /Users/shuhu/anaconda3/lib/python3.7/site-packages (from quantecon) (1.16.4)\n",
      "Requirement already satisfied, skipping upgrade: sympy in /Users/shuhu/anaconda3/lib/python3.7/site-packages (from quantecon) (1.4)\n",
      "Requirement already satisfied, skipping upgrade: requests in /Users/shuhu/anaconda3/lib/python3.7/site-packages (from quantecon) (2.22.0)\n",
      "Requirement already satisfied, skipping upgrade: numba>=0.38 in /Users/shuhu/anaconda3/lib/python3.7/site-packages (from quantecon) (0.44.1)\n",
      "Requirement already satisfied, skipping upgrade: scipy>=1.0.0 in /Users/shuhu/anaconda3/lib/python3.7/site-packages (from quantecon) (1.3.0)\n",
      "Requirement already satisfied, skipping upgrade: mpmath>=0.19 in /Users/shuhu/anaconda3/lib/python3.7/site-packages (from sympy->quantecon) (1.1.0)\n",
      "Requirement already satisfied, skipping upgrade: chardet<3.1.0,>=3.0.2 in /Users/shuhu/anaconda3/lib/python3.7/site-packages (from requests->quantecon) (3.0.4)\n",
      "Requirement already satisfied, skipping upgrade: certifi>=2017.4.17 in /Users/shuhu/anaconda3/lib/python3.7/site-packages (from requests->quantecon) (2019.6.16)\n",
      "Requirement already satisfied, skipping upgrade: urllib3!=1.25.0,!=1.25.1,<1.26,>=1.21.1 in /Users/shuhu/anaconda3/lib/python3.7/site-packages (from requests->quantecon) (1.24.2)\n",
      "Requirement already satisfied, skipping upgrade: idna<2.9,>=2.5 in /Users/shuhu/anaconda3/lib/python3.7/site-packages (from requests->quantecon) (2.8)\n",
      "Requirement already satisfied, skipping upgrade: llvmlite>=0.29.0 in /Users/shuhu/anaconda3/lib/python3.7/site-packages (from numba>=0.38->quantecon) (0.29.0)\n",
      "Requirement already satisfied: interpolation in /Users/shuhu/anaconda3/lib/python3.7/site-packages (2.1.2)\n",
      "Requirement already satisfied: numpy in /Users/shuhu/anaconda3/lib/python3.7/site-packages (from interpolation) (1.16.4)\n",
      "Requirement already satisfied: numba in /Users/shuhu/anaconda3/lib/python3.7/site-packages (from interpolation) (0.44.1)\n",
      "Requirement already satisfied: scipy in /Users/shuhu/anaconda3/lib/python3.7/site-packages (from interpolation) (1.3.0)\n",
      "Requirement already satisfied: tempita in /Users/shuhu/anaconda3/lib/python3.7/site-packages (from interpolation) (0.5.2)\n",
      "Requirement already satisfied: llvmlite>=0.29.0 in /Users/shuhu/anaconda3/lib/python3.7/site-packages (from numba->interpolation) (0.29.0)\n"
     ]
    }
   ],
   "source": [
    "!pip install --upgrade quantecon\n",
    "!pip install interpolation"
   ]
  },
  {
   "cell_type": "code",
   "execution_count": 14,
   "metadata": {},
   "outputs": [],
   "source": [
    "import numpy as np\n",
    "import scipy.stats as stats\n",
    "from interpolation import interp\n",
    "from numba import njit, prange\n",
    "import matplotlib.pyplot as plt\n",
    "%matplotlib inline\n",
    "from math import gamma"
   ]
  },
  {
   "cell_type": "markdown",
   "metadata": {},
   "source": [
    "# 1 Overview\n",
    "\n",
    "We will solve a simple on-the-job search model, based on two sources.\n",
    "\n",
    "## 1.1 Model features\n",
    "\n",
    "1. Job-specific human capital accumulation combined with on-the-job search.\n",
    "2. Infinite-horizon dynamic programming with one state variable and two controls."
   ]
  },
  {
   "cell_type": "markdown",
   "metadata": {},
   "source": [
    "# 2 Model\n",
    "\n",
    "## 2.1 Setting ups (*?*)\n",
    "\n",
    "1. Let\n",
    "\n",
    "   - $x_t$ denote the time-$t$ job-specific human capital of a worker employed at a given firm.\n",
    "   - $w_t$ denote current wages.\n",
    "\n",
    "2. Let $w_t = x_t (1- s_t - \\phi_t)$, where\n",
    "\n",
    "   - $\\phi_t$: investment in job-specific human capital for the current role.\n",
    "   - $s_t$: search effort, devoted to obtaining new offers from other firms.\n",
    "\n",
    "3. For as long as the worker remains in the current job, evolution of $\\{x_t \\}$ is given by $x_{t+1}= g(x_t , \\phi)$.\n",
    "\n",
    "4. When search effort at $t$ is $s_t$, the worker receives a new job offer with probability $\\pi(s_t) \\in [0,1]$.\n",
    "\n",
    "5. Value of offer is $u_{t+1}$, where $\\{u_t\\}$ is iid with common distribution $f$.\n",
    "\n",
    "6. Worker has the right to reject the current offer and continue with existing job.\n",
    "\n",
    "7. In particular, $x_{t+1} = u_{t+1}$ if accepts and $x_{t+1} = g(x_t, \\phi_t)$ if rejects.\n",
    "\n",
    "8. Let $b_{t+1} \\in \\{0, 1\\}$ be binary with $b_{t+1}=1$ indicating an offer, we can write\n",
    "   $$\n",
    "   x_{t+1} = ( 1- b_{t+1}) g(x_t, \\phi_t) + b_{t+1} \\max \\{ g(x_t, \\phi_t), u_{t+1} \\} \\tag{1}\n",
    "   $$\n",
    "\n",
    "9. Agent's objective: maximize expected discounted sum of wages via controls $\\{ s_t \\}$ and $\\{ \\phi_t\\}$.\n",
    "\n",
    "## 2.2 Model\n",
    "\n",
    "Taking the expectation of $v(x_{t+1})$ and using [(1)](#), the Bellman equation for this problem can be written as\n",
    "$$\n",
    "v(x) = \\max_{s + \\phi} \\{  x(1 - s - \\phi) + \\beta (1- \\pi (s)) v[g(x, \\phi)] + \\beta \\pi (s) \\int v[g(x, \\phi) \\vee u] f(du)\\} \\tag{2}\n",
    "$$\n",
    "Here, nonnegativity of $s$ and $\\phi$ is known, and $a \\vee b = \\max \\{a,b\\}$.\n",
    "\n",
    "## 2.3 Parameterization\n",
    "\n",
    "Let \n",
    "$$\n",
    "g(x , \\phi) = A(x \\phi)^{\\alpha}, \\ \\pi(s) = \\sqrt{s} \\ and \\ f =Beta (2,2)\n",
    "$$\n",
    "with paremeter values\n",
    "\n",
    "$A = 1.4$;\n",
    "\n",
    "$\\alpha = 0.6$;\n",
    "\n",
    "$\\beta= 0.96$.\n",
    "\n",
    "The $Beta (2,2)$ distribution is supported on $(0,1)$, which has a unimodal, symmetric density peaked at $0.5$.\n",
    "\n",
    "## 2.4 Back-of-the-Envelope Calculations\n",
    "\n",
    "1. Since the worker has two instruments to build capital and hence wages:\n",
    "   - Invest in capital specific to the current job via $\\phi$.\n",
    "   - search for a new job with better job-specific capital match via $s$.\n",
    "\n",
    "2. Since wages are $x_t (1- s_t - \\phi_t)$, marginal cost of investment via either $\\phi$ or $s$ is identical.\n",
    "   - Our risk-neutral worker should focus on whatever instrument has the highest expected return.\n",
    "   - The relative expected return will depend on $x$.\n",
    "     - Suppose $x=0.05$.\n",
    "       - If $s=1$ and $\\phi=0$, then since $g(x , \\phi)=0$, taking expectations of [(1)](#) gives expected next period capital equal to $\\pi (s) \\mathbb Eu= \\mathbb E u = 0.5$.\n",
    "       - If $s= 0$ and $\\phi =1$, then next period capital is $g(x, \\phi) = g(0.05, 1) \\approx 0.23$.\n",
    "       - Both rates of return are good, but the return from search is better.\n",
    "     - Suppose $x =0.4$.\n",
    "       - If $s=1$ and $\\phi=0$, then the expected next period capital is again $0.5$.\n",
    "       - If $s= 0$ and $\\phi =1$, then $g(x, \\phi) = g(0.4, 1) \\approx 0.8$.\n",
    "       - return from investment via $\\phi$ dominates expected return from search.\n",
    "     - Combining these observations gives us two informal predictions:\n",
    "       - At any given state $x$, the two controls $\\phi$ and $s$ will function primarily as substitutes.\n",
    "         -  Workers will focus on whichever instrument has the higher expected return.\n",
    "       - For sufficiently small $x$, search will be preferable to investment in job-specific human capital. For larger $x$, the reverse will be true.\n",
    "\n"
   ]
  },
  {
   "cell_type": "markdown",
   "metadata": {},
   "source": [
    "# 3 Implementation\n",
    "\n",
    "Step 1: Set up a class *JVWorker* that holds the parameters of the model."
   ]
  },
  {
   "cell_type": "code",
   "execution_count": 15,
   "metadata": {},
   "outputs": [],
   "source": [
    "class JVWorker:\n",
    "    def __init__(self,\n",
    "                A=1.4,\n",
    "                α = 0.6,\n",
    "                β = 0.96,\n",
    "                π = np.sqrt,\n",
    "                a = 2,\n",
    "                b = 2, \n",
    "                grid_size = 50,\n",
    "                mc_size = 100,\n",
    "                ϵ = 1e-4):\n",
    "        self.A, self.α, self.β, self.π = A, α, β, π\n",
    "        self.mc_size, self.ϵ = mc_size, ϵ\n",
    "        \n",
    "        self.g = njit(lambda x, ϕ: A * (x * ϕ)**α) # g(x, ϕ)\n",
    "        self.f_rvs = np.random.beta(a, b, mc_size)\n",
    "        \n",
    "        ## What is grid_max? Why we need it? (It is the max of a large quantile value for f and fixed point y= g(y, l)? How to understand it?)\n",
    "        ϵ = 1e-4 \n",
    "        grid_max = max(A**(1 / (1 - α)), stats.beta(a, b).ppf( 1 - ϵ))\n",
    "        \n",
    "        ## What is x_grid? Why we need it? (Human Capital?)\n",
    "        self.x_grid = np.linspace(ϵ, grid_max, grid_size)"
   ]
  },
  {
   "cell_type": "markdown",
   "metadata": {},
   "source": [
    "Step 2: Similar to previous lecture, we define a function *operator factor* that takes an instance of this class and returns a jitted version of the Bellman operator *T* and another function *get_greedy* that returns the optimal policies of *s* and $\\phi$, given a value function.\n",
    "\n",
    "1. The Bellman operator *T* is a transitional function such that\n",
    "$$\n",
    "Tv(x) = \\max_{s + \\phi \\leq 1} w(s, \\phi)\n",
    "$$\n",
    " - where\n",
    " $$\n",
    " w(s, \\phi) = x(1 - s - \\phi) + \\beta ( 1- \\pi (s)) v[g(x, \\phi )] +  \\beta \\pi(s) \\int v[g(x, \\phi) \\vee u ] f(du) \\tag{3}\n",
    " $$\n",
    "2. When we represent v, it will be with a NumPy array *v*, giving values on grid *x_grid*. (?)\n",
    "\n",
    "3. In order to evaluate the RHS of [(3)](#), we need to replace the array *v* and *x_grid* with a function *v_func* that gives linear interpolation of *v* on *x_grid*. (?)\n",
    "\n",
    "4. Inside the *for* loop, for each *x* in the grid over the state space, we set up the function $w (z) = w(s , \\phi) $ defined in [(3)](#). (?) This function is maximized over all feasible $(s, \\phi)$ pairs.\n"
   ]
  },
  {
   "cell_type": "code",
   "execution_count": 16,
   "metadata": {},
   "outputs": [],
   "source": [
    "def operator_factory(jv, parallel_flag=True):\n",
    "    # use values stored in jv\n",
    "    π, β = jv.π, jv.β\n",
    "    x_grid, ϵ, mc_size = jv.x_grid, jv.ϵ, jv.mc_size\n",
    "    f_rvs, g = jv.f_rvs, jv.g\n",
    "    \n",
    "    @njit\n",
    "    def objective(z, x, v):\n",
    "        s, ϕ = z # what is  ? Why we need it?\n",
    "        # what is v_func ? Why we need it? See above 2 & 3\n",
    "        v_func = lambda x: interp(x_grid, v, x)\n",
    "        \n",
    "        integral = 0\n",
    "        for m in range(mc_size):\n",
    "            u = f_rvs[m]\n",
    "            integral += v_func(max(g(x, ϕ), u))\n",
    "        integral = integral / mc_size\n",
    "        \n",
    "        q = π(s) * integral + ( 1- π(s)) * v_func(g(x, ϕ))\n",
    "        return x * ( 1 - ϕ - s) + β * q # w(s, ϕ)\n",
    "    \n",
    "    @njit(parallel=parallel_flag)\n",
    "    def T(v):\n",
    "        \"\"\"\n",
    "        compute the maximum of a given function w(s, ϕ)\n",
    "        \"\"\"\n",
    "        v_new = np.empty_like(v)\n",
    "        for i in prange(len(x_grid)):\n",
    "            x = x_grid[i]\n",
    "            search_grid = np.linspace(ϵ, 1, 15)\n",
    "            max_val = -1\n",
    "            \n",
    "            # find the max_val of w(s, ϕ) as w(z)=v_new\n",
    "            for s in search_grid:\n",
    "                for ϕ in search_grid:\n",
    "                    current_val = objective((s, ϕ), x, v) if s + ϕ <= 1 else -1\n",
    "                    if current_val > max_val:\n",
    "                        max_val = current_val\n",
    "            v_new[i] = max_val\n",
    "        return v_new\n",
    "    \n",
    "    @njit\n",
    "    def get_greedy(v):\n",
    "        \"\"\"\n",
    "        computes the v_greedy policy of a given function v\n",
    "        (maximizers for the maximium)\n",
    "        \"\"\"\n",
    "        s_policy, ϕ_policy = np.empty_like(v), np.empty_like(v)\n",
    "        \n",
    "        for i in range(len(x_grid)):\n",
    "            x = x_grid[i]\n",
    "            search_grid = np.linspace(ϵ, 1, 15)\n",
    "            max_val = -1\n",
    "            for s in search_grid:\n",
    "                for ϕ in search_grid:\n",
    "                    current_val = objective((s, ϕ), x, v) if s + ϕ <= 1 else -1\n",
    "                    if current_val > max_val:\n",
    "                        max_val = current_val\n",
    "                        max_s, max_ϕ = s, ϕ\n",
    "                        s_policy[i], ϕ_policy[i] = max_s, max_ϕ\n",
    "        return s_policy, ϕ_policy\n",
    "    return T, get_greedy\n",
    "    "
   ]
  },
  {
   "cell_type": "markdown",
   "metadata": {},
   "source": [
    "Step 3: To solve the model, we write a function that uses the Bellman operator and iterates it to find a fixed point."
   ]
  },
  {
   "cell_type": "code",
   "execution_count": 17,
   "metadata": {},
   "outputs": [],
   "source": [
    "def solve_model(jv,\n",
    "               use_parallel=True,\n",
    "               tol=1e-4,\n",
    "               max_iter = 1000,\n",
    "               verbose=True,\n",
    "               print_skip=25):\n",
    "    T, _ = operator_factory(jv, parallel_flag = use_parallel)\n",
    "    \n",
    "    v = jv.x_grid * 0.5 # why 0.5?\n",
    "    i = 0\n",
    "    error = tol + 1\n",
    "    while i < max_iter and error > tol:\n",
    "        v_new = T(v)\n",
    "        error = np.max(np.abs(v - v_new))\n",
    "        i += 1\n",
    "        if verbose and i % print_skip == 0:\n",
    "            print(f\"Error at iteration {i} is {error}.\")\n",
    "        v = v_new\n",
    "    \n",
    "    if i == max_iter:\n",
    "        print(\"Failed to converge!\")\n",
    "    \n",
    "    if verbose and i < max_iter:\n",
    "        print(f\"\\nConverged in {i} iterations.\")\n",
    "        \n",
    "    return v_new"
   ]
  },
  {
   "cell_type": "markdown",
   "metadata": {},
   "source": [
    "# 4 Solving for policies\n"
   ]
  },
  {
   "cell_type": "code",
   "execution_count": 18,
   "metadata": {},
   "outputs": [
    {
     "name": "stdout",
     "output_type": "stream",
     "text": [
      "Error at iteration 25 is 0.15111290742063765.\n",
      "Error at iteration 50 is 0.05446059568350492.\n",
      "Error at iteration 75 is 0.019627419882469965.\n",
      "Error at iteration 100 is 0.00707365768603907.\n",
      "Error at iteration 125 is 0.0025493230062281214.\n",
      "Error at iteration 150 is 0.0009187676416591017.\n",
      "Error at iteration 175 is 0.00033112084161146527.\n",
      "Error at iteration 200 is 0.00011933486420012684.\n",
      "\n",
      "Converged in 205 iterations.\n"
     ]
    },
    {
     "data": {
      "image/png": "[encoded data removed]",
      "text/plain": [
       "<Figure size 864x864 with 3 Axes>"
      ]
     },
     "metadata": {
      "needs_background": "light"
     },
     "output_type": "display_data"
    }
   ],
   "source": [
    "jv = JVWorker()\n",
    "T, get_greedy = operator_factory(jv)\n",
    "v_star = solve_model (jv)\n",
    "s_star, ϕ_star = get_greedy(v_star)\n",
    "plots = [s_star, ϕ_star, v_star]\n",
    "titles = [\"ϕ policy\", \"s policy\", \"value function\"]\n",
    "\n",
    "fig, axes = plt.subplots(3, 1, figsize=(12, 12))\n",
    "\n",
    "# What is this loop? Why?\n",
    "for ax, plot, title in zip(axes, plots, titles): # What is zip? Why?\n",
    "    ax.plot(jv.x_grid, plot)\n",
    "    ax.set(title=title)\n",
    "    ax.grid()\n",
    "    \n",
    "axes[-1].set_xlabel(\"x\")\n",
    "plt.show()\n",
    "    "
   ]
  },
  {
   "cell_type": "markdown",
   "metadata": {},
   "source": [
    "The horizontal axis is the state $x$ (job specific human capital), while the vertical axis gives $s(x)$ and $\\phi (x)$.\n",
    "\n",
    "Overall, the policies match well with our predictions in 2.4.\n",
    "1. Worker switches from one investment strategy to the other, depending on relative return.\n",
    "2. For low values of $x$, the best option is to search for a new job.\n",
    "3. Once $x$ is larger, worker does better by investing in human capital specific to the current position."
   ]
  },
  {
   "cell_type": "markdown",
   "metadata": {},
   "source": [
    "# 5 Exercises and answers"
   ]
  },
  {
   "cell_type": "markdown",
   "metadata": {},
   "source": [
    "## 5.1 Ex.1 (?)\n",
    "Consider the dynamics for the state process $\\{ x_t \\}$ associated with these policies.\n",
    "\n",
    "The dynamics are given by [(1)](#) when $\\phi_t$ and $s_t$ are chosen according to the optimal policies, and $\\mathbb P \\{ b_{t+1} =1 \\} = \\pi (s_t)  $.\n",
    "\n",
    "Since the dynamics are random, we can solve it by ploting, for each $x$ in a relatively fine grid called *plot_grid*, a large number $K$ of realizations of $x_{t+1}$, given $x_t = x$.\n",
    "\n",
    "Plot this with one dot for each realization, in the form of a 45 degree diagram, setting"
   ]
  },
  {
   "cell_type": "code",
   "execution_count": 19,
   "metadata": {},
   "outputs": [
    {
     "data": {
      "text/plain": [
       "(0, 1.2)"
      ]
     },
     "execution_count": 19,
     "metadata": {},
     "output_type": "execute_result"
    },
    {
     "data": {
      "image/png": "[encoded data removed]",
      "text/plain": [
       "<Figure size 432x288 with 1 Axes>"
      ]
     },
     "metadata": {
      "needs_background": "light"
     },
     "output_type": "display_data"
    }
   ],
   "source": [
    "jv = JVWorker(grid_size=25, mc_size=50)\n",
    "\n",
    "\n",
    "\n",
    "plot_grid_max, plot_grid_size = 1.2, 100\n",
    "plot_grid = np.linspace(0, plot_grid_max, plot_grid_size)\n",
    "fig, ax = plt.subplots()\n",
    "ax.set_xlim(0, plot_grid_max)\n",
    "ax.set_ylim(0, plot_grid_max)"
   ]
  },
  {
   "cell_type": "markdown",
   "metadata": {},
   "source": [
    "By examing the plot, argue that under the optimal policies, the state $x_t$ will converge to a constant value $\\bar x$ close to unity.\n",
    "\n",
    "Argue that at the steady state, $s_t \\approx 0 $ and $\\phi_t \\approx 0.6$."
   ]
  },
  {
   "cell_type": "code",
   "execution_count": 20,
   "metadata": {},
   "outputs": [
    {
     "data": {
      "image/png": "[encoded data removed]",
      "text/plain": [
       "<Figure size 576x576 with 1 Axes>"
      ]
     },
     "metadata": {
      "needs_background": "light"
     },
     "output_type": "display_data"
    }
   ],
   "source": [
    "jv = JVWorker(grid_size=25, mc_size=50)\n",
    "π, g, f_rvs, x_grid = jv.π, jv.g, jv.f_rvs, jv.x_grid\n",
    "T, get_greedy = operator_factory(jv)\n",
    "v_star = solve_model(jv, verbose=False)\n",
    "s_policy, ϕ_policy = get_greedy(v_star)\n",
    "\n",
    "# What this step? Why we need it?\n",
    "s = lambda y: interp(x_grid, s_policy, y)\n",
    "ϕ = lambda y: interp(x_grid, ϕ_policy, y)\n",
    "\n",
    "def h(x, b, u):\n",
    "    return (1 - b) * g(x, ϕ(x)) + b * max(g(x, ϕ(x)), u)\n",
    "\n",
    "plot_grid_max, plot_grid_size = 1.2, 100\n",
    "plot_grid = np.linspace(0, plot_grid_max, plot_grid_size)\n",
    "fig, ax = plt.subplots(figsize=(8,8))\n",
    "ticks = (0.25, 0.5, 0.75, 1.0)\n",
    "ax.set(xticks=ticks, yticks=ticks,\n",
    "       xlim=(0, plot_grid_max),\n",
    "       ylim=(0, plot_grid_max),\n",
    "       xlabel='$x_t$', ylabel='$x_{t+1}$')\n",
    "\n",
    "ax.plot(plot_grid, plot_grid, 'k--', alpha=0.6)\n",
    "for x in plot_grid:\n",
    "    for i in range(jv.mc_size):\n",
    "        b = 1 if np.random.uniform(0, 1) < π(s(x)) else 0\n",
    "        u = f_rvs[i]\n",
    "        y = h(x, b, u)\n",
    "        ax.plot(x, y, 'go', alpha=0.25)\n",
    "        \n",
    "plt.show()"
   ]
  },
  {
   "cell_type": "markdown",
   "metadata": {},
   "source": [
    "## 5.2 Ex.2\n",
    "When the value of $\\beta$ close to 1, $s_t \\to 0$ and $\\phi_t \\to 0.6$ indicated in our last exercise.\n",
    "Consider the case when the worker is infinitely patient (?What is it?).\n",
    "\n",
    "Intuitively, an infinitely patient worker would like to maximise steady state wages, which are a function of steady state capital, that is, given taht the infinitely patient worker does not search in the long run (i.e., $s_t = 0$ for large $t$).\n",
    "\n",
    "Thus, given $\\phi$, steady state capital is the positive fixed point $x^* (\\phi)$ of the map $x \\to g(x, \\phi)$, the steady state wages can be written as $w^* (\\phi) = x^*(\\phi)(1- \\phi)$.\n",
    "\n",
    "Graph $w^*(\\phi)$ with respect to $\\phi$, and examine the best choice of $\\phi$. Give a rough interpretation for the value we see."
   ]
  },
  {
   "cell_type": "code",
   "execution_count": 21,
   "metadata": {},
   "outputs": [
    {
     "data": {
      "image/png": "[encoded data removed]",
      "text/plain": [
       "<Figure size 648x504 with 1 Axes>"
      ]
     },
     "metadata": {
      "needs_background": "light"
     },
     "output_type": "display_data"
    }
   ],
   "source": [
    "jv = JVWorker()\n",
    "\n",
    "def xbar(ϕ): # how do we know that?\n",
    "    A, α = jv.A, jv.α\n",
    "    return (A * ϕ**α)**(1 / (1 - α)) # ?\n",
    "\n",
    "ϕ_grid = np.linspace(0, 1, 100)  \n",
    "fig, ax = plt.subplots(figsize=(9, 7))\n",
    "ax.set(xlabel = '$\\phi$')\n",
    "\n",
    "# calculate and plot wbar\n",
    "ax.plot(ϕ_grid, [xbar(ϕ) * ( 1- ϕ) for ϕ in ϕ_grid], label='$w^(\\phi)$')\n",
    "ax.legend()\n",
    "\n",
    "plt.show()"
   ]
  },
  {
   "cell_type": "markdown",
   "metadata": {},
   "source": [
    "The maximizer is around 0.6, which is similar to the long-run value for $\\phi$ obtained in Ex.1.\n",
    "\n",
    "Hence, the behavior of the infinitely patient worker is similar to that of the worker with $\\beta =0.96$.\n",
    "\n",
    "This seems reasonable and helps us confirm that our dynamic programming solutions are probably correct."
   ]
  },
  {
   "cell_type": "code",
   "execution_count": null,
   "metadata": {},
   "outputs": [],
   "source": []
  },
  {
   "cell_type": "code",
   "execution_count": null,
   "metadata": {},
   "outputs": [],
   "source": []
  },
  {
   "cell_type": "code",
   "execution_count": null,
   "metadata": {},
   "outputs": [],
   "source": []
  }
 ],
 "metadata": {
  "kernelspec": {
   "display_name": "Python 3",
   "language": "python",
   "name": "python3"
  },
  "language_info": {
   "codemirror_mode": {
    "name": "ipython",
    "version": 3
   },
   "file_extension": ".py",
   "mimetype": "text/x-python",
   "name": "python",
   "nbconvert_exporter": "python",
   "pygments_lexer": "ipython3",
   "version": "3.7.3"
  }
 },
 "nbformat": 4,
 "nbformat_minor": 2
}
