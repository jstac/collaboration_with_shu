{
 "cells": [
  {
   "cell_type": "markdown",
   "metadata": {},
   "source": [
    "# 1 Shortest paths problem"
   ]
  },
  {
   "cell_type": "markdown",
   "metadata": {},
   "source": [
    "## 1.1 Overview\n",
    "\n",
    "## 1.2 Outline of the problem\n",
    "\n",
    "The shortest path problem is one of finding how to traverse a graph from one specified node to another at minimum cost.\n",
    "\n",
    "We wish to travel from node 1 to node n at minimum cost\n",
    "\n",
    "1. Arrows indicate the movements we can take.\n",
    "2. Numbers on edges indicate the cost of traveling that edge.\n",
    "\n",
    "Possible interpretations of the graph include\n",
    "\n",
    "1. Minimum cost for supplier to reach a destination.\n",
    "2. Routing of packets on the internet (minimize time)"
   ]
  },
  {
   "cell_type": "markdown",
   "metadata": {},
   "source": [
    "## 1.3 Finding least-cost paths\n",
    "\n",
    "For small graphs, it is easy to go through all cases, but for large graphs, we need a systematic solution.\n",
    "\n",
    "Let $\\mathcal{J(v)}$ denote the minimum cost-to-go from node $v$, understood as the total cost from $v$ if we take the best route.\n",
    "\n",
    "Suppose that we know $J(v)$ for each node $v$.\n",
    "\n",
    "The best path can be found as follows:\n",
    "\n",
    "1. Start at A\n",
    "\n",
    "2. From node $v$, move to any node that solves\n",
    "   $$\n",
    "   \\min_{w \\in F_v}\\{ c(v,w)+J(w) \\}\n",
    "   $$\n",
    "\n",
    "where\n",
    "\n",
    "1. $F_v$ is the set of nodes that can be reached from $v$ in one step.\n",
    "2. $c(v,w)$ is the cost of traveling from $v$ to $w$.\n",
    "\n",
    "Hence, if we know the function $J$, then finding the best path is almost trivial.\n",
    "\n",
    "But how to find $J$?\n",
    "\n",
    "Some thought will convince you that, for every node $v$, the function $J$ satisfies\n",
    "$$\n",
    "J(v)= \\min_{w \\in F_v}\\{ c(v,w)+J(w) \\}\n",
    "$$\n",
    "This is known as the Bellman equation (Richard Bellman)"
   ]
  },
  {
   "cell_type": "markdown",
   "metadata": {},
   "source": [
    "## 1.4 Solving for minimum cost-to-go\n",
    "\n",
    "The standard algorithm for finding $J$ is to start with \n",
    "$$\n",
    "J_0(v)=M \\ if \\ v \\neq destination, else \\ J_0(v)=0\n",
    "$$\n",
    "where $M$ can actually be any real number here.\n",
    "\n",
    "Now we use the following algorithm\n",
    "\n",
    "1. Set $n=0$\n",
    "2. Set $J_{n+1} (v)= \\min_{w \\in F_v} \\{ c(v,w)+J_n(w) \\}$ for all $v$\n",
    "3. If $J_{n+1}$ and $J_n$ are not equal then increment $n$, go to 2\n",
    "\n",
    "In general, this sequence converges to $J$."
   ]
  },
  {
   "cell_type": "markdown",
   "metadata": {},
   "source": [
    "## Exercise 1"
   ]
  },
  {
   "cell_type": "code",
   "execution_count": 1,
   "metadata": {},
   "outputs": [
    {
     "name": "stdout",
     "output_type": "stream",
     "text": [
      "Writing graph.txt\n"
     ]
    }
   ],
   "source": [
    "%%file graph.txt\n",
    "node0, node1 0.04, node8 11.11, node14 72.21\n",
    "node1, node46 1247.25, node6 20.59, node13 64.94\n",
    "node2, node66 54.18, node31 166.80, node45 1561.45\n",
    "node3, node20 133.65, node6 2.06, node11 42.43\n",
    "node4, node75 3706.67, node5 0.73, node7 1.02\n",
    "node5, node45 1382.97, node7 3.33, node11 34.54\n",
    "node6, node31 63.17, node9 0.72, node10 13.10\n",
    "node7, node50 478.14, node9 3.15, node10 5.85\n",
    "node8, node69 577.91, node11 7.45, node12 3.18\n",
    "node9, node70 2454.28, node13 4.42, node20 16.53\n",
    "node10, node89 5352.79, node12 1.87, node16 25.16\n",
    "node11, node94 4961.32, node18 37.55, node20 65.08\n",
    "node12, node84 3914.62, node24 34.32, node28 170.04\n",
    "node13, node60 2135.95, node38 236.33, node40 475.33\n",
    "node14, node67 1878.96, node16 2.70, node24 38.65\n",
    "node15, node91 3597.11, node17 1.01, node18 2.57\n",
    "node16, node36 392.92, node19 3.49, node38 278.71\n",
    "node17, node76 783.29, node22 24.78, node23 26.45\n",
    "node18, node91 3363.17, node23 16.23, node28 55.84\n",
    "node19, node26 20.09, node20 0.24, node28 70.54\n",
    "node20, node98 3523.33, node24 9.81, node33 145.80\n",
    "node21, node56 626.04, node28 36.65, node31 27.06\n",
    "node22, node72 1447.22, node39 136.32, node40 124.22\n",
    "node23, node52 336.73, node26 2.66, node33 22.37\n",
    "node24, node66 875.19, node26 1.80, node28 14.25\n",
    "node25, node70 1343.63, node32 36.58, node35 45.55\n",
    "node26, node47 135.78, node27 0.01, node42 122.00\n",
    "node27, node65 480.55, node35 48.10, node43 246.24\n",
    "node28, node82 2538.18, node34 21.79, node36 15.52\n",
    "node29, node64 635.52, node32 4.22, node33 12.61\n",
    "node30, node98 2616.03, node33 5.61, node35 13.95\n",
    "node31, node98 3350.98, node36 20.44, node44 125.88\n",
    "node32, node97 2613.92, node34 3.33, node35 1.46\n",
    "node33, node81 1854.73, node41 3.23, node47 111.54\n",
    "node34, node73 1075.38, node42 51.52, node48 129.45\n",
    "node35, node52 17.57, node41 2.09, node50 78.81\n",
    "node36, node71 1171.60, node54 101.08, node57 260.46\n",
    "node37, node75 269.97, node38 0.36, node46 80.49\n",
    "node38, node93 2767.85, node40 1.79, node42 8.78\n",
    "node39, node50 39.88, node40 0.95, node41 1.34\n",
    "node40, node75 548.68, node47 28.57, node54 53.46\n",
    "node41, node53 18.23, node46 0.28, node54 162.24\n",
    "node42, node59 141.86, node47 10.08, node72 437.49\n",
    "node43, node98 2984.83, node54 95.06, node60 116.23\n",
    "node44, node91 807.39, node46 1.56, node47 2.14\n",
    "node45, node58 79.93, node47 3.68, node49 15.51\n",
    "node46, node52 22.68, node57 27.50, node67 65.48\n",
    "node47, node50 2.82, node56 49.31, node61 172.64\n",
    "node48, node99 2564.12, node59 34.52, node60 66.44\n",
    "node49, node78 53.79, node50 0.51, node56 10.89\n",
    "node50, node85 251.76, node53 1.38, node55 20.10\n",
    "node51, node98 2110.67, node59 23.67, node60 73.79\n",
    "node52, node94 1471.80, node64 102.41, node66 123.03\n",
    "node53, node72 22.85, node56 4.33, node67 88.35\n",
    "node54, node88 967.59, node59 24.30, node73 238.61\n",
    "node55, node84 86.09, node57 2.13, node64 60.80\n",
    "node56, node76 197.03, node57 0.02, node61 11.06\n",
    "node57, node86 701.09, node58 0.46, node60 7.01\n",
    "node58, node83 556.70, node64 29.85, node65 34.32\n",
    "node59, node90 820.66, node60 0.72, node71 0.67\n",
    "node60, node76 48.03, node65 4.76, node67 1.63\n",
    "node61, node98 1057.59, node63 0.95, node64 4.88\n",
    "node62, node91 132.23, node64 2.94, node76 38.43\n",
    "node63, node66 4.43, node72 70.08, node75 56.34\n",
    "node64, node80 47.73, node65 0.30, node76 11.98\n",
    "node65, node94 594.93, node66 0.64, node73 33.23\n",
    "node66, node98 395.63, node68 2.66, node73 37.53\n",
    "node67, node82 153.53, node68 0.09, node70 0.98\n",
    "node68, node94 232.10, node70 3.35, node71 1.66\n",
    "node69, node99 247.80, node70 0.06, node73 8.99\n",
    "node70, node76 27.18, node72 1.50, node73 8.37\n",
    "node71, node89 104.50, node74 8.86, node91 284.64\n",
    "node72, node76 15.32, node84 102.77, node92 133.06\n",
    "node73, node83 52.22, node76 1.40, node90 243.00\n",
    "node74, node81 1.07, node76 0.52, node78 8.08\n",
    "node75, node92 68.53, node76 0.81, node77 1.19\n",
    "node76, node85 13.18, node77 0.45, node78 2.36\n",
    "node77, node80 8.94, node78 0.98, node86 64.32\n",
    "node78, node98 355.90, node81 2.59\n",
    "node79, node81 0.09, node85 1.45, node91 22.35\n",
    "node80, node92 121.87, node88 28.78, node98 264.34\n",
    "node81, node94 99.78, node89 39.52, node92 99.89\n",
    "node82, node91 47.44, node88 28.05, node93 11.99\n",
    "node83, node94 114.95, node86 8.75, node88 5.78\n",
    "node84, node89 19.14, node94 30.41, node98 121.05\n",
    "node85, node97 94.51, node87 2.66, node89 4.90\n",
    "node86, node97 85.09\n",
    "node87, node88 0.21, node91 11.14, node92 21.23\n",
    "node88, node93 1.31, node91 6.83, node98 6.12\n",
    "node89, node97 36.97, node99 82.12\n",
    "node90, node96 23.53, node94 10.47, node99 50.99\n",
    "node91, node97 22.17\n",
    "node92, node96 10.83, node97 11.24, node99 34.68\n",
    "node93, node94 0.19, node97 6.71, node99 32.77\n",
    "node94, node98 5.91, node96 2.03\n",
    "node95, node98 6.17, node99 0.27\n",
    "node96, node98 3.32, node97 0.43, node99 5.87\n",
    "node97, node98 0.30\n",
    "node98, node99 0.33\n",
    "node99,"
   ]
  },
  {
   "cell_type": "code",
   "execution_count": 2,
   "metadata": {},
   "outputs": [],
   "source": [
    "def read_graph(in_file):\n",
    "    graph = {}\n",
    "    infile = open(in_file)\n",
    "    for line in infile:\n",
    "        elements = line.split(',')\n",
    "        node = elements.pop(0)\n",
    "        graph[node] = []\n",
    "        if node != 'node99':\n",
    "            for element in elements:\n",
    "                destination, cost = element.split()\n",
    "                graph[node].append((destination, float(cost)))\n",
    "    infile.close()\n",
    "    return graph"
   ]
  },
  {
   "cell_type": "code",
   "execution_count": 6,
   "metadata": {},
   "outputs": [],
   "source": [
    "def update_J(J, graph):\n",
    "    next_J = {}\n",
    "    for node in graph:\n",
    "        if node == 'node99':\n",
    "            next_J[node] = 0\n",
    "        else:\n",
    "            next_J[node] = min(cost + J[dest] for dest, cost in graph[node])\n",
    "    return next_J\n"
   ]
  },
  {
   "cell_type": "code",
   "execution_count": 10,
   "metadata": {},
   "outputs": [],
   "source": [
    "def print_best_path(J, graph):\n",
    "    sum_costs = 0\n",
    "    current_location = 'node0'\n",
    "    while current_location != 'node99':\n",
    "        print(current_location)\n",
    "        running_min = 1e100\n",
    "        for destination, cost in graph[current_location]:\n",
    "            cost_of_path = cost + J[destination]\n",
    "            if cost_of_path < running_min:\n",
    "                running_min = cost_of_path\n",
    "                minimizer_cost = cost\n",
    "                minimizer_dest = destination\n",
    "        current_location = minimizer_dest\n",
    "        sum_costs += minimizer_cost\n",
    "    print('node99\\n')                    # ? \\n\n",
    "    print('Cost: ', sum_costs)"
   ]
  },
  {
   "cell_type": "code",
   "execution_count": 11,
   "metadata": {},
   "outputs": [],
   "source": [
    "graph = read_graph('graph.txt')\n",
    "M = 1e10\n",
    "J = {}\n",
    "for node in graph:\n",
    "    J[node] = M\n",
    "\n",
    "J['node99'] = 0\n",
    "\n",
    "while True:\n",
    "    next_J = update_J(J, graph)\n",
    "    if next_J == J:\n",
    "        break\n",
    "    else:\n",
    "        J = next_J"
   ]
  },
  {
   "cell_type": "code",
   "execution_count": 12,
   "metadata": {},
   "outputs": [
    {
     "name": "stdout",
     "output_type": "stream",
     "text": [
      "node0\n",
      "node8\n",
      "node11\n",
      "node18\n",
      "node23\n",
      "node33\n",
      "node41\n",
      "node53\n",
      "node56\n",
      "node57\n",
      "node60\n",
      "node67\n",
      "node70\n",
      "node73\n",
      "node76\n",
      "node85\n",
      "node87\n",
      "node88\n",
      "node93\n",
      "node94\n",
      "node96\n",
      "node97\n",
      "node98\n",
      "node99\n",
      "\n",
      "Cost:  160.55000000000007\n"
     ]
    }
   ],
   "source": [
    "print_best_path(J, graph)"
   ]
  },
  {
   "cell_type": "markdown",
   "metadata": {},
   "source": [
    "## Exercise 2 Solving the Shortest Paths Problem by using matrices"
   ]
  },
  {
   "cell_type": "code",
   "execution_count": 13,
   "metadata": {},
   "outputs": [],
   "source": [
    "import numpy as np"
   ]
  },
  {
   "cell_type": "markdown",
   "metadata": {},
   "source": [
    "### 1 Define the direct distance matrix of all pairs of nodes\n",
    "Label all nodes $A, B ,C, D, E, F, G$ by using counting numbers $0,1,2,3,4,5,6,$, and we have node $i$, where $i \\in \\{ i \\in \\mathcal{Z} | 0 \\leq i \\leq 6  \\} $.\n",
    "\n",
    "Assume that $O=(a_{i,j})_{7 \\times 7}$ is the matrix represeting the direct distances between two directly reachable node $i$ and node $j$, where \n",
    "$$a_{i,j} = \n",
    "\\begin{cases}\n",
    "0 & if \\ i=j \\\\\n",
    "d(i,j) & if \\ node \\ i \\ and \\ node \\ j \\ can \\ be \\ directly \\ reached \\\\\n",
    "\\infty & if \\ \\ node \\ i \\ and \\ node \\ j \\ can \\ not \\ be \\ directly \\ reached\n",
    "\\end{cases}\n",
    "$$\n",
    "Without loss of generality, we can call $O$ the **directe distance matrix**. This matrix can be easily generalised to the case where we have $n$ nodes and we will have the matrix $O_{n \\times n}$.\n",
    "\n",
    "#### Remark\n",
    "In our case, the order of node $i$ and node $j$ matters, since the equation $d(i,j)=d(j,i)$ may not hold."
   ]
  },
  {
   "cell_type": "code",
   "execution_count": 14,
   "metadata": {},
   "outputs": [
    {
     "name": "stdout",
     "output_type": "stream",
     "text": [
      "[[ 0.  1.  5.  3. inf inf inf]\n",
      " [inf  0. inf  9.  6. inf inf]\n",
      " [inf inf  0. inf inf  2. inf]\n",
      " [inf inf inf  0. inf  4.  8.]\n",
      " [inf inf inf inf  0. inf  4.]\n",
      " [inf inf inf inf inf  0.  1.]\n",
      " [inf inf inf inf inf inf  0.]]\n"
     ]
    }
   ],
   "source": [
    "# Input the direct distance matrix\n",
    "O = np.array([[0,1,5,3, np.inf, np.inf, np.inf], [np.inf, 0, np.inf, 9, 6, np.inf, np.inf], [np.inf, np.inf, 0, np.inf, np.inf, 2, np.inf], [np.inf, np.inf, np.inf, 0, np.inf, 4, 8], [np.inf, np.inf, np.inf, np.inf, 0, np.inf, 4], [np.inf, np.inf, np.inf, np.inf, np.inf, 0, 1], [np.inf, np.inf, np.inf, np.inf, np.inf, np.inf, 0]])\n",
    "print(O)"
   ]
  },
  {
   "cell_type": "markdown",
   "metadata": {},
   "source": [
    "### 2 Bellman equation v.s. Min-plus matrix multiplication\n",
    "Let's define a new matrix-multiplication-like operation between two matrices, i.e., the so-called Min-plus matrix multiplication.\n",
    "### Def. (Min-plus matrix multiplication)\n",
    "Given two $n\\times n$ matrices $A=(a_{i,j})$  and  $B=(b_{i,j})$, their distance product $C=(c_{i,j}) = A \\oplus B $ is defined as an $n \\times n$ matrix such that \n",
    "$$c_{i,j}= \\min_{k \\in \\{1,2,...,n \\} } \\{ a_{i,k} + b_{k,j} \\}  $$ \n",
    "which can be eactly functioned as the operation of the main loop part of the Bellman equation for the Shortest Path Problem."
   ]
  },
  {
   "cell_type": "code",
   "execution_count": 15,
   "metadata": {},
   "outputs": [],
   "source": [
    "# Define the Min-Plus Matrix Multiplication between two n*n matrices\n",
    "\n",
    "def min_plus_product(A, B):\n",
    "    B = np.transpose(B)\n",
    "    Y = np.zeros((len(B), len(A)))\n",
    "    for i in range(len(B)):\n",
    "        Y[i] = (A+B[i]).min(1)\n",
    "    return np.transpose(Y)"
   ]
  },
  {
   "cell_type": "markdown",
   "metadata": {},
   "source": [
    "### 3 Find the shortest distance between two nodes\n",
    "Therefore, the power $k$ of the direct distance matrix $O$, denoted by $O^k$, gives the distances between nodes using at most $k$ paths.\n",
    "\n",
    "#### Proposition\n",
    "Consider $O^k = (o^k_{i,j}) = O^{k-1} \\oplus O $, where $k \\in \\{ k \\in \\mathcal{Z} | k \\geq 1 \\}$ and $O^0=(o^0_{i,j})$ is a matrix all of whose entities are 0s, i.e., $o^0_{i,j}=0$ for all $i,j$. If we have \n",
    "$$o^{k-1}_{i,j} \\neq o^{k}_{i,j} $$ and $$o^{k}_{i,j} = o^{k+1}_{i,j}$$,\n",
    "then we can say that it takes at most k paths from node $i$ to node $j$, with the shortest distance $o^k_{i,j}$.\n",
    "\n",
    "#### Method 1\n",
    "If the dimension of the direct distance matrix is small, then we can solve the problem by checking $O^k$ one by one from $k =1$."
   ]
  },
  {
   "cell_type": "code",
   "execution_count": 16,
   "metadata": {},
   "outputs": [
    {
     "name": "stdout",
     "output_type": "stream",
     "text": [
      "[[ 0.  1.  5.  3.  7.  7. 11.]\n",
      " [inf  0. inf  9.  6. 13. 10.]\n",
      " [inf inf  0. inf inf  2.  3.]\n",
      " [inf inf inf  0. inf  4.  5.]\n",
      " [inf inf inf inf  0. inf  4.]\n",
      " [inf inf inf inf inf  0.  1.]\n",
      " [inf inf inf inf inf inf  0.]]\n"
     ]
    }
   ],
   "source": [
    "O2 = min_plus_product(O,O)\n",
    "print(O2)"
   ]
  },
  {
   "cell_type": "code",
   "execution_count": 17,
   "metadata": {},
   "outputs": [
    {
     "name": "stdout",
     "output_type": "stream",
     "text": [
      "[[ 0.  1.  5.  3.  7.  7.  8.]\n",
      " [inf  0. inf  9.  6. 13. 10.]\n",
      " [inf inf  0. inf inf  2.  3.]\n",
      " [inf inf inf  0. inf  4.  5.]\n",
      " [inf inf inf inf  0. inf  4.]\n",
      " [inf inf inf inf inf  0.  1.]\n",
      " [inf inf inf inf inf inf  0.]]\n"
     ]
    }
   ],
   "source": [
    "O3 = min_plus_product(O2,O)\n",
    "print(O3)"
   ]
  },
  {
   "cell_type": "code",
   "execution_count": 18,
   "metadata": {},
   "outputs": [
    {
     "name": "stdout",
     "output_type": "stream",
     "text": [
      "[[ 0.  1.  5.  3.  7.  7.  8.]\n",
      " [inf  0. inf  9.  6. 13. 10.]\n",
      " [inf inf  0. inf inf  2.  3.]\n",
      " [inf inf inf  0. inf  4.  5.]\n",
      " [inf inf inf inf  0. inf  4.]\n",
      " [inf inf inf inf inf  0.  1.]\n",
      " [inf inf inf inf inf inf  0.]]\n"
     ]
    }
   ],
   "source": [
    "O4 = min_plus_product(O3,O)\n",
    "print(O4)"
   ]
  },
  {
   "cell_type": "code",
   "execution_count": 19,
   "metadata": {},
   "outputs": [
    {
     "name": "stdout",
     "output_type": "stream",
     "text": [
      "[[ 0.  1.  5.  3.  7.  7.  8.]\n",
      " [inf  0. inf  9.  6. 13. 10.]\n",
      " [inf inf  0. inf inf  2.  3.]\n",
      " [inf inf inf  0. inf  4.  5.]\n",
      " [inf inf inf inf  0. inf  4.]\n",
      " [inf inf inf inf inf  0.  1.]\n",
      " [inf inf inf inf inf inf  0.]]\n"
     ]
    }
   ],
   "source": [
    "O5 = min_plus_product(O4,O)\n",
    "print(O5)"
   ]
  },
  {
   "cell_type": "markdown",
   "metadata": {},
   "source": [
    "In our example, we want to find the least-cost paths between node A and node G, i.e., node 0 and node 6.\n",
    "\n",
    "Since we have $o^2_{0,6} \\neq o^3_{0,6}$ and $o^3_{0,6} = o^4_{0,6}$, by Proposition, then\n",
    "the least-cost paths between these two nodes are 3, and its shortest distance should be $o^3_{1,7}=8$.\n",
    "\n",
    "#### Method 2\n",
    "Alternatively, we can use a loop to help us find the least-cost paths from node 0 to node 6, i.e., from node A to node G, according to the **Proposition**.\n",
    "\n"
   ]
  },
  {
   "cell_type": "code",
   "execution_count": 20,
   "metadata": {},
   "outputs": [
    {
     "name": "stdout",
     "output_type": "stream",
     "text": [
      "3\n",
      "8.0\n",
      "[[ 0.  1.  5.  3.  7.  7.  8.]\n",
      " [inf  0. inf  9.  6. 13. 10.]\n",
      " [inf inf  0. inf inf  2.  3.]\n",
      " [inf inf inf  0. inf  4.  5.]\n",
      " [inf inf inf inf  0. inf  4.]\n",
      " [inf inf inf inf inf  0.  1.]\n",
      " [inf inf inf inf inf inf  0.]]\n"
     ]
    }
   ],
   "source": [
    "O_old = O\n",
    "O_new = min_plus_product(O_old, O)\n",
    "o_old = O_old[0, 6]\n",
    "o_new = O_new[0, 6]\n",
    "d = o_new - o_old\n",
    "i = 1\n",
    "while d != 0:\n",
    "    o_old = O_new[0, 6]\n",
    "    O_old = O_new\n",
    "    O_new = min_plus_product(O_old, O)\n",
    "    o_new = O_new[0, 6]\n",
    "    d = o_new - o_old\n",
    "    i += 1\n",
    "\n",
    "print(i)\n",
    "print(o_new)\n",
    "print(O_new)"
   ]
  },
  {
   "cell_type": "markdown",
   "metadata": {},
   "source": [
    "### Method 3\n",
    "And alternatively again, we can define a function and include the loop in the function so that we can find the least-cost paths and its shortest distance between any two potentially reachable nodes $x$ and node $y$."
   ]
  },
  {
   "cell_type": "code",
   "execution_count": 23,
   "metadata": {},
   "outputs": [],
   "source": [
    "def compute_path(O, x, y):\n",
    "    \"\"\"\n",
    "    O is the direct distance matrix\n",
    "    x is the node we are going to start from\n",
    "    y is the node we are going to reach finally.\n",
    "    \"\"\"\n",
    "    O_old = O\n",
    "    O_new = min_plus_product(O_old, O)\n",
    "    o_old = O_old[x, y]\n",
    "    o_new = O_new[x, y]\n",
    "    d = o_new - o_old\n",
    "    i = 1\n",
    "    while d != 0:\n",
    "        o_old = O_new[x, y]\n",
    "        O_old = O_new\n",
    "        O_new = min_plus_product(O_old, O)\n",
    "        o_new = O_new[x, y]\n",
    "        d = o_new - o_old\n",
    "        i = i + 1\n",
    "    return (i, o_new, O_new)"
   ]
  },
  {
   "cell_type": "markdown",
   "metadata": {},
   "source": [
    "Therefore, we can easily find the shortest paths and the least cost from node 0 to node 6."
   ]
  },
  {
   "cell_type": "code",
   "execution_count": 24,
   "metadata": {},
   "outputs": [
    {
     "data": {
      "text/plain": [
       "(3, 8.0, array([[ 0.,  1.,  5.,  3.,  7.,  7.,  8.],\n",
       "        [inf,  0., inf,  9.,  6., 13., 10.],\n",
       "        [inf, inf,  0., inf, inf,  2.,  3.],\n",
       "        [inf, inf, inf,  0., inf,  4.,  5.],\n",
       "        [inf, inf, inf, inf,  0., inf,  4.],\n",
       "        [inf, inf, inf, inf, inf,  0.,  1.],\n",
       "        [inf, inf, inf, inf, inf, inf,  0.]]))"
      ]
     },
     "execution_count": 24,
     "metadata": {},
     "output_type": "execute_result"
    }
   ],
   "source": [
    "compute_path(O, 0, 6)"
   ]
  },
  {
   "cell_type": "code",
   "execution_count": null,
   "metadata": {},
   "outputs": [],
   "source": []
  }
 ],
 "metadata": {
  "kernelspec": {
   "display_name": "Python 3",
   "language": "python",
   "name": "python3"
  },
  "language_info": {
   "codemirror_mode": {
    "name": "ipython",
    "version": 3
   },
   "file_extension": ".py",
   "mimetype": "text/x-python",
   "name": "python",
   "nbconvert_exporter": "python",
   "pygments_lexer": "ipython3",
   "version": "3.7.1"
  }
 },
 "nbformat": 4,
 "nbformat_minor": 2
}
