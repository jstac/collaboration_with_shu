{
 "cells": [
  {
   "cell_type": "markdown",
   "metadata": {},
   "source": [
    "# 5 Job search 2_search and separation"
   ]
  },
  {
   "cell_type": "code",
   "execution_count": 3,
   "metadata": {},
   "outputs": [
    {
     "name": "stdout",
     "output_type": "stream",
     "text": [
      "Requirement already up-to-date: quantecon in /Users/shuhu/anaconda3/lib/python3.7/site-packages (0.4.5)\n",
      "Requirement already satisfied, skipping upgrade: numpy in /Users/shuhu/anaconda3/lib/python3.7/site-packages (from quantecon) (1.15.4)\n",
      "Requirement already satisfied, skipping upgrade: numba>=0.38 in /Users/shuhu/anaconda3/lib/python3.7/site-packages (from quantecon) (0.41.0)\n",
      "Requirement already satisfied, skipping upgrade: scipy>=1.0.0 in /Users/shuhu/anaconda3/lib/python3.7/site-packages (from quantecon) (1.1.0)\n",
      "Requirement already satisfied, skipping upgrade: sympy in /Users/shuhu/anaconda3/lib/python3.7/site-packages (from quantecon) (1.3)\n",
      "Requirement already satisfied, skipping upgrade: requests in /Users/shuhu/anaconda3/lib/python3.7/site-packages (from quantecon) (2.21.0)\n",
      "Requirement already satisfied, skipping upgrade: llvmlite>=0.26.0dev0 in /Users/shuhu/anaconda3/lib/python3.7/site-packages (from numba>=0.38->quantecon) (0.26.0)\n",
      "Requirement already satisfied, skipping upgrade: certifi>=2017.4.17 in /Users/shuhu/anaconda3/lib/python3.7/site-packages (from requests->quantecon) (2018.11.29)\n",
      "Requirement already satisfied, skipping upgrade: idna<2.9,>=2.5 in /Users/shuhu/anaconda3/lib/python3.7/site-packages (from requests->quantecon) (2.8)\n",
      "Requirement already satisfied, skipping upgrade: urllib3<1.25,>=1.21.1 in /Users/shuhu/anaconda3/lib/python3.7/site-packages (from requests->quantecon) (1.24.1)\n",
      "Requirement already satisfied, skipping upgrade: chardet<3.1.0,>=3.0.2 in /Users/shuhu/anaconda3/lib/python3.7/site-packages (from requests->quantecon) (3.0.4)\n"
     ]
    }
   ],
   "source": [
    "!pip install --upgrade quantecon"
   ]
  },
  {
   "cell_type": "code",
   "execution_count": 4,
   "metadata": {},
   "outputs": [],
   "source": [
    "import numpy as np\n",
    "from quantecon.distributions import BetaBinomial\n",
    "from numba import njit\n",
    "import matplotlib.pyplot as plt\n",
    "%matplotlib inline"
   ]
  },
  {
   "cell_type": "markdown",
   "metadata": {},
   "source": [
    "# 1 Overview\n",
    "\n",
    "One unrealistic feature of McCall model:\n",
    "Every job is permanent.\n",
    "\n",
    "In this lecture, we extend the McCall model by introducing job separation. \n",
    "\n",
    "Once separation enters the picture, the agent comes to view:\n",
    "\n",
    "1. the loss of a job as a capital loss, and \n",
    "2. a spell of unemployment as an investment in searching for an acceptable job."
   ]
  },
  {
   "cell_type": "markdown",
   "metadata": {},
   "source": [
    "# 2 The model\n",
    "\n",
    "The model concerns the life of an infinitely lived worker and\n",
    "\n",
    "1. the opportunities he has to work at different wages;\n",
    "2. Exogenous events that destroy his current job;\n",
    "3. his decision making process while unemployed\n",
    "\n",
    "The worker can be in one of two states: employed and unemployed.\n",
    "\n",
    "He wants to maximise\n",
    "$$\n",
    "E\\sum^{\\infty}_{t=0} \\beta^t u(Y_t) \\tag{1}\n",
    "$$\n",
    "The only difference from this to previous McCall model:\n",
    "\n",
    "We add some flexibility over preference by introducing a utility function $u$.\n",
    "\n",
    "It satisfies $u' >0$ and $u''<0$."
   ]
  },
  {
   "cell_type": "markdown",
   "metadata": {},
   "source": [
    "## Timing and decisions\n",
    "\n",
    "At the start of a given period:\n",
    "\n",
    "1. If currently employed, the worker consumes his wage $w$, receiving utility $u(w)$.\n",
    "\n",
    "   When employed, the agent faces a constant probability $\\alpha$ of being unemployed at the end of the period.\n",
    "\n",
    "2. If currently unemployed, he\n",
    "\n",
    "   2.1. receives and consumes unemployment compensation $c$ (or / and ?)\n",
    "\n",
    "   2.2. receives an offer to start work next period at a wage $w'$ drawn from a known distribution $\\phi$, but he can either accept or reject the offer:\n",
    "       a. If he accept the offer, then he enters next period employed with wage $w'$.\n",
    "       b. If he rejects the offer, then he enters next period unemployed.\n",
    "\n",
    "(Note: we do not allow for job search while employed, so the individual will not change his job if employed.)"
   ]
  },
  {
   "cell_type": "markdown",
   "metadata": {},
   "source": [
    "# 3 Solving the model using dynamic programming\n",
    "\n",
    "Let:\n",
    "\n",
    "1. $v(w)$ be the total lifetime value accruing to a worker who **enters** the current period employed with wage $w$.\n",
    "2. $h$ be the total lifetime value accruing to a worker who is **unemployed** this period.\n",
    "\n",
    "### Remark\n",
    "\n",
    "Value:the value of the objective function [(1)](#equation-objective)  when the worker makes optimal decisions at all future points in time.\n",
    "\n",
    "Suppose for now that the worker can calculate the function $v$ and the constant $h$ and use them in his decision making.\n",
    "\n",
    "Then $v$ and $h$ should satisfy:\n",
    "$$\n",
    "v(w) = u(w) + \\beta [(1-\\alpha)v(w) + \\alpha h] \\tag{2}\n",
    "$$\n",
    "and \n",
    "$$\n",
    "h = u(c) + \\beta \\sum_{w'} \\max{\\{ h, v(w') \\}} \\phi (w') \\tag{3}\n",
    "$$\n",
    "By the fact that today's tomorrow is tomorrow's today, equations [(2)](#) and [(3)](#) can be interpreted like this:\n",
    "\n",
    "1. The left-hand sides of equations [(2)](#) and [(3)](#) are the values of a worker in a particular situation today.\n",
    "2. The right-hand sides of those equations are the discounted (by $\\beta$) expected values of the possible situation that worker can be in tomorrow.\n",
    "3. But tomorrow, the worker can be in only one of the situations whose values today are on the left sides of our two equations.\n",
    "\n",
    "Equation [(3)](#) incorporates the fact that a currently unemployed worker will maximise this own welfare.\n",
    "\n",
    "In particular, if his next period wage offer is $w'$, then he will choose to remain unemployed unless $h < v(w')$.\n",
    "\n",
    "These two equations are the Bellman equations for this model, and they provide enought information to solve out for both $v$ and $h$.\n",
    "\n",
    "Before discussing the solution, let's make a small extension to the model.\n"
   ]
  },
  {
   "cell_type": "markdown",
   "metadata": {},
   "source": [
    "## Stochastic offers\n",
    "\n",
    "Suppose that unemployed workers only receive an offer with probability $\\gamma$.\n",
    "\n",
    "If our worker does receive an offer, then the wage offer is drawn from $\\phi$ as before.\n",
    "\n",
    "He either accepts or rejects the offer.\n",
    "\n",
    "Therefore, we have $v$ (same as above) and $h$ (modified) should now satisfy:\n",
    "$$\n",
    "v(w) = u(w) + \\beta [(1-\\alpha)v(w) + \\alpha h] \\tag{2}\n",
    "$$\n",
    "and \n",
    "$$\n",
    "h = u(c) + \\beta (1 - \\gamma)h +\\beta \\gamma \\sum_{w'} \\max{\\{ h, v(w') \\}} \\phi (w') \\tag{4}\n",
    "$$\n",
    "\n",
    "## Solving the Bellman Equations (Same iterative approach in McCall model)\n",
    "\n",
    "Steps:\n",
    "\n",
    "1. make guesses for $h$ and $v$;\n",
    "2. Plug these guesses into the right-hand sides of [(2)](#) and [(4)](#);\n",
    "3. update the left-hand sides from this rule and then repeat.\n",
    "\n",
    "In other words, we will iterate using the rules\n",
    "$$\n",
    "v_{n+1}(w') = u(w') + \\beta [(1-\\alpha)v_n(w') + \\alpha h] \\tag{5}\n",
    "$$\n",
    "and\n",
    "$$\n",
    "h_{n+1} = u(c) + \\beta (1 - \\gamma)h_n +\\beta \\gamma \\sum_{w'} \\max{\\{ h_n, v_n(w') \\}} \\phi (w') \\tag{6}\n",
    "$$\n",
    "starting from some initial conditions $h_0$ and $v_0$.\n",
    "\n",
    "As before, the system always converges to the true solutions, so the $v$ and $h$ that solve [(2)](#) and [(4)](#).\n",
    "\n",
    "A proof can be obtained via the Banach contraction mapping theorem."
   ]
  },
  {
   "cell_type": "markdown",
   "metadata": {},
   "source": [
    "# 4 Implementation the iterative process\n",
    "\n",
    "The default utility function is a Constant Relative Risk Aversion (CRRA) utility function.\n",
    "\n",
    "## Def. Constant Relative Risk Aversion Utility Function\n",
    "The Constant Relative Risk Aversion (CRRA) utility function is \n",
    "\n",
    "$$u(c) =\n",
    "\\begin{cases}\n",
    "\\frac{1}{1- \\sigma} c^{1- \\sigma} & if \\ \\sigma > 0, \\sigma \\neq 1 \\\\\n",
    "\\ln{c} & if \\ \\sigma =1 \n",
    "\\end{cases} $$\n",
    "where the parameter $\\sigma$ measures the degree of relative risk aversion that is implicit in the utility function."
   ]
  },
  {
   "cell_type": "code",
   "execution_count": 13,
   "metadata": {},
   "outputs": [],
   "source": [
    "# Default CRRA Utility Function\n",
    "\n",
    "@njit\n",
    "def u(c, sigma):\n",
    "    if c > 0:\n",
    "        return (c**(1 - sigma) - 1) / (1 - sigma)\n",
    "    else:\n",
    "        return -10e6\n",
    "    \n",
    "# we use \"class\" to store values of the McCall Model\n",
    "\n",
    "class McCallModel:       \n",
    "    def __init__(self,\n",
    "                alpha = 0.2,  # job separation rate\n",
    "                beta = 0.98,  # discount factor\n",
    "                gamma = 0.7,  # job offer rate\n",
    "                c = 6.0,      # unemployment compensation\n",
    "                sigma = 2.0,  # degree of relative risk aversion that is implicit in the utility function\n",
    "                w_vals = None,     #   ? What'None' means? \n",
    "                phi_vals = None):\n",
    "        self.alpha, self.beta, self.gamma, self.c = alpha, beta, gamma, c # Notice \n",
    "        self.sigma = sigma\n",
    "        if w_vals is None: \n",
    "            n = 60\n",
    "            self.w_vals = np.linspace(10, 20, n)\n",
    "            a, b = 600, 400\n",
    "            dist = BetaBinomial(n-1, a, b)\n",
    "            self.phi_vals = dist.pdf()\n",
    "        else:\n",
    "            self.w_vals = w_vals\n",
    "            self.phi_vals = phi_vals\n"
   ]
  },
  {
   "cell_type": "code",
   "execution_count": 14,
   "metadata": {},
   "outputs": [],
   "source": [
    "# jitted version of the Bellman equations h and v \n",
    "\n",
    "@njit\n",
    "def Q(v, h, paras):\n",
    "    alpha, beta, gamma, c, sigma, w_vals, phi_vals = paras\n",
    "    v_new = np.empty_like(v)\n",
    "    for i in range(len(w_vals)):\n",
    "        w = w_vals[i]\n",
    "        v_new[i] = u(w, sigma) + beta * ((1- alpha) * v[i] + alpha * h)\n",
    "    h_new = u(c , sigma) + beta * (1 - gamma ) * h + \\\n",
    "                          beta * gamma * np.sum(np.maximum(h, v) * phi_vals)\n",
    "    return v_new, h_new\n"
   ]
  },
  {
   "cell_type": "markdown",
   "metadata": {},
   "source": [
    "Idea of the Approach below: \n",
    "\n",
    "Step 1: To iterate until successive iterates are closer together than some small tolerance level.\n",
    "\n",
    "Step 2: Return the current iterate as an approximate solution."
   ]
  },
  {
   "cell_type": "code",
   "execution_count": 15,
   "metadata": {},
   "outputs": [],
   "source": [
    "def solve_model(mcm, tol=1e-5, max_iter = 2000):\n",
    "    v = np.ones_like(mcm.w_vals)\n",
    "    h = 1\n",
    "    i = 0\n",
    "    error = tol + 1\n",
    "    while error > tol and i < max_iter:\n",
    "        v_new, h_new = Q(v, h, (mcm.alpha, mcm.beta, mcm.gamma, mcm.c, mcm.sigma, \\\n",
    "                               mcm.w_vals, mcm.phi_vals)\n",
    "                        )\n",
    "        error_1 = np.max(np.abs(v_new - v))\n",
    "        error_2 = np.abs(h_new - h)\n",
    "        error = max(error_1, error_2)\n",
    "        v = v_new\n",
    "        h = h_new\n",
    "        i += 1\n",
    "    return v, h\n"
   ]
  },
  {
   "cell_type": "markdown",
   "metadata": {},
   "source": [
    "Plot the approximate solutions $v$ and $h$.\n",
    "\n",
    "The value $v$ is increasing in wage $w$ because higher $w$ generates a higher wage flow conditional on staying employed."
   ]
  },
  {
   "cell_type": "code",
   "execution_count": 16,
   "metadata": {},
   "outputs": [
    {
     "data": {
      "image/png": "[encoded data removed]",
      "text/plain": [
       "<Figure size 720x432 with 1 Axes>"
      ]
     },
     "metadata": {
      "needs_background": "light"
     },
     "output_type": "display_data"
    }
   ],
   "source": [
    "mcm = McCallModel()                 # Assign McCallModel to mcm\n",
    "v, h = solve_model(mcm)             \n",
    "fig, ax = plt. subplots(figsize=(10, 6))\n",
    "\n",
    "ax.plot(mcm.w_vals, v, 'b-', lw = 2, alpha = 0.7, label='$v$')\n",
    "ax.plot(mcm.w_vals, [h] * len(mcm.w_vals), 'g-', lw = 2, alpha =0.7, label='$h$')\n",
    "ax.set_xlim(min(mcm.w_vals), max(mcm.w_vals))\n",
    "ax.legend()\n",
    "ax.grid()\n",
    "\n",
    "plt.show()"
   ]
  },
  {
   "cell_type": "markdown",
   "metadata": {},
   "source": [
    "# 5 The reservation wage (Includes Exercises)\n",
    "\n",
    "Once $v$ and $h$ are known, the agenet can use them to make decisions in the face of a given wage offer:\n",
    "\n",
    "1. If $v(w)>h$, then working at wage $w$ is preferred to unemployment;\n",
    "2. If $v(w)<h$, then remaining unemployed will generate greater lifetime value.\n",
    "\n",
    "## Def. (The reservation wage)\n",
    "Suppose that $v$ crosses $h$.\n",
    "Then since $v$ is increasing, there is unique smallest $w$ in thes et of possible wage such that $v(w)\\geq h$.\n",
    "Denote this wage $\\bar{w}$ and call it the reservation wage.\n",
    "\n",
    "\n",
    "Optiaml behavior for the worker is characterised by $\\bar{w}$:\n",
    "\n",
    "1. If the wage offer $w$ in hand is greater than or equal to $\\bar{w}$, then the worker accepts it;\n",
    "2. If the wage offer $w$ in ahnd is less than $\\bar{w}$, then the worker rejects it.\n",
    "\n",
    "'compute_reservation_wage': An example of McCall Model. It returns the reservation wage associated with a given model. It uses the code 'np.searchsorted' to obtain the first $w$ in the set of possible wages such that $ v(w) > h $. If $v(w)<h$ for all $w$, then the function returns np.inf"
   ]
  },
  {
   "cell_type": "code",
   "execution_count": 43,
   "metadata": {},
   "outputs": [],
   "source": [
    "\n",
    "\n",
    "def compute_reservation_wage(mcm, return_values=False):\n",
    "    v, h = solve_model(mcm)\n",
    "    w_idx = np.searchsorted( v - h, 0) #  How to understand it?\n",
    "    if w_idx == len(v): # len(): it returns an integer which is the length of the string\n",
    "        w_bar = np.inf  # \n",
    "    else:\n",
    "        w_bar = mcm.w_vals[w_idx]\n",
    "        \n",
    "    if not return_values:\n",
    "        return w_bar\n",
    "    else:\n",
    "        return w_bar, v, h\n"
   ]
  },
  {
   "cell_type": "markdown",
   "metadata": {},
   "source": [
    "### Brief introduction about 'np.searchsorted' (I Still feel confused about this function)\n",
    "Syntax: numpy.searchsorted(a, v, side='left', sorter=None)\n",
    "\n",
    "Parameters:\n",
    "1. a: 1-D array_like.\n",
    "Input array, if sorter is None, then it must be sorted in ascending order, otherwise sorter must be an array of indices that sort it.\n",
    "2. v: array_like.\n",
    "Values to insert into $a$.\n",
    "3. side: {'left', 'right'}, optional.\n",
    "4. sorter: 1-D array_like, optional.\n",
    "\n",
    "This function will find the indices into a sorted array $a$ such that, if the corresponding elements in $v$ were inserted before the indices, the order of $a$ would be preserved.\n",
    "\n",
    "Returns: indices i that satisfy $ a[i-1] < v < a[i] $.\n"
   ]
  },
  {
   "cell_type": "markdown",
   "metadata": {},
   "source": [
    "## The reservation wage $\\bar w$ vs Parameters (Similar to Comparative analysis?)\n",
    "\n",
    "We will see how the reservation wage $\\bar w$ varies with parameters.\n",
    "\n",
    "### Question?\n",
    "We should notice that for the following 4 figures, there are some regions that the reservation wage will not respond to the change in those parameters, why is that?\n",
    "\n",
    "### The reservation wage $\\bar w$ and unemployment compensation $c$\n",
    "\n",
    "The reservation wage $\\bar w$ increases in unemployment compensation $c$, but at a decreasing rate.\n",
    "\n",
    "Higher unemployment compensation $c$ causes the worker to hold out for higher wages $\\bar w$, but the cost of continuing job search is reduced."
   ]
  },
  {
   "cell_type": "code",
   "execution_count": 44,
   "metadata": {
    "scrolled": true
   },
   "outputs": [
    {
     "data": {
      "image/png": "[encoded data removed]",
      "text/plain": [
       "<Figure size 720x432 with 1 Axes>"
      ]
     },
     "metadata": {
      "needs_background": "light"
     },
     "output_type": "display_data"
    }
   ],
   "source": [
    "# Reservation wage and unemployment compensation c\n",
    "grid_size = 25\n",
    "c_vals = np.linspace(2, 12, grid_size)\n",
    "w_bar_vals = np.empty_like(c_vals)\n",
    "\n",
    "mcm = McCallModel()\n",
    "\n",
    "fig, ax = plt.subplots(figsize= (10, 6))\n",
    "\n",
    "for i, c in enumerate(c_vals):\n",
    "    mcm.c = c\n",
    "    w_bar = compute_reservation_wage(mcm)\n",
    "    w_bar_vals[i] = w_bar\n",
    "    \n",
    "ax.set(xlabel = 'unemployment compensation',\n",
    "      ylabel = 'reservation wage')\n",
    "ax.plot(c_vals, w_bar_vals, label=r'$\\bar w$ as a function of $c$')\n",
    "ax.grid()\n",
    "ax.legend()\n",
    "\n",
    "plt.show()"
   ]
  },
  {
   "cell_type": "markdown",
   "metadata": {},
   "source": [
    "## Reservation wage and discounting factor $\\beta$\n",
    "\n",
    "Reservation wage $\\bar w$ increases in the discounting factor $\\beta$, at a constant rate (?).\n",
    "\n",
    "Intuition behind the figure:\n",
    "More patient worker will hold out for higher wages."
   ]
  },
  {
   "cell_type": "code",
   "execution_count": 45,
   "metadata": {},
   "outputs": [
    {
     "data": {
      "image/png": "[encoded data removed]",
      "text/plain": [
       "<Figure size 720x432 with 1 Axes>"
      ]
     },
     "metadata": {
      "needs_background": "light"
     },
     "output_type": "display_data"
    }
   ],
   "source": [
    "# Reservation wage and discounting beta\n",
    "grid_size = 25\n",
    "beta_vals = np.linspace(0, 1, grid_size) \n",
    "w_bar_vals = np.empty_like(beta_vals)\n",
    "\n",
    "mcm = McCallModel()\n",
    "\n",
    "fig, ax = plt.subplots(figsize= (10, 6))\n",
    "\n",
    "for i, beta in enumerate(beta_vals):\n",
    "    mcm.beta = beta\n",
    "    w_bar = compute_reservation_wage(mcm)\n",
    "    w_bar_vals[i] = w_bar\n",
    "    \n",
    "ax.set(xlabel = 'discount factor',\n",
    "      ylabel = 'reservation wage')\n",
    "ax.plot(beta_vals, w_bar_vals, label=r'$\\bar w$ as a function of $\\beta$')\n",
    "ax.grid()\n",
    "ax.legend()\n",
    "\n",
    "plt.show()"
   ]
  },
  {
   "cell_type": "markdown",
   "metadata": {},
   "source": [
    "## Reservation wage $\\bar w$ and job separation rate $\\alpha$\n",
    "\n",
    "The reservation wage $\\bar w$ is decreasing in the job separation rate $\\alpha$, at a decreasing rate (?).\n",
    "\n",
    "Intuition behind: \n",
    "Higher job seperation rate $\\alpha$: a greater chance that a worker will face termination in each period once employed.\n",
    "If the separation rate is high, then the benefit of holding out for a higher wage falls, and the worker's reservation wage would falls down."
   ]
  },
  {
   "cell_type": "code",
   "execution_count": 46,
   "metadata": {},
   "outputs": [
    {
     "data": {
      "image/png": "[encoded data removed]",
      "text/plain": [
       "<Figure size 720x432 with 1 Axes>"
      ]
     },
     "metadata": {
      "needs_background": "light"
     },
     "output_type": "display_data"
    }
   ],
   "source": [
    "# Reservation wage and job separation rate alpha\n",
    "grid_size = 25\n",
    "alpha_vals = np.linspace(0, 1, grid_size)\n",
    "w_bar_vals = np.empty_like(alpha_vals)\n",
    "\n",
    "mcm = McCallModel()\n",
    "\n",
    "fig, ax = plt.subplots(figsize= (10, 6))\n",
    "\n",
    "for i, alpha in enumerate(alpha_vals):\n",
    "    mcm.alpha = alpha\n",
    "    w_bar = compute_reservation_wage(mcm)\n",
    "    w_bar_vals[i] = w_bar\n",
    "    \n",
    "ax.set(xlabel = 'job separation rate',\n",
    "      ylabel = 'reservation wage')\n",
    "ax.plot(alpha_vals, w_bar_vals, label=r'$\\bar w$ as a function of $\\alpha$')\n",
    "ax.grid()\n",
    "ax.legend()\n",
    "\n",
    "plt.show()"
   ]
  },
  {
   "cell_type": "markdown",
   "metadata": {},
   "source": [
    "## The reservation wage $\\bar w$ and job offer rate $\\gamma$\n",
    "\n",
    "The reservation wage $\\bar w$ is increasing in the job offer rate $\\gamma$, but the rate is nonconstant.\n",
    "\n",
    "Intuition behind:\n",
    "Higher job offer rate $\\gamma$ implies a more favorable job search environment.\n",
    "So workers are less willing to accept lower offers in this environment.\n"
   ]
  },
  {
   "cell_type": "code",
   "execution_count": 47,
   "metadata": {},
   "outputs": [
    {
     "data": {
      "image/png": "[encoded data removed]",
      "text/plain": [
       "<Figure size 720x432 with 1 Axes>"
      ]
     },
     "metadata": {
      "needs_background": "light"
     },
     "output_type": "display_data"
    }
   ],
   "source": [
    "# reservation wage and job offer rate gamma\n",
    "grid_size = 25\n",
    "gamma_vals = np.linspace(0.05, 0.95, grid_size)\n",
    "w_bar_vals = np.empty_like(gamma_vals)\n",
    "\n",
    "mcm = McCallModel()\n",
    "\n",
    "fig, ax = plt.subplots(figsize= (10, 6))\n",
    "\n",
    "for i, gamma in enumerate(gamma_vals):\n",
    "    mcm.gamma = gamma\n",
    "    w_bar = compute_reservation_wage(mcm)\n",
    "    w_bar_vals[i] = w_bar\n",
    "    \n",
    "ax.set(xlabel = 'job offer rate',\n",
    "      ylabel = 'reservation wage')\n",
    "ax.plot(gamma_vals, w_bar_vals, label=r'$\\bar w$ as a function of $\\gamma$')\n",
    "ax.grid()\n",
    "ax.legend()\n",
    "\n",
    "plt.show()"
   ]
  },
  {
   "cell_type": "code",
   "execution_count": null,
   "metadata": {},
   "outputs": [],
   "source": []
  },
  {
   "cell_type": "code",
   "execution_count": null,
   "metadata": {},
   "outputs": [],
   "source": []
  },
  {
   "cell_type": "code",
   "execution_count": null,
   "metadata": {},
   "outputs": [],
   "source": []
  },
  {
   "cell_type": "code",
   "execution_count": null,
   "metadata": {},
   "outputs": [],
   "source": []
  },
  {
   "cell_type": "code",
   "execution_count": null,
   "metadata": {},
   "outputs": [],
   "source": []
  },
  {
   "cell_type": "code",
   "execution_count": null,
   "metadata": {},
   "outputs": [],
   "source": []
  },
  {
   "cell_type": "code",
   "execution_count": null,
   "metadata": {},
   "outputs": [],
   "source": []
  },
  {
   "cell_type": "code",
   "execution_count": null,
   "metadata": {},
   "outputs": [],
   "source": []
  }
 ],
 "metadata": {
  "kernelspec": {
   "display_name": "Python 3",
   "language": "python",
   "name": "python3"
  },
  "language_info": {
   "codemirror_mode": {
    "name": "ipython",
    "version": 3
   },
   "file_extension": ".py",
   "mimetype": "text/x-python",
   "name": "python",
   "nbconvert_exporter": "python",
   "pygments_lexer": "ipython3",
   "version": "3.7.1"
  }
 },
 "nbformat": 4,
 "nbformat_minor": 2
}
