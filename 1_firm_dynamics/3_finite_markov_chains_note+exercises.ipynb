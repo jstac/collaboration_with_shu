{
 "cells": [
  {
   "cell_type": "markdown",
   "metadata": {},
   "source": [
    "# 3 Finite markov chains"
   ]
  },
  {
   "cell_type": "code",
   "execution_count": 1,
   "metadata": {
    "scrolled": true
   },
   "outputs": [
    {
     "name": "stdout",
     "output_type": "stream",
     "text": [
      "Requirement already up-to-date: quantecon in /Users/shuhu/anaconda3/lib/python3.7/site-packages (0.4.5)\n",
      "Requirement already satisfied, skipping upgrade: numba>=0.38 in /Users/shuhu/anaconda3/lib/python3.7/site-packages (from quantecon) (0.41.0)\n",
      "Requirement already satisfied, skipping upgrade: sympy in /Users/shuhu/anaconda3/lib/python3.7/site-packages (from quantecon) (1.3)\n",
      "Requirement already satisfied, skipping upgrade: scipy>=1.0.0 in /Users/shuhu/anaconda3/lib/python3.7/site-packages (from quantecon) (1.1.0)\n",
      "Requirement already satisfied, skipping upgrade: requests in /Users/shuhu/anaconda3/lib/python3.7/site-packages (from quantecon) (2.21.0)\n",
      "Requirement already satisfied, skipping upgrade: numpy in /Users/shuhu/anaconda3/lib/python3.7/site-packages (from quantecon) (1.15.4)\n",
      "Requirement already satisfied, skipping upgrade: llvmlite>=0.26.0dev0 in /Users/shuhu/anaconda3/lib/python3.7/site-packages (from numba>=0.38->quantecon) (0.26.0)\n",
      "Requirement already satisfied, skipping upgrade: chardet<3.1.0,>=3.0.2 in /Users/shuhu/anaconda3/lib/python3.7/site-packages (from requests->quantecon) (3.0.4)\n",
      "Requirement already satisfied, skipping upgrade: idna<2.9,>=2.5 in /Users/shuhu/anaconda3/lib/python3.7/site-packages (from requests->quantecon) (2.8)\n",
      "Requirement already satisfied, skipping upgrade: urllib3<1.25,>=1.21.1 in /Users/shuhu/anaconda3/lib/python3.7/site-packages (from requests->quantecon) (1.24.1)\n",
      "Requirement already satisfied, skipping upgrade: certifi>=2017.4.17 in /Users/shuhu/anaconda3/lib/python3.7/site-packages (from requests->quantecon) (2018.11.29)\n"
     ]
    }
   ],
   "source": [
    "!pip install --upgrade quantecon"
   ]
  },
  {
   "cell_type": "markdown",
   "metadata": {},
   "source": [
    "## 3.1 Overview\n",
    "\n",
    "Markov chains are one of the most useful classes of **stochastic processes** (?), being\n",
    "\n",
    "1. simple, flexible and supported by many elegant theoretical results\n",
    "2. valuable for building intuition about random dynamic models\n",
    "3. Central to quantitative modeling in their own right\n",
    "\n",
    "Here, we review some of the theory of Markov chains and also introduce some of the high-quality routines for working with Markov chains available in QuantEcon.py\n",
    "\n",
    "Prerequisite knowledge: basic probability and linear algebra."
   ]
  },
  {
   "cell_type": "markdown",
   "metadata": {},
   "source": [
    "## 3.2 Definitions of Stochastic matrices and Markov Chain\n",
    "\n",
    "### Def. (Stochatic (markov) matrices)\n",
    "\n",
    "A stochastic matrix (or Markov matrix) is an $n \\times n$ square matrix $P=(p_{i,j})$ such that\n",
    "\n",
    "1. Each element of $P$ is nonnegative ($ p_{i,j} \\geq 0$), and\n",
    "2. each row of $P$ sums to 1, i.e., $p_{i,1} + p_{i,2} + \\cdots + p_{i,n} = 1$ for $i \\in \\{ 1, …, n \\}$.\n",
    "\n",
    "#### Remarks\n",
    "\n",
    "Each row of $P$, $p_{i,j} (j)$ can be regarded as a probability mass function over $n$ possible outcomes.\n",
    "\n",
    "#### Proposition (To be checked (1))\n",
    "\n",
    "If $P$ is a stochastic matrix, then the $k$-th power $P^k$ for all $k \\in \\N$ is also a stochastic matrix. \n",
    "\n",
    "### Def. (Markov Chains)\n",
    "\n",
    "Let $S$ be a finite set with $n$ elements $\\{ x_1, …, x_n\\}$, where the set $S$ is called the state space and $x_1, …, x_n$ are the state values.\n",
    "\n",
    "A **Markov chain** $\\{ X_t \\}$ on $S$ is a sequence of random variables on $S$ that have the **Markov property**: for any date $t$ and any state $y \\in S$,\n",
    "$$\n",
    "\\mathcal{P} \\{ X_{t+1} = y | X_t \\} = \\mathcal{P} \\{X_{t+1} = y | X_t, X_{t-1},...\\}\n",
    "$$\n",
    "The dynamics of a Markov chain are fully determined by the set of values\n",
    "$$\n",
    "P(x,y)= \\mathcal{P} \\{ X_{t+1} = y | X_t =x \\} \\ (x, y \\in S)\n",
    "$$\n",
    "\n",
    "#### Way 1: Construct a Stochastic matrix by using Markov Chains\n",
    "\n",
    "By construction,\n",
    "\n",
    "1. $P(x,y)$ is the probability of going from $x$ to $y$ in one unit of time (one step);\n",
    "2. $P(x, \\cdot)$ is the conditional distribution of $X_{t+1}$, given $X_t=x$.\n",
    "\n",
    "We can view $P$ as a stochastic matrix, where $P_{i,j}=P(x_i, x_j)$  $1 \\leq i,j \\leq n$.\n",
    "\n",
    "#### Way 2: Generate a Markov Chain by a Stochastic matrix $P$\n",
    "\n",
    "Alternatively, if we take a stochastic matrix $P$, we can generate a Markov chain $\\{ X_t \\}$ as following:\n",
    "\n",
    "1. Draw $X_0$ from some specified distribution;\n",
    "2. for each $t=0,1,…$, draw $X_{t+1}$ from $P(X_t, \\cdot)$.\n",
    "\n",
    "By construction, the resulting process satisfies $(2)$.\n",
    "\n",
    "#### Note\n",
    "\n",
    "1. That is, Conditional probability of future state on current state equals the conditional probability of future state on current and all past states, or equivalently, knowing the current state is enough to know probabilities for future states.\n",
    "\n",
    "### Example 1 Job seek model\n",
    "### Example 2 Economic growth model\n"
   ]
  },
  {
   "cell_type": "markdown",
   "metadata": {},
   "source": [
    "## 3.1 Simulation\n",
    "One natural way to answer questions about Markov Chains is to simulate them(?). e.g., to approximate the probability of event $E$, we can simulate many times and count and fraction of times that $E$ occurs.\n",
    "\n",
    "Nice functionality for simulating Markov Chains exists in QuantEcon.py, but we can try to roll our own routines firstly.\n",
    "\n",
    "Assume that we will take the state space to be $S=0,…, n-1$ for the following exercises.\n",
    "\n",
    "### Rolling my own simulation***\n",
    "\n",
    "To simulate a Markov Chain requires two things:\n",
    "\n",
    "1. its stochastic matrix $P$ and \n",
    "2. either an initial state or a probability distribution $\\psi$ for initial state to be drawn from.\n",
    "\n",
    "The Markov chain then can be constructed by repeating:\n",
    "\n",
    "1. At time $t=0$, the $X_0$ is set to some fixed state or chosen from $\\psi$.\n",
    "2. At each subsequent time $t$, the new state $X_{t+1}$ is drawn from $P(X_t, \\cdot)$.\n",
    "\n",
    "In order to implement this simulation procedure, we need a method (DiscreteRV from QuantEcon; **?**) for generating draws from a discrete distribution.[See finite_markov_chains.ipynb]\n",
    "\n",
    "We will write our code as a function that takes the following three arguments:\n",
    "\n",
    "1. A stochastic matrix $P$;\n",
    "2. An initial state $init$;\n",
    "3. A positive integer $sample\\_size$ representing the length of the time series the function should return (?)."
   ]
  },
  {
   "cell_type": "code",
   "execution_count": 16,
   "metadata": {},
   "outputs": [
    {
     "data": {
      "text/plain": [
       "array([1, 1, 1, 1, 1, 1, 1, 1, 1, 1])"
      ]
     },
     "execution_count": 16,
     "metadata": {},
     "output_type": "execute_result"
    }
   ],
   "source": [
    "import quantecon as qe\n",
    "import numpy as np\n",
    "\n",
    "psi = (0.1, 0.9)\n",
    "cdf = np.cumsum(psi)            \n",
    "qe.random.draw(cdf, 10)         # generate 5 random samples according to cdf"
   ]
  },
  {
   "cell_type": "code",
   "execution_count": 17,
   "metadata": {},
   "outputs": [],
   "source": [
    "# Define a function that used 3 conditions to compute new state draw from phi\n",
    "\n",
    "def mc_sample_path(P, init=0, sample_size=1000):\n",
    "    P = np.asarray(P) # make sure P is a NumPy array\n",
    "    X = np.empty(sample_size, dtype=int) # allocate memory\n",
    "    X[0] = init \n",
    "    n = len(P) # return an integer which is the length of the string\n",
    "    P_dist = [np.cumsum(P[i, :]) for i in range(n)]\n",
    "    for t in range(sample_size - 1):\n",
    "        X[t+1] = qe.random.draw(P_dist[X[t]])\n",
    "    return X"
   ]
  },
  {
   "cell_type": "code",
   "execution_count": 18,
   "metadata": {},
   "outputs": [
    {
     "data": {
      "text/plain": [
       "0.24833"
      ]
     },
     "execution_count": 18,
     "metadata": {},
     "output_type": "execute_result"
    }
   ],
   "source": [
    "P = [[0.4, 0.6], [0.2, 0.8]]\n",
    "\n",
    "X = mc_sample_path(P, sample_size=100000)\n",
    "np.mean(X == 0) # fraction of the sample that takes value 0; value will vary for every serie generated"
   ]
  },
  {
   "cell_type": "markdown",
   "metadata": {},
   "source": [
    "## Using QuantEcon's routine\n",
    "\n",
    "QuantEcon use JIT compiled (Numba) and much faster. (? An error.)\n",
    "\n",
    "#### Remark\n",
    "\n",
    "Just-in-time (JIT) compilation is a way of executing computer code that involves compilation during execution of a program (at run time) rather than prior to execution.\n",
    "\n",
    "It can do this because this consists of source code or more commonly bytecode translation to machine code, which is then executed directly.\n",
    "\n",
    "#### Adding state values and initial conditions\n",
    "\n",
    "If we wish to, we can provide a specification of state values to $MarkovChain$.\n",
    "\n",
    "These state values can be integers, floats, or even strings."
   ]
  },
  {
   "cell_type": "code",
   "execution_count": 19,
   "metadata": {},
   "outputs": [
    {
     "data": {
      "text/plain": [
       "0.24858"
      ]
     },
     "execution_count": 19,
     "metadata": {},
     "output_type": "execute_result"
    }
   ],
   "source": [
    "P = [[0.4, 0.6], [0.2, 0.8]]\n",
    "\n",
    "X = mc_sample_path(P, sample_size=100000)\n",
    "np.mean(X == 0)"
   ]
  },
  {
   "cell_type": "code",
   "execution_count": 21,
   "metadata": {},
   "outputs": [
    {
     "name": "stdout",
     "output_type": "stream",
     "text": [
      "618 ms ± 6.55 ms per loop (mean ± std. dev. of 7 runs, 1 loop each)\n"
     ]
    }
   ],
   "source": [
    "%timeit mc_sample_path(P, sample_size=1000000) # A magic function used to time a particular piece of goods."
   ]
  },
  {
   "cell_type": "code",
   "execution_count": 22,
   "metadata": {},
   "outputs": [
    {
     "name": "stdout",
     "output_type": "stream",
     "text": [
      "25.9 ms ± 484 µs per loop (mean ± std. dev. of 7 runs, 10 loops each)\n"
     ]
    }
   ],
   "source": [
    "%timeit mc.simulate(ts_length=1000000) # qe way ?"
   ]
  },
  {
   "cell_type": "code",
   "execution_count": null,
   "metadata": {},
   "outputs": [],
   "source": []
  },
  {
   "cell_type": "code",
   "execution_count": 55,
   "metadata": {},
   "outputs": [
    {
     "data": {
      "text/plain": [
       "array(['employed', 'unemployed', 'employed', 'employed', 'employed',\n",
       "       'employed'], dtype='<U10')"
      ]
     },
     "execution_count": 55,
     "metadata": {},
     "output_type": "execute_result"
    }
   ],
   "source": [
    "mc = qe.MarkovChain(P, state_values=('unemployed', 'employed'))\n",
    "mc.simulate(ts_length = 6, init = 'employed') # start at 'employed'; simulation"
   ]
  },
  {
   "cell_type": "code",
   "execution_count": 56,
   "metadata": {},
   "outputs": [
    {
     "data": {
      "text/plain": [
       "array(['unemployed', 'unemployed', 'unemployed', 'unemployed', 'employed',\n",
       "       'employed'], dtype='<U10')"
      ]
     },
     "execution_count": 56,
     "metadata": {},
     "output_type": "execute_result"
    }
   ],
   "source": [
    "mc.simulate(ts_length = 6, init = 'unemployed') # start at 'unemployed'"
   ]
  },
  {
   "cell_type": "code",
   "execution_count": 57,
   "metadata": {},
   "outputs": [
    {
     "data": {
      "text/plain": [
       "array(['employed', 'employed', 'employed', 'unemployed', 'employed',\n",
       "       'unemployed'], dtype='<U10')"
      ]
     },
     "execution_count": 57,
     "metadata": {},
     "output_type": "execute_result"
    }
   ],
   "source": [
    "mc.simulate(ts_length = 6) # start at a randomly chosen initial state"
   ]
  },
  {
   "cell_type": "code",
   "execution_count": 58,
   "metadata": {},
   "outputs": [
    {
     "data": {
      "text/plain": [
       "array([0, 1, 0, 1, 1, 1])"
      ]
     },
     "execution_count": 58,
     "metadata": {},
     "output_type": "execute_result"
    }
   ],
   "source": [
    "mc.simulate_indices(ts_length=6) ## simulate with output as indices rather than state values."
   ]
  },
  {
   "cell_type": "code",
   "execution_count": null,
   "metadata": {},
   "outputs": [],
   "source": []
  },
  {
   "cell_type": "markdown",
   "metadata": {},
   "source": [
    "## 3.5 Irreducibility and aperiodicity"
   ]
  },
  {
   "cell_type": "markdown",
   "metadata": {},
   "source": [
    "### Irreducibility\n",
    "\n",
    "#### Def. (Two states communicate)\n",
    "\n",
    "Let $P$ be a fixed stochastic matrix.\n",
    "\n",
    "Two states $x$ and $y$ are said to communicate with each other if there exist positive integers $j$ and $k$ such that \n",
    "$$\n",
    "P^j(x,y) > 0 \\ and \\ P^k(y,x) > 0\n",
    "$$\n",
    "which means precisely that \n",
    "\n",
    "1. state $x$ can be reached eventually from state $y$,\n",
    "2. state $y$ can be reached eventually from state $x$.\n",
    "\n",
    "#### Def. (Irreducibility)\n",
    "\n",
    "The stochastic matrix $P$ is called **irreducible** if all states communicate, that is, $x$ and $y$ communicate for **all** $(x,y)$ in $S \\times S$.\n",
    "\n",
    "##### Remark\n",
    "\n",
    "Irreducibility is important in terms of long run outcomes. e.g., poverty is a life sentence in the second graph but not the first."
   ]
  },
  {
   "cell_type": "code",
   "execution_count": 66,
   "metadata": {},
   "outputs": [
    {
     "data": {
      "text/plain": [
       "True"
      ]
     },
     "execution_count": 66,
     "metadata": {},
     "output_type": "execute_result"
    }
   ],
   "source": [
    "# Case 1:\n",
    "P = [[0.9, 0.1, 0.0],\n",
    "     [0.4, 0.4, 0.2],\n",
    "     [0.1, 0.1, 0.8]]\n",
    "mc = qe.MarkovChain(P, ('poor', 'middle', 'rich'))\n",
    "mc.is_irreducible"
   ]
  },
  {
   "cell_type": "code",
   "execution_count": 68,
   "metadata": {},
   "outputs": [
    {
     "data": {
      "text/plain": [
       "False"
      ]
     },
     "execution_count": 68,
     "metadata": {},
     "output_type": "execute_result"
    }
   ],
   "source": [
    "# Case 2: the poor are poor forever\n",
    "P = [[1.0, 0.0, 0.0],\n",
    "     [0.1, 0.8, 0.1],\n",
    "     [0.0, 0.2, 0.8]]\n",
    "mc = qe.MarkovChain(P, ('poor', 'middle', 'rich'))\n",
    "mc.is_irreducible       # identify whether this matrix is irreducible"
   ]
  },
  {
   "cell_type": "code",
   "execution_count": 69,
   "metadata": {},
   "outputs": [
    {
     "data": {
      "text/plain": [
       "[array(['poor'], dtype='<U6'), array(['middle', 'rich'], dtype='<U6')]"
      ]
     },
     "execution_count": 69,
     "metadata": {},
     "output_type": "execute_result"
    }
   ],
   "source": [
    "# Determine the \"communication classes\"\n",
    "mc.communication_classes"
   ]
  },
  {
   "cell_type": "markdown",
   "metadata": {},
   "source": [
    "### Aperiodicity\n",
    "\n",
    "#### Def. (Periodicity; Informal)\n",
    "\n",
    "A Markov chain is called periodic if it cycles in a predictable way, and aperiodic otherwise.\n",
    "\n",
    "#### Def. (Period)\n",
    "\n",
    "The period of a state $x$ is the greatest common divisor of the set of integers\n",
    "$$\n",
    "D(x) = \\{ j \\geq 1 |P^j(x,x) >0 \\}\n",
    "$$\n",
    "\n",
    "#### Def. (Aperiodicity: formal)\n",
    "\n",
    "A stochastic matrix is called aperiodic if the period of every state is 1, and periodic otherwise."
   ]
  },
  {
   "cell_type": "code",
   "execution_count": 23,
   "metadata": {},
   "outputs": [
    {
     "data": {
      "text/plain": [
       "3"
      ]
     },
     "execution_count": 23,
     "metadata": {},
     "output_type": "execute_result"
    }
   ],
   "source": [
    "P = [[0, 1, 0],\n",
    "     [0, 0, 1],\n",
    "     [1, 0, 0]]\n",
    "mc = qe.MarkovChain(P, ('poor', 'middle', 'rich'))\n",
    "mc.period           # compute the period of the chain with stochastic matrix P"
   ]
  },
  {
   "cell_type": "code",
   "execution_count": 74,
   "metadata": {},
   "outputs": [
    {
     "data": {
      "text/plain": [
       "False"
      ]
     },
     "execution_count": 74,
     "metadata": {},
     "output_type": "execute_result"
    }
   ],
   "source": [
    "\n",
    "mc.is_aperiodic     # identify whether P is aperiodic"
   ]
  },
  {
   "cell_type": "code",
   "execution_count": 78,
   "metadata": {},
   "outputs": [
    {
     "data": {
      "text/plain": [
       "2"
      ]
     },
     "execution_count": 78,
     "metadata": {},
     "output_type": "execute_result"
    }
   ],
   "source": [
    "P = [[0.0, 1.0, 0.0, 0.0],\n",
    "     [0.5, 0.0, 0.5, 0.0],\n",
    "     [0.0, 0.5, 0.0, 0.5],\n",
    "     [0.0, 0.0, 1.0, 0.0]]\n",
    "\n",
    "mc = qe.MarkovChain(P)\n",
    "mc.period           # compute the period of the chain with stochastic matrix P"
   ]
  },
  {
   "cell_type": "code",
   "execution_count": 79,
   "metadata": {},
   "outputs": [
    {
     "data": {
      "text/plain": [
       "False"
      ]
     },
     "execution_count": 79,
     "metadata": {},
     "output_type": "execute_result"
    }
   ],
   "source": [
    "mc.is_aperiodic     # identify whether P is aperiodic"
   ]
  },
  {
   "cell_type": "markdown",
   "metadata": {},
   "source": [
    "## 3.6 Stationary distributions\n",
    "\n",
    "As seen in $(5)$, we can shift probabilities forward one unit of time via post multiplication by $P$.\n",
    "\n",
    "Some distributions are invariant under this updating process, and such distributions are called stationary, or invariant.\n",
    "\n",
    "### Def. (Stationary, Invariant)\n",
    "\n",
    "A distribution $\\psi^*$ on $S$ is called stationary for $P$ if \n",
    "$$\n",
    "\\psi^* = \\psi^* P\n",
    "$$\n",
    "\n",
    "#### Remarks\n",
    "\n",
    "1. From $(14)$, we can get $\\psi^* = \\psi^* P^t$ for all $t$.\n",
    "\n",
    "which tells us an **important fact**:\n",
    "\n",
    "If the distribution of $X_0$ is a stationary distribution, then $X_t$ will have this same distribution for all $t$.\n",
    "\n",
    "2. Hence, stationary distributions have a natural interpretation as stochastic steady states.\n",
    "3. Mathematically, a stationary distribution is a fixed point of $P$ when $P$ is thought of as the map $P: \\psi \\to \\psi$ (**A little mistake in the lecture notes**) from (row) vectors to (row) vectors.\n",
    "\n",
    "### Thm.1 (Stochastic matrix vs. Stationary distribution; Existence)\n",
    "\n",
    "Assume that the state space $S$ is finite if not more assumptions are required.\n",
    "\n",
    "Every stochastic matrix $P$ has at least one stationary distribution.\n",
    "\n",
    "#### Proof\n",
    "\n",
    "#### Remarks\n",
    "\n",
    "1. There may in fact be many stationary distributions corresponding to a given stochastic matrix $P$. e.g., if $P$ is the identity matrix, then all distributions are stationary.\n",
    "2. Since stationary distributions are long-run equilibria, to get uniqueness we require that initial conditions are not ifnitely persistent.\n",
    "3. Infinite persistence of initial conditions occurs if certain regions of the state space cannot be accessed from other regions, which is the opposite of irreducibility, which gives some intuition for the following fundamental theorem.\n",
    "\n",
    "### Thm.2 (Markov Chain Convergence Theorem)\n",
    "\n",
    "If $P$ is both aperiodic and irreducible, then\n",
    "\n",
    "1. $P$ has exactly one stationary distribution $\\psi^*$;\n",
    "2. For any initial distribution $\\psi_0$,  we have $\\| \\psi_0 P^t - \\psi^* \\| \\to 0 \\ as \\ t \\to \\infty$.\n",
    "\n",
    "#### Proof\n",
    "\n",
    "#### Remarks\n",
    "\n",
    "1. Part 1 of theorem requires only irreducibility, while part 2 requires both irreducibility and aperiodicity.\n",
    "\n",
    "### Def. (Uniformly ergodic)\n",
    "\n",
    "A stochastic matrix satisfying the conditions of the theorem is sometimes called uniformly ergodic.\n",
    "\n",
    "### Thm.3 (Sufficient condition for Aperiodicity and Irreducibility)\n",
    "\n",
    "One easy sufficient condition for aperiodicity and irreducibility is that every element $P$ is strictly positive. (How to prove?)\n",
    "\n",
    "\n",
    "### Calculating stationary distributions\n",
    "\n",
    "#### Two distinct stationary distributions implies infinitely many\n",
    "\n",
    "A given Markov matrix $P$ can have many stationary distributions, that is, there can be many row vectors $\\psi$ such that $\\psi = \\psi P$.\n",
    "\n",
    "If $P$ has two distinct stationary distributions $\\psi_1$, $\\psi_2$, then it has infinitely many, since in this case, as you can verify, we can easily find a third stationary distribution\n",
    "$$\n",
    "\\psi_3 = \\lambda \\psi_1 + (1-\\lambda) \\psi_2\n",
    "$$\n",
    "which is also a stationary distribution for $P$ for any $\\lambda \\in [0,1]$.\n",
    "\n",
    "#### Solution when only one stationary distribution exists. \n",
    "\n",
    "If we restrict attention to the case where only one stationary distribution exists, then one option for finding it is to try to solve the linear system\n",
    "$$\n",
    "\\psi (I_n - P) = 0 \\ for \\ \\psi\n",
    "$$\n",
    "where $I_n$ is the $n \\times n$ identity.\n",
    "\n",
    "Since the zero vector solves this equation, we need to impose the restriction that the solution must be a probability distribution."
   ]
  },
  {
   "cell_type": "code",
   "execution_count": 81,
   "metadata": {},
   "outputs": [
    {
     "data": {
      "text/plain": [
       "array([[0.25, 0.75]])"
      ]
     },
     "execution_count": 81,
     "metadata": {},
     "output_type": "execute_result"
    }
   ],
   "source": [
    "P = [[0.4, 0.6], [0.2, 0.8]]\n",
    "mc = qe.MarkovChain(P)\n",
    "mc.stationary_distributions   # find all stationary distributions of P"
   ]
  },
  {
   "cell_type": "markdown",
   "metadata": {},
   "source": [
    "### Convergence to stationarity\n",
    "\n",
    "Part 2 of Thm.3 implies that the distributioin of $X_t$ converges to the stationary distribution regardless of where we start off.\n",
    "\n",
    "This adds considerable weight to our interpretation of $\\psi^*$ as a stochastic steady state."
   ]
  },
  {
   "cell_type": "code",
   "execution_count": 25,
   "metadata": {},
   "outputs": [
    {
     "data": {
      "image/png": "[encoded data removed]",
      "text/plain": [
       "<Figure size 576x432 with 1 Axes>"
      ]
     },
     "metadata": {
      "needs_background": "light"
     },
     "output_type": "display_data"
    }
   ],
   "source": [
    "from mpl_toolkits.mplot3d import Axes3D\n",
    "import matplotlib.pyplot as plt\n",
    "%matplotlib inline\n",
    "\n",
    "P = ((0.971, 0.029, 0.000),\n",
    "    (0.145, 0.778, 0.077),\n",
    "    (0.000, 0.508, 0.492))\n",
    "P = np.array(P)                                            # create an array\n",
    "\n",
    "psi = (0.0, 0.2, 0.8)                                      # set psi's value\n",
    "\n",
    "fig = plt.figure(figsize=(8,6))                            # set figure size\n",
    "ax = fig.add_subplot(111, projection='3d')                 \n",
    "\n",
    "\n",
    "ax.set(xlim=(0, 1), ylim=(0, 1), zlim=(0, 1),              # set the size of all 3 dimensions and ticks for 3 axes\n",
    "      xticks=(0.25, 0.5, 0.75),\n",
    "      yticks=(0.25, 0.5, 0.75),\n",
    "      zticks=(0.25, 0.5, 0.75))\n",
    "\n",
    "x_vals, y_vals, z_vals = [], [], []\n",
    "for t in range(20):\n",
    "    x_vals.append(psi[0])                                  # append values to the end of an array\n",
    "    y_vals.append(psi[1])\n",
    "    z_vals.append(psi[2])\n",
    "    psi = psi @ P\n",
    "    \n",
    "ax.scatter(x_vals, y_vals, z_vals, c='r', s=60)            # A scatter plot of y vs x vs z with varying marker size  and color\n",
    "ax.view_init(10, 210)                                      # set the angle of viewing the 3-D figure\n",
    " \n",
    "mc = qe.MarkovChain(P)                                     # create markov chain from P\n",
    "psi_star = mc.stationary_distributions[0]                  # find all stationary distributions of 0?\n",
    "ax.scatter(psi_star[0], psi_star[1], psi_star[2], c='k', s=60) \n",
    "\n",
    "plt.show()"
   ]
  },
  {
   "cell_type": "markdown",
   "metadata": {},
   "source": [
    "Here\n",
    "\n",
    "$P$ is the stochastic matrix for recession and growth.\n",
    "\n",
    "The highest red dot is an arbitrarily chosen initial probability distribution $\\psi$, represented as a vector in $\\R^3$.\n",
    "\n",
    "The other red dots are the distributions $\\psi P^t$ for $t=1,2,...$.\n",
    "\n",
    "The black dot is $\\psi^*$.\n",
    "\n"
   ]
  },
  {
   "cell_type": "markdown",
   "metadata": {},
   "source": [
    "## 3.7 Ergodicity\n",
    "\n",
    "Under irreducibility, yet another important result obtains:\n",
    "\n",
    "For all $x \\in S$,\n",
    "$$\n",
    "\\frac{1}{m} \\sum^m_{t=1} \\bold{1} \\{ X_t = x \\} \\to \\psi^* (x) \\ as \\ m \\to \\infty\n",
    "$$\n",
    "Here\n",
    "\n",
    "1. $\\bold{1} \\{ X_t = x \\} =1 $ if $X_t =x$ and 0 otherwise.\n",
    "2. Convergence is with probability 1.\n",
    "3. The result does not depend on the distribution (or value) of $X_0$.\n",
    "\n",
    "### Remark\n",
    "\n",
    "1. It implies that the fraction of time the chain spends at state $x$ converges to $\\psi^* (x)$ as time goes to infinity.\n",
    "\n",
    "2. This gives us another way to interpret the staionary distribution, provided that the convergence result in $(16)$ exists:\n",
    "\n",
    "   The convergence in $(16)$ is a special case of a law of large numbers result for Markov chains. (what is more?)\n",
    "\n",
    "### Example\n",
    "\n",
    "One interpretation of the notion of ergodicity: in the long run, cross-sectional averages for a population and time-series averages for a given person coincide."
   ]
  },
  {
   "cell_type": "markdown",
   "metadata": {},
   "source": [
    "## 3.8 Computing expectations\n",
    "\n",
    "We are interested in computing unconditional expectations of the form\n",
    "$$\n",
    "\\bold{E}[h(X_t)]\n",
    "$$\n",
    "and conditional expectations such as\n",
    "$$\n",
    "\\bold{E}[h(X_{t+k}) | X_t = x]\n",
    "$$\n",
    "where\n",
    "\n",
    "1. $\\{ X_t \\}$ is a Markov chain generated by $n \\times n $ stochastic matrix $P$.\n",
    "\n",
    "2. $h$ is a given function, which, in expressions involving matrix algebra, we will think of it as the column vector\n",
    "   $$\n",
    "   h = \n",
    "   \\begin{pmatrix}\n",
    "   h(x_1) \\\\\n",
    "   \\vdots \\\\\n",
    "   h(x_n)\n",
    "   \\end{pmatrix}\n",
    "   $$\n",
    "\n",
    "### Computing unconditional expectation\n",
    "\n",
    "The unconditional expectation $(17)$ is easy to compute: we just sum over the distribution of $X_t$ to get\n",
    "$$\n",
    "\\bold{E} [h(X_t)] = \\sum_{x \\in S} (\\psi P^t) (x) h(x)\n",
    "$$\n",
    "Here $\\psi$ is the distribution of $X_0$.\n",
    "\n",
    "Since $\\psi$ and hence $\\psi P^t$ are row vectors, we can also write this as the form of vector operations:\n",
    "$$\n",
    "\\bold{E}[h(X_t)] = \\psi P^t h\n",
    "$$\n",
    "\n",
    "### Computing conditional expectation\n",
    "\n",
    "For the conditional expectation $(18)$, we need to sum over the conditional distribution of $X_{t+k}$, given $X_t =x$.\n",
    "\n",
    "We already know that this is $P^k (x, \\cdot)$ (?), so\n",
    "$$\n",
    "\\bold{E}[h(X_{t+k})| X_t = x] = (P^k h) (x)\n",
    "$$\n",
    "The vector $P^k h$ stores the conditional expectation $\\bold{E}[h(X_{t+k})|X_t = x]$ over all $x$.\n",
    "\n",
    "### Expectations of geometric sums\n",
    "\n",
    "Sometimes we also want to compute expectations of a geometric sum, such as $\\sum_t \\beta^t h(X)$.\n",
    "\n",
    "By preceding discussion, this should be\n",
    "$$\n",
    "\\bold{E}[\\sum^{\\infty}_{j=0} \\beta^j h(X_{t+j})|X_t =x] = [(I - \\beta P)^{-1}h](x)\n",
    "$$\n",
    "Where \n",
    "$$\n",
    "(I- \\beta P)^{-1} = I + \\beta P + \\beta^2 P^2 + \\cdots\n",
    "$$\n",
    "Premultiplication by $(I- \\beta P)^{-1}$ amounts to \"applying the resolvent operator\"."
   ]
  },
  {
   "cell_type": "code",
   "execution_count": null,
   "metadata": {},
   "outputs": [],
   "source": []
  },
  {
   "cell_type": "code",
   "execution_count": null,
   "metadata": {},
   "outputs": [],
   "source": []
  },
  {
   "cell_type": "markdown",
   "metadata": {},
   "source": [
    "# Exercises 1 Simulating Markov Chains from Stochastic Matrix with different starting points"
   ]
  },
  {
   "cell_type": "code",
   "execution_count": 1,
   "metadata": {},
   "outputs": [],
   "source": [
    "import numpy as np\n",
    "import matplotlib.pyplot as plt\n",
    "from quantecon import MarkovChain"
   ]
  },
  {
   "cell_type": "code",
   "execution_count": 2,
   "metadata": {},
   "outputs": [
    {
     "data": {
      "image/png": "[encoded data removed]",
      "text/plain": [
       "<Figure size 648x432 with 1 Axes>"
      ]
     },
     "metadata": {
      "needs_background": "light"
     },
     "output_type": "display_data"
    }
   ],
   "source": [
    "a = b = 0.1\n",
    "N = 10000\n",
    "p = b / (a + b)\n",
    "\n",
    "# Create procedures to create Stochastic matrix P and generate Markov Chain, mc from P\n",
    "\n",
    "P = ((1 - a,    a),\n",
    "    (   b,  1 - b) )\n",
    "P = np.array(P)\n",
    "mc = MarkovChain(P)    \n",
    "\n",
    "# Prepare the figure\n",
    "\n",
    "fig, ax = plt.subplots(figsize = (9, 6)) # set figure size\n",
    "ax.set_ylim(-0.25, 0.25)                 # set the range for vertical axis\n",
    "ax.grid()                                # configure the grid lines\n",
    "ax.hlines(0, 0, N, lw=2, alpha=0.6)      # plot horizontal lines at 0, from 0 to N\n",
    "\n",
    "# Generate two simulated time series of 10000, starting at X_0=0 and X_0=1\n",
    "\n",
    "for x0, col in ((0, 'blue'), (1, 'green')):\n",
    "    X = mc.simulate(N, init=x0)                                               # generate X\n",
    "    X_bar = (X == 0).cumsum() / (1+ np.arange(N, dtype = float ))             # generate X_bar\n",
    "    \n",
    "    ax.fill_between(range(N), np.zeros(N), X_bar - p, color=col, alpha=0.1)   # generate X_bar - p\n",
    "    ax.plot(X_bar - p, color=col, label=f'$X_0 = \\, {x0}$')                   # ?\n",
    "    ax.plot(X_bar - p, 'k-', alpha=0.6)                                       # ?\n",
    "\n",
    "ax.legend(loc='upper right')                                                  # Add the symbols on the upper right side\n",
    "plt.show()"
   ]
  },
  {
   "cell_type": "code",
   "execution_count": null,
   "metadata": {},
   "outputs": [],
   "source": []
  },
  {
   "cell_type": "markdown",
   "metadata": {},
   "source": [
    "# Exercise 2 Search ranking system vs prices in certain competitive equilibria\n",
    "\n"
   ]
  },
  {
   "cell_type": "code",
   "execution_count": 26,
   "metadata": {},
   "outputs": [],
   "source": [
    "import re\n"
   ]
  },
  {
   "cell_type": "code",
   "execution_count": 8,
   "metadata": {},
   "outputs": [
    {
     "name": "stdout",
     "output_type": "stream",
     "text": [
      "Overwriting web_graph_data.txt\n"
     ]
    }
   ],
   "source": [
    "%%file web_graph_data.txt\n",
    "a -> d;\n",
    "a -> f;\n",
    "b -> j;\n",
    "b -> k;\n",
    "b -> m;\n",
    "c -> c;\n",
    "c -> g;\n",
    "c -> j;\n",
    "c -> m;\n",
    "d -> f;\n",
    "d -> h;\n",
    "d -> k;\n",
    "e -> d;\n",
    "e -> h;\n",
    "e -> l;\n",
    "f -> a;\n",
    "f -> b;\n",
    "f -> j;\n",
    "f -> l;\n",
    "g -> b;\n",
    "g -> j;\n",
    "h -> d;\n",
    "h -> g;\n",
    "h -> l;\n",
    "h -> m;\n",
    "i -> g;\n",
    "i -> h;\n",
    "i -> n;\n",
    "j -> e;\n",
    "j -> i;\n",
    "j -> k;\n",
    "k -> n;\n",
    "l -> m;\n",
    "m -> g;\n",
    "n -> c;\n",
    "n -> j;\n",
    "n -> m;"
   ]
  },
  {
   "cell_type": "code",
   "execution_count": 13,
   "metadata": {},
   "outputs": [
    {
     "name": "stdout",
     "output_type": "stream",
     "text": [
      "Rankings\n",
      " ***\n",
      "g: 0.1607\n",
      "j: 0.1594\n",
      "m: 0.1195\n",
      "n: 0.1088\n",
      "k: 0.09106\n",
      "b: 0.08326\n",
      "e: 0.05312\n",
      "i: 0.05312\n",
      "c: 0.04834\n",
      "h: 0.0456\n",
      "l: 0.03202\n",
      "d: 0.03056\n",
      "f: 0.01164\n",
      "a: 0.002911\n"
     ]
    }
   ],
   "source": [
    "import numpy as np\n",
    "from operator import itemgetter            #?\n",
    "\n",
    "infile = 'web_graph_data.txt'              # input the file above\n",
    "alphabet = 'abcdefghijklmnopqrstuvwxyz'    # ?\n",
    "\n",
    "n = 14\n",
    "Q = np.zeros((n, n), dtype=int)            # return a new array of given shape and type, filled with zeros (n by n matrix)\n",
    "f = open(infile, 'r')                      \n",
    "edges = f.readlines()                      # fileObject.readlines(sizehint): returns a list containing the lines; assign them to edges\n",
    "f.close()                                  # close the open file\n",
    "for edge in edges:                          \n",
    "    from_node, to_node = re.findall('\\w', edge)    # iterate over the lines of the file: return a list of all the matches in a single step\n",
    "    i, j = alphabet.index(from_node), alphabet.index(to_node)\n",
    "    Q[i, j] = 1\n",
    "P = np.empty((n, n))                      # return a new array of given shape and type, without initializing entries\n",
    "for i in range(n):\n",
    "    P[i, :] = Q[i, :] / Q[i, :].sum()     # Construct P(i, j)\n",
    "mc = MarkovChain(P)\n",
    "r = mc.stationary_distributions[0]\n",
    "ranked_pages = {alphabet[i] : r[i] for i in range(n)}\n",
    "\n",
    "print('Rankings\\n ***')                   # sorted(): return a sorted list of the specified iterable object\n",
    "for name, rank in sorted(ranked_pages.items(), key=itemgetter(1), reverse=1):\n",
    "    print (f'{name}: {rank:.4}')"
   ]
  },
  {
   "cell_type": "code",
   "execution_count": null,
   "metadata": {},
   "outputs": [],
   "source": []
  },
  {
   "cell_type": "code",
   "execution_count": null,
   "metadata": {},
   "outputs": [],
   "source": []
  }
 ],
 "metadata": {
  "kernelspec": {
   "display_name": "Python 3",
   "language": "python",
   "name": "python3"
  },
  "language_info": {
   "codemirror_mode": {
    "name": "ipython",
    "version": 3
   },
   "file_extension": ".py",
   "mimetype": "text/x-python",
   "name": "python",
   "nbconvert_exporter": "python",
   "pygments_lexer": "ipython3",
   "version": "3.7.1"
  }
 },
 "nbformat": 4,
 "nbformat_minor": 2
}
