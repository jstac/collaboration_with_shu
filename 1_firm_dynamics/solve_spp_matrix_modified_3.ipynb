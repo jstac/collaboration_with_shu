{
 "cells": [
  {
   "cell_type": "markdown",
   "metadata": {},
   "source": [
    "# Solving the Shortest Paths Problem by using matrices"
   ]
  },
  {
   "cell_type": "code",
   "execution_count": 2,
   "metadata": {},
   "outputs": [],
   "source": [
    "import numpy as np"
   ]
  },
  {
   "cell_type": "markdown",
   "metadata": {},
   "source": [
    "## 1 Define the direct distance matrix of all pairs of nodes\n",
    "Label all nodes $A, B ,C, D, E, F, G$ by using counting numbers $0,1,2,3,4,5,6,$, and we have node $i$, where $i \\in \\{ i \\in \\mathcal{Z} | 0 \\leq i \\leq 6  \\} $."
   ]
  },
  {
   "cell_type": "markdown",
   "metadata": {},
   "source": [
    "Assume that $O=(a_{i,j})_{7 \\times 7}$ is the matrix represeting the direct distances between two directly reachable node $i$ and node $j$, where \n",
    "$$a_{i,j} = \n",
    "\\begin{cases}\n",
    "0 & if \\ i=j \\\\\n",
    "d(i,j) & if \\ node \\ i \\ and \\ node \\ j \\ can \\ be \\ directly \\ reached \\\\\n",
    "\\infty & if \\ \\ node \\ i \\ and \\ node \\ j \\ can \\ not \\ be \\ directly \\ reached\n",
    "\\end{cases}\n",
    "$$\n",
    "Without loss of generality, we can call $O$ the **directe distance matrix**. This matrix can be easily generalised to the case where we have $n$ nodes and we will have the matrix $O_{n \\times n}$.\n",
    "\n",
    "### Remark\n",
    "In our case, the order of node $i$ and node $j$ matters, since the equation $d(i,j)=d(j,i)$ may not hold."
   ]
  },
  {
   "cell_type": "code",
   "execution_count": 10,
   "metadata": {},
   "outputs": [
    {
     "name": "stdout",
     "output_type": "stream",
     "text": [
      "[[ 0.  1.  5.  3. inf inf inf]\n",
      " [inf  0. inf  9.  6. inf inf]\n",
      " [inf inf  0. inf inf  2. inf]\n",
      " [inf inf inf  0. inf  4.  8.]\n",
      " [inf inf inf inf  0. inf  4.]\n",
      " [inf inf inf inf inf  0.  1.]\n",
      " [inf inf inf inf inf inf  0.]]\n"
     ]
    }
   ],
   "source": [
    "# Input the direct distance matrix\n",
    "O = np.array([[0,1,5,3, np.inf, np.inf, np.inf], [np.inf, 0, np.inf, 9, 6, np.inf, np.inf], [np.inf, np.inf, 0, np.inf, np.inf, 2, np.inf], [np.inf, np.inf, np.inf, 0, np.inf, 4, 8], [np.inf, np.inf, np.inf, np.inf, 0, np.inf, 4], [np.inf, np.inf, np.inf, np.inf, np.inf, 0, 1], [np.inf, np.inf, np.inf, np.inf, np.inf, np.inf, 0]])\n",
    "print(O)"
   ]
  },
  {
   "cell_type": "markdown",
   "metadata": {},
   "source": [
    "## 2 Bellman equation v.s. Min-plus matrix multiplication\n",
    "Let's define a new matrix-multiplication-like operation between two matrices, i.e., the so-called Min-plus matrix multiplication.\n",
    "### Def. (Min-plus matrix multiplication)\n",
    "Given two $n\\times n$ matrices $A=(a_{i,j})$  and  $B=(b_{i,j})$, their distance product $C=(c_{i,j}) = A \\oplus B $ is defined as an $n \\times n$ matrix such that \n",
    "$$c_{i,j}= \\min_{k \\in \\{1,2,...,n \\} } \\{ a_{i,k} + b_{k,j} \\}  $$ \n",
    "which can be eactly functioned as the operation of the main loop part of the Bellman equation for the Shortest Path Problem."
   ]
  },
  {
   "cell_type": "code",
   "execution_count": 11,
   "metadata": {},
   "outputs": [],
   "source": [
    "# Define the Min-Plus Matrix Multiplication between two n*n matrices\n",
    "\n",
    "def min_plus_product(A, B):\n",
    "    B = np.transpose(B)\n",
    "    Y = np.zeros((len(B), len(A)))\n",
    "    for i in range(len(B)):\n",
    "        Y[i] = (A+B[i]).min(1)\n",
    "    return np.transpose(Y)"
   ]
  },
  {
   "cell_type": "markdown",
   "metadata": {},
   "source": [
    "## 3 Find the shortest distance between two nodes\n",
    "Therefore, the power $k$ of the direct distance matrix $O$, denoted by $O^k$, gives the distances between nodes using at most $k$ paths.\n",
    "\n",
    "### Proposition\n",
    "Consider $O^k = (o^k_{i,j}) = O^{k-1} \\oplus O $, where $k \\in \\{ k \\in \\mathcal{Z} | k \\geq 1 \\}$ and $O^0=(o^0_{i,j})$ is a matrix all of whose entities are 0s, i.e., $o^0_{i,j}=0$ for all $i,j$. If we have \n",
    "$$o^{k-1}_{i,j} \\neq o^{k}_{i,j} $$ and $$o^{k}_{i,j} = o^{k+1}_{i,j}$$,\n",
    "then we can say that it takes at most k paths from node $i$ to node $j$, with the shortest distance $o^k_{i,j}$."
   ]
  },
  {
   "cell_type": "markdown",
   "metadata": {},
   "source": [
    "### Method 1\n",
    "If the dimension of the direct distance matrix is small, then we can solve the problem by checking $O^k$ one by one from $k =1$."
   ]
  },
  {
   "cell_type": "code",
   "execution_count": 5,
   "metadata": {},
   "outputs": [
    {
     "name": "stdout",
     "output_type": "stream",
     "text": [
      "[[ 0.  1.  5.  3.  7.  7. 11.]\n",
      " [inf  0. inf  9.  6. 13. 10.]\n",
      " [inf inf  0. inf inf  2.  3.]\n",
      " [inf inf inf  0. inf  4.  5.]\n",
      " [inf inf inf inf  0. inf  4.]\n",
      " [inf inf inf inf inf  0.  1.]\n",
      " [inf inf inf inf inf inf  0.]]\n"
     ]
    }
   ],
   "source": [
    "O2 = min_plus_product(O,O)\n",
    "print(O2)"
   ]
  },
  {
   "cell_type": "code",
   "execution_count": 6,
   "metadata": {},
   "outputs": [
    {
     "name": "stdout",
     "output_type": "stream",
     "text": [
      "[[ 0.  1.  5.  3.  7.  7.  8.]\n",
      " [inf  0. inf  9.  6. 13. 10.]\n",
      " [inf inf  0. inf inf  2.  3.]\n",
      " [inf inf inf  0. inf  4.  5.]\n",
      " [inf inf inf inf  0. inf  4.]\n",
      " [inf inf inf inf inf  0.  1.]\n",
      " [inf inf inf inf inf inf  0.]]\n"
     ]
    }
   ],
   "source": [
    "O3 = min_plus_product(O2,O)\n",
    "print(O3)"
   ]
  },
  {
   "cell_type": "code",
   "execution_count": 7,
   "metadata": {
    "scrolled": true
   },
   "outputs": [
    {
     "name": "stdout",
     "output_type": "stream",
     "text": [
      "[[ 0.  1.  5.  3.  7.  7.  8.]\n",
      " [inf  0. inf  9.  6. 13. 10.]\n",
      " [inf inf  0. inf inf  2.  3.]\n",
      " [inf inf inf  0. inf  4.  5.]\n",
      " [inf inf inf inf  0. inf  4.]\n",
      " [inf inf inf inf inf  0.  1.]\n",
      " [inf inf inf inf inf inf  0.]]\n"
     ]
    }
   ],
   "source": [
    "O4 = min_plus_product(O3,O)\n",
    "print(O4)"
   ]
  },
  {
   "cell_type": "code",
   "execution_count": 8,
   "metadata": {
    "scrolled": true
   },
   "outputs": [
    {
     "name": "stdout",
     "output_type": "stream",
     "text": [
      "[[ 0.  1.  5.  3.  7.  7.  8.]\n",
      " [inf  0. inf  9.  6. 13. 10.]\n",
      " [inf inf  0. inf inf  2.  3.]\n",
      " [inf inf inf  0. inf  4.  5.]\n",
      " [inf inf inf inf  0. inf  4.]\n",
      " [inf inf inf inf inf  0.  1.]\n",
      " [inf inf inf inf inf inf  0.]]\n"
     ]
    }
   ],
   "source": [
    "O5 = min_plus_product(O4,O)\n",
    "print(O5)"
   ]
  },
  {
   "cell_type": "markdown",
   "metadata": {},
   "source": [
    "In our example, we want to find the least-cost paths between node A and node G, i.e., node 0 and node 6.\n",
    "\n",
    "Since we have $o^2_{0,6} \\neq o^3_{0,6}$ and $o^3_{0,6} = o^4_{0,6}$, by Proposition, then\n",
    "the least-cost paths between these two nodes are 3, and its shortest distance should be $o^3_{1,7}=8$.\n",
    "\n",
    "### Method 2\n",
    "Alternatively, we can use a loop to help us find the least-cost paths from node 0 to node 6, i.e., from node A to node G, according to the **Proposition**.\n"
   ]
  },
  {
   "cell_type": "code",
   "execution_count": 9,
   "metadata": {},
   "outputs": [
    {
     "name": "stdout",
     "output_type": "stream",
     "text": [
      "3\n",
      "8.0\n",
      "[[ 0.  1.  5.  3.  7.  7.  8.]\n",
      " [inf  0. inf  9.  6. 13. 10.]\n",
      " [inf inf  0. inf inf  2.  3.]\n",
      " [inf inf inf  0. inf  4.  5.]\n",
      " [inf inf inf inf  0. inf  4.]\n",
      " [inf inf inf inf inf  0.  1.]\n",
      " [inf inf inf inf inf inf  0.]]\n"
     ]
    }
   ],
   "source": [
    "O_old = O\n",
    "O_new = min_plus_product(O_old, O)\n",
    "o_old = O_old[0, 6]\n",
    "o_new = O_new[0, 6]\n",
    "d = o_new - o_old\n",
    "i = 1\n",
    "while d != 0:\n",
    "    o_old = O_new[0, 6]\n",
    "    O_old = O_new\n",
    "    O_new = min_plus_product(O_old, O)\n",
    "    o_new = O_new[0, 6]\n",
    "    d = o_new - o_old\n",
    "    i += 1\n",
    "\n",
    "print(i)\n",
    "print(o_new)\n",
    "print(O_new)"
   ]
  },
  {
   "cell_type": "markdown",
   "metadata": {},
   "source": [
    "### Method 3\n",
    "And alternatively again, we can define a function and include the loop in the function so that we can find the least-cost paths and its shortest distance between any two potentially reachable nodes $x$ and node $y$."
   ]
  },
  {
   "cell_type": "code",
   "execution_count": 15,
   "metadata": {},
   "outputs": [],
   "source": [
    "def compute_path(O, x, y):\n",
    "    \"\"\"\n",
    "    O is the direct distance matrix\n",
    "    x is the node we are going to start from\n",
    "    y is the node we are going to reach finally.\n",
    "    \"\"\"\n",
    "    O_old = O\n",
    "    O_new = min_plus_product(O_old, O)\n",
    "    o_old = O_old[x, y]\n",
    "    o_new = O_new[x, y]\n",
    "    d = o_new - o_old\n",
    "    i = 1\n",
    "    while d != 0:\n",
    "        o_old = O_new[x, y]\n",
    "        O_old = O_new\n",
    "        O_new = min_plus_product(O_old, O)\n",
    "        o_new = O_new[x, y]\n",
    "        d = o_new - o_old\n",
    "        i = i + 1\n",
    "    return (i, o_new, O_new)"
   ]
  },
  {
   "cell_type": "markdown",
   "metadata": {},
   "source": [
    "Therefore, we can easily find the shortest paths and the least cost from node 0 to node 6."
   ]
  },
  {
   "cell_type": "code",
   "execution_count": 16,
   "metadata": {},
   "outputs": [
    {
     "data": {
      "text/plain": [
       "(3, 8.0, array([[ 0.,  1.,  5.,  3.,  7.,  7.,  8.],\n",
       "        [inf,  0., inf,  9.,  6., 13., 10.],\n",
       "        [inf, inf,  0., inf, inf,  2.,  3.],\n",
       "        [inf, inf, inf,  0., inf,  4.,  5.],\n",
       "        [inf, inf, inf, inf,  0., inf,  4.],\n",
       "        [inf, inf, inf, inf, inf,  0.,  1.],\n",
       "        [inf, inf, inf, inf, inf, inf,  0.]]))"
      ]
     },
     "execution_count": 16,
     "metadata": {},
     "output_type": "execute_result"
    }
   ],
   "source": [
    "compute_path(O, 0, 6)"
   ]
  },
  {
   "cell_type": "markdown",
   "metadata": {},
   "source": [
    "## Reference\n",
    "\n",
    "\n",
    "1. Uri Zwick (2002): \"All pairs shortest paths using bridging sets and rectangular matrix multiplication,\". Journal of the ACM, 49, 289–317.\n",
    "2. Liam Roditty and Asaf Shapira (2011):\"All-Pairs Shortest Paths with a Sublinear Additive Error,\" Journal of ACM (TALG),Vol.7,Issue 4, 45."
   ]
  },
  {
   "cell_type": "code",
   "execution_count": null,
   "metadata": {},
   "outputs": [],
   "source": []
  }
 ],
 "metadata": {
  "kernelspec": {
   "display_name": "Python 3",
   "language": "python",
   "name": "python3"
  },
  "language_info": {
   "codemirror_mode": {
    "name": "ipython",
    "version": 3
   },
   "file_extension": ".py",
   "mimetype": "text/x-python",
   "name": "python",
   "nbconvert_exporter": "python",
   "pygments_lexer": "ipython3",
   "version": "3.7.1"
  }
 },
 "nbformat": 4,
 "nbformat_minor": 2
}
