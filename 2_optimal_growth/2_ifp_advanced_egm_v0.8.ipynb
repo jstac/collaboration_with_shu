{
 "cells": [
  {
   "cell_type": "markdown",
   "metadata": {},
   "source": [
    "### Collaboration's notice\n",
    "\n",
    "\n",
    "1. Improvements compared with V0.1:\n",
    "   - Break the function ``egm_factory`` into two functions ``optimal_c`` and ``K``.\n",
    "   - Convert it into ``MyST-md`` format by ``jupytext``.\n",
    "   - Adjust the coefficient of $P$, shocks and of the grid.\n",
    "   - Converging time is **much shorter**.\n",
    "   - Add assumption testings for general cases of $\\beta R$.\n",
    "     - The assumption testing is on the money!\n",
    "   - Change the loop structure.\n",
    "   - Change the expression for $R_t$, $\\beta$ and $Y$.\n",
    "\n",
    "2. Fault:\n",
    "   - $\\beta$ is not stochastic/state dependent.\n",
    "\n",
    "3. Solution:\n",
    "   - Simulate z_vec and P_z from the AR(1) $Z_t$ by using the function ``rouwenhorst`` in the ``QuantEcon.py``.\n",
    "   - Set up appropriate expressions of stochastic processes, $\\beta_t(z_t, ε_t)$, $R_t(z_t, ζ_t)$ and $Y_t(z_t, η_t)$."
   ]
  },
  {
   "cell_type": "code",
   "execution_count": 1,
   "metadata": {},
   "outputs": [],
   "source": [
    "import numpy as np\n",
    "import matplotlib.pyplot as plt\n",
    "from interpolation import interp\n",
    "from numba import jit, njit, jitclass, prange, float64, int64\n",
    "from quantecon.optimize.root_finding import brentq\n",
    "from scipy.linalg import eig, eigvals\n",
    "\n",
    "%matplotlib inline"
   ]
  },
  {
   "cell_type": "code",
   "execution_count": 2,
   "metadata": {},
   "outputs": [],
   "source": [
    "ifp_data = [\n",
    "    ('γ', float64),              # Utility parameter\n",
    "#     ('β', float64),\n",
    "    ('P', float64[:, :]),        # Transition probs for z_t\n",
    "#     ('z_vec', float64[:]),       # Shock scale parameters for R_t, Y_t     \n",
    "    ('a_grid', float64[:]),      # Grid over asset values (array)\n",
    "    ('s_grid', float64[:]),\n",
    "    \n",
    "    ('ε_draws', float64[:]),\n",
    "    ('η_draws', float64[:]),     # Draws of innovation η for MC (array)\n",
    "    ('ζ_draws', float64[:]),     # Draws of innovation ζ for MC (array)\n",
    "    \n",
    "    ('N', int64),\n",
    "    ('n', int64),\n",
    "    \n",
    "    ('β_scale', float64),\n",
    "    ('R_scale', float64),\n",
    "    ('y_scale', float64),\n",
    "    ('k', int64),\n",
    "    \n",
    "    ('β_loc', float64),\n",
    "    ('R_loc', float64),\n",
    "    ('y_loc', float64),\n",
    "    \n",
    "    ('β_a', float64),            # scale parameter for β_t inside\n",
    "    ('β_b', float64),            # additive parameter for β_t inside\n",
    "    ('R_a', float64),            # scale parameter for R_t inside\n",
    "    ('R_b', float64),            # additive parameter for R_t inside\n",
    "    ('y_a', float64),            # scale parameter for Y_t inside\n",
    "    ('y_b', float64),            # additive parameter for Y_t side\n",
    "    \n",
    "]"
   ]
  },
  {
   "cell_type": "code",
   "execution_count": 3,
   "metadata": {
    "incorrectly_encoded_metadata": "hide-output=false"
   },
   "outputs": [],
   "source": [
    "@jitclass(ifp_data)\n",
    "class IFP:\n",
    "    \"\"\"\n",
    "    A class that stores primitives for the income fluctuation \n",
    "    problem. \n",
    "    \"\"\"\n",
    "    def __init__(self,\n",
    "                 γ=1.5,\n",
    "                 P=np.array([(0.9, 0.1),\n",
    "                             (0.1, 0.9)]),\n",
    "                 scale_out= np.array((0, 1, 1)),\n",
    "                 loc_out=np.array((0.96, 0, 0)),\n",
    "                 scale_a= np.array((0.0, 0.2, 0.5)),\n",
    "                 loc_b= np.array((0.0, 0.0, 2)),\n",
    "                 shock_draw_size=35,\n",
    "                 grid_max=10,\n",
    "                 grid_size=20,\n",
    "                 seed=1234):\n",
    "        \n",
    "        np.random.seed(seed)  # arbitrary seed\n",
    "\n",
    "        self.γ = γ\n",
    "        self.P = P \n",
    "        \n",
    "        self.ε_draws = np.random.randn(shock_draw_size)\n",
    "        self.η_draws = np.random.randn(shock_draw_size)\n",
    "        self.ζ_draws = np.random.randn(shock_draw_size)\n",
    "        \n",
    "        self.n = len(P)\n",
    "        self.N = len(self.ε_draws) * len(self.η_draws) * len(self.ζ_draws)\n",
    "        \n",
    "        self.β_scale, self.R_scale, self.y_scale = scale_out[0], scale_out[1], scale_out[2]\n",
    "        self.β_loc, self.R_loc, self.y_loc = loc_out[0], loc_out[1], loc_out[2]\n",
    "        \n",
    "        self.β_a, self.R_a, self.y_a = scale_a[0], scale_a[1], scale_a[2]\n",
    "        self.β_b, self.R_b, self.y_b = loc_b[0], loc_b[1], loc_b[2]\n",
    "        \n",
    "        self.s_grid = np.linspace(0, grid_max, grid_size) # 2 remove a_grid\n",
    "        self.k = len(self.s_grid)\n",
    "        \n",
    "    # Marginal utility    \n",
    "    def u_prime(self, c):\n",
    "        return c ** (-self.γ)\n",
    "    \n",
    "    # Inverse utility\n",
    "    def u_prime_inv(self, du):\n",
    "        return du ** (-1 / self.γ)\n",
    "    \n",
    "    def β(self, z, ϵ):\n",
    "        return self.β_scale * np.exp(z * self.β_b + self.β_a * ϵ) + self.β_loc\n",
    "    \n",
    "    def R(self, z, ζ):\n",
    "        return self.R_scale * np.exp(z * self.R_b + self.R_a * ζ) + self.R_loc\n",
    "    \n",
    "    def Y(self, z, η):\n",
    "        return self.y_scale * np.exp(z * self.y_b + self.y_a * η) + self.y_loc"
   ]
  },
  {
   "cell_type": "markdown",
   "metadata": {},
   "source": [
    "## Implement the endogenous grid method"
   ]
  },
  {
   "cell_type": "code",
   "execution_count": 4,
   "metadata": {},
   "outputs": [],
   "source": [
    "@jit(nopython=True)\n",
    "def K(a_array, c_array, ifp):\n",
    "    \n",
    "    u_prime, u_prime_inv = ifp.u_prime, ifp.u_prime_inv\n",
    "    s_grid = ifp.s_grid # tick\n",
    "    η_draws, ζ_draws, ε_draws = ifp.η_draws, ifp.ζ_draws, ifp.ε_draws\n",
    "    β, R, Y, P = ifp.β, ifp.R, ifp.Y, ifp.P\n",
    "    \n",
    "    n, N = ifp.n, ifp.N\n",
    "    \n",
    "\n",
    "        \n",
    "    c = lambda a, z: interp(a_array[:, z], c_array[:, z], a)\n",
    "    \n",
    "    \n",
    "    c_new = np.empty_like(c_array)\n",
    "    a_new = np.empty_like(a_array)\n",
    "    for z in range(n):\n",
    "        for i, s in enumerate(s_grid):\n",
    "            Ez = 0.0\n",
    "            for z_hat in prange(n):\n",
    "                for ϵ in ε_draws:\n",
    "                    for ζ in ζ_draws:\n",
    "                        for η in η_draws:\n",
    "                            β_hat = β(z_hat, ϵ)\n",
    "                            R_hat = R(z_hat, ζ)\n",
    "                            Y_hat = Y(z_hat, η)\n",
    "                            Ez += β_hat * R_hat * u_prime(c(R_hat * s + Y_hat, z_hat)) * P[z, z_hat]\n",
    "            Ez = Ez / N\n",
    "            c_new[i, z] = u_prime_inv(Ez)\n",
    "            \n",
    "        a_new[:, z] = c_new[:, z] + s_grid\n",
    "#         c_new[:, z] = interp(a_new[:,z], c_new[:, z], a_array)\n",
    "        \n",
    "#     for z in range(n):\n",
    "#         a_new[:, z] = c_new[:, z] + s_grid\n",
    "#         c_new[:, z] = interp(a_new[:,z], c_new[:, z], a_array)\n",
    "\n",
    "    c_new[0, :] = 0\n",
    "    a_new[0, :] = 0\n",
    "        \n",
    "    return a_new, c_new"
   ]
  },
  {
   "cell_type": "code",
   "execution_count": 5,
   "metadata": {},
   "outputs": [],
   "source": [
    "def solve_model(ifp,\n",
    "                K,\n",
    "                tol=1e-3,\n",
    "                max_iter=1e3,\n",
    "                verbose=True,\n",
    "                print_skip=25):\n",
    "\n",
    "    \"\"\"\n",
    "    Solves for the optimal policy using operator K\n",
    "\n",
    "    * ifp is an instance of ConsumerProblem\n",
    "    * K is an operator that updates consumption policy\n",
    "    \"\"\"\n",
    "\n",
    "    # Initial guess of a and c\n",
    "    \n",
    "    c = np.empty((ifp.k, ifp.n))\n",
    "    for z in range(ifp.n):\n",
    "        c[:, z] = ifp.s_grid\n",
    "    a = np.copy(c)\n",
    "\n",
    "    i = 0\n",
    "    error = tol + 1\n",
    "\n",
    "    while i < max_iter and error > tol:\n",
    "        a_new, c_new = K(a, c, ifp)\n",
    "\n",
    "        error = np.max(np.abs(c - c_new))\n",
    "        i += 1\n",
    "\n",
    "        if verbose and i % print_skip == 0:\n",
    "            print(f\"Error at iteration {i} is {error}.\")\n",
    "\n",
    "        a[:, :], c[:, :] = a_new, c_new\n",
    "\n",
    "    if i == max_iter:\n",
    "        print(\"Failed to converge!\")\n",
    "\n",
    "    if verbose and i < max_iter:\n",
    "        print(f\"\\nConverged in {i} iterations.\")\n",
    "\n",
    "    return a, c"
   ]
  },
  {
   "cell_type": "code",
   "execution_count": 6,
   "metadata": {},
   "outputs": [],
   "source": [
    "ifp = IFP()"
   ]
  },
  {
   "cell_type": "code",
   "execution_count": 7,
   "metadata": {
    "scrolled": false
   },
   "outputs": [
    {
     "name": "stdout",
     "output_type": "stream",
     "text": [
      "Error at iteration 5 is 0.7797458317347328.\n",
      "Error at iteration 10 is 0.26139235538935957.\n",
      "Error at iteration 15 is 0.11809692699064289.\n",
      "Error at iteration 20 is 0.06452436509624127.\n",
      "Error at iteration 25 is 0.040089544934331034.\n",
      "Error at iteration 30 is 0.02710872755345628.\n",
      "Error at iteration 35 is 0.019396894632569772.\n",
      "Error at iteration 40 is 0.014438030041203476.\n",
      "Error at iteration 45 is 0.011059387829143397.\n",
      "Error at iteration 50 is 0.008656980458660257.\n",
      "Error at iteration 55 is 0.006891321083666302.\n",
      "Error at iteration 60 is 0.005558509962087843.\n",
      "Error at iteration 65 is 0.004531031678532749.\n",
      "Error at iteration 70 is 0.0037249055186001634.\n",
      "Error at iteration 75 is 0.0030835609067740855.\n",
      "Error at iteration 80 is 0.0025672938787297817.\n",
      "Error at iteration 85 is 0.0021475985627898986.\n",
      "Error at iteration 90 is 0.0018035891219656541.\n",
      "Error at iteration 95 is 0.0015197120385215257.\n",
      "Error at iteration 100 is 0.0012840764192691978.\n",
      "Error at iteration 105 is 0.0010875171694082475.\n",
      "\n",
      "Converged in 108 iterations.\n",
      "CPU times: user 45.6 s, sys: 152 ms, total: 45.8 s\n",
      "Wall time: 45.8 s\n"
     ]
    }
   ],
   "source": [
    "%%time\n",
    "a, c = solve_model(ifp, K, print_skip=5)"
   ]
  },
  {
   "cell_type": "code",
   "execution_count": 8,
   "metadata": {
    "scrolled": true
   },
   "outputs": [
    {
     "data": {
      "image/png": "[encoded data removed]",
      "text/plain": [
       "<Figure size 432x288 with 1 Axes>"
      ]
     },
     "metadata": {
      "needs_background": "light"
     },
     "output_type": "display_data"
    }
   ],
   "source": [
    "fig, ax = plt.subplots()\n",
    "\n",
    "for z in range(len(ifp.P)):\n",
    "    plt.plot(a[:, z], c[:, z], label=f\"consumption when $z = {z}$\")\n",
    "\n",
    "plt.legend()\n",
    "plt.show()"
   ]
  },
  {
   "cell_type": "code",
   "execution_count": null,
   "metadata": {},
   "outputs": [],
   "source": []
  },
  {
   "cell_type": "markdown",
   "metadata": {},
   "source": [
    "## Testing the assumptions"
   ]
  },
  {
   "cell_type": "code",
   "execution_count": 9,
   "metadata": {},
   "outputs": [],
   "source": [
    "# @njit\n",
    "def G_βR(ifp):\n",
    "    \n",
    "    s_grid = ifp.s_grid # tick\n",
    "    η_draws, ζ_draws, ε_draws = ifp.η_draws, ifp.ζ_draws, ifp.ε_draws\n",
    "    β, R, Y, P = ifp.β, ifp.R, ifp.Y, ifp.P\n",
    "    \n",
    "    n= ifp.n\n",
    "    \n",
    "    L = np.empty_like(P)\n",
    "    for z in range(n):\n",
    "        for z_hat in prange(n):\n",
    "            Ez = 0.0\n",
    "            for ϵ in ε_draws:\n",
    "                for ζ in ζ_draws:\n",
    "                        β_hat = β(z_hat, ϵ)\n",
    "                        R_hat = R(z_hat, ζ)\n",
    "                        Ez += β_hat * R_hat\n",
    "            Ez = Ez / (len(ε_draws) * len(ζ_draws))\n",
    "            L[z, z_hat] = Ez * P[z, z_hat]\n",
    "    print(L)\n",
    "    \n",
    "    \n",
    "    return np.max(abs(eigvals(L)))"
   ]
  },
  {
   "cell_type": "code",
   "execution_count": 10,
   "metadata": {},
   "outputs": [
    {
     "name": "stdout",
     "output_type": "stream",
     "text": [
      "[[0.89261695 0.09917966]\n",
      " [0.09917966 0.89261695]]\n"
     ]
    },
    {
     "data": {
      "text/plain": [
       "0.9917966139921779"
      ]
     },
     "execution_count": 10,
     "metadata": {},
     "output_type": "execute_result"
    }
   ],
   "source": [
    "G_βR(ifp)"
   ]
  },
  {
   "cell_type": "code",
   "execution_count": null,
   "metadata": {},
   "outputs": [],
   "source": []
  },
  {
   "cell_type": "code",
   "execution_count": null,
   "metadata": {},
   "outputs": [],
   "source": []
  },
  {
   "cell_type": "code",
   "execution_count": null,
   "metadata": {},
   "outputs": [],
   "source": []
  },
  {
   "cell_type": "code",
   "execution_count": null,
   "metadata": {},
   "outputs": [],
   "source": []
  },
  {
   "cell_type": "code",
   "execution_count": null,
   "metadata": {},
   "outputs": [],
   "source": []
  },
  {
   "cell_type": "code",
   "execution_count": null,
   "metadata": {},
   "outputs": [],
   "source": []
  },
  {
   "cell_type": "code",
   "execution_count": null,
   "metadata": {},
   "outputs": [],
   "source": []
  },
  {
   "cell_type": "code",
   "execution_count": null,
   "metadata": {},
   "outputs": [],
   "source": []
  },
  {
   "cell_type": "code",
   "execution_count": null,
   "metadata": {},
   "outputs": [],
   "source": []
  },
  {
   "cell_type": "markdown",
   "metadata": {},
   "source": [
    "### Collaboration's notice\n",
    "\n",
    "\n",
    "1. Improvements compared with V0.1:\n",
    "   - Break the function ``egm_factory`` into two functions ``optimal_c`` and ``K``.\n",
    "   - Convert it into ``MyST-md`` format by ``jupytext``.\n",
    "   - Adjust the coefficient of $P$ and $\\sigma$_vec and $\\mu$-vec.\n",
    "   - Converging time is **much shorter**.\n",
    "   - Add assumption testings.\n",
    "     - The assumption testing is on the money.\n",
    "   - Change the loop structure.\n",
    "\n",
    "2. Fault:\n",
    "   - $\\beta$ is not stochastic/state dependent.\n",
    "\n",
    "3. Solution:\n",
    "   - Simulate z_vec and P_z from the AR(1) $Z_t$ by using the function ``rouwenhorst`` in the ``QuantEcon.py``.\n",
    "   - Set up appropriate expressions of stochastic processes, $\\beta_t(z_t, ε_t)$, $R_t(z_t, ζ_t)$ and $Y_t(z_t, η_t)$."
   ]
  },
  {
   "cell_type": "code",
   "execution_count": 272,
   "metadata": {},
   "outputs": [],
   "source": [
    "import numpy as np\n",
    "import matplotlib.pyplot as plt\n",
    "from interpolation import interp\n",
    "from numba import jit, njit, jitclass, prange, float64\n",
    "from quantecon.optimize.root_finding import brentq\n",
    "from scipy.linalg import eig, eigvals\n",
    "\n",
    "%matplotlib inline"
   ]
  },
  {
   "cell_type": "code",
   "execution_count": 450,
   "metadata": {},
   "outputs": [],
   "source": [
    "ifp_data = [\n",
    "    ('γ', float64),              # Utility parameter\n",
    "#     ('β', float64),\n",
    "    ('P', float64[:, :]),        # Transition probs for z_t\n",
    "    ('z_vec', float64[:]),       # Shock scale parameters for R_t, Y_t     \n",
    "    ('a_grid', float64[:]),      # Grid over asset values (array)\n",
    "    ('s_grid', float64[:]),\n",
    "    \n",
    "    ('ε_draws', float64[:]),\n",
    "    ('η_draws', float64[:]),     # Draws of innovation η for MC (array)\n",
    "    ('ζ_draws', float64[:]),     # Draws of innovation ζ for MC (array)\n",
    "    \n",
    "    ('β_scale', float64),\n",
    "    ('R_scale', float64),\n",
    "    ('y_scale', float64),\n",
    "    \n",
    "    ('β_loc', float64),\n",
    "    ('R_loc', float64),\n",
    "    ('y_loc', float64)\n",
    "    \n",
    "]"
   ]
  },
  {
   "cell_type": "code",
   "execution_count": 451,
   "metadata": {
    "incorrectly_encoded_metadata": "hide-output=false"
   },
   "outputs": [],
   "source": [
    "@jitclass(ifp_data)\n",
    "class IFP:\n",
    "    \"\"\"\n",
    "    A class that stores primitives for the income fluctuation \n",
    "    problem. \n",
    "    \"\"\"\n",
    "    def __init__(self,\n",
    "                 γ=2.5,\n",
    "                 P=np.array([(0.7861, 0.2139), \n",
    "                             (0.2139, 0.7861)]),\n",
    "                 z_vec=np.array((0.0316, 0.047)),\n",
    "                 scale= np.array((0, 1, 1)),\n",
    "                 loc=np.array((0.98, 0, 0)),\n",
    "                 shock_draw_size=400,\n",
    "                 grid_max=10,\n",
    "                 grid_size=20,\n",
    "                seed=1234):\n",
    "        \n",
    "        np.random.seed(seed)  # arbitrary seed\n",
    "\n",
    "        self.γ = γ\n",
    "        self.P, self.z_vec = P, z_vec\n",
    "        \n",
    "        self.ε_draws = np.random.randn(shock_draw_size)\n",
    "        self.η_draws = np.random.randn(shock_draw_size)\n",
    "        self.ζ_draws = np.random.randn(shock_draw_size)\n",
    "        self.β_scale, self.R_scale, self.y_scale = scale[0], scale[1], scale[2]\n",
    "        self.β_loc, self.R_loc, self.y_loc = loc[0], loc[1], loc[2]\n",
    "        \n",
    "        self.s_grid = np.linspace(0, grid_max, grid_size) # 2 remove a_grid\n",
    "        \n",
    "    # Marginal utility    \n",
    "    def u_prime(self, c):\n",
    "        return c ** (-self.γ)\n",
    "    \n",
    "    # Inverse utility\n",
    "    def u_prime_inv(self, du):\n",
    "        return du ** (-1 / self.γ)\n",
    "    \n",
    "    def β(self, z, ϵ):\n",
    "        return self.β_scale * np.exp(self.z_vec[z] * ϵ) + self.β_loc\n",
    "    \n",
    "    def R(self, z, ζ):\n",
    "        return self.R_scale * np.exp(self.z_vec[z] * ζ) + self.R_loc\n",
    "    \n",
    "    def Y(self, z, η):\n",
    "        return self.y_scale * np.exp(self.z_vec[z] * η) + self.y_loc"
   ]
  },
  {
   "cell_type": "markdown",
   "metadata": {},
   "source": [
    "## Implement the endogenous grid method"
   ]
  },
  {
   "cell_type": "code",
   "execution_count": 460,
   "metadata": {},
   "outputs": [],
   "source": [
    "@jit(nopython=True)\n",
    "def K(a_array, c_array, ifp):\n",
    "    \n",
    "    u_prime, u_prime_inv = ifp.u_prime, ifp.u_prime_inv\n",
    "    s_grid = ifp.s_grid # tick\n",
    "    η_draws, ζ_draws, ε_draws = ifp.η_draws, ifp.ζ_draws, ifp.ε_draws\n",
    "    β, R, Y, P = ifp.β, ifp.R, ifp.Y, ifp.P\n",
    "    \n",
    "    n = len(P)\n",
    "    N = len(ϵ_draws) * len(η_draws) * len(ζ_draws)\n",
    "    \n",
    "\n",
    "        \n",
    "    c = lambda a, z: interp(a_array[:, z], c_array[:, z], a)\n",
    "    \n",
    "    \n",
    "    c_new = np.empty_like(c_array)\n",
    "    a_new = np.empty_like(c_array)\n",
    "    for z in range(n):\n",
    "        for i, s in enumerate(s_grid):\n",
    "            Ez = 0.0\n",
    "            for z_hat in range(n):\n",
    "                for ϵ in ε_draws:\n",
    "                    for ζ in ζ_draws:\n",
    "                        for η in η_draws:\n",
    "                            β_hat = β(z_hat, ϵ)\n",
    "                            R_hat = R(z_hat, ζ)\n",
    "                            Y_hat = Y(z_hat, η)\n",
    "                            Ez += β_hat * R_hat * u_prime(c(R_hat * s + Y_hat, z_hat)) * P[z, z_hat]\n",
    "            Ez = Ez / N\n",
    "            c_new[i, z] = u_prime_inv(Ez)\n",
    "            \n",
    "        a_new[:, z] = c_new[:, z] + s_grid\n",
    "#         c_new[:, z] = interp(a_new[:,z], c_new[:, z], a_array)\n",
    "        \n",
    "        \n",
    "    return a_new, c_new"
   ]
  },
  {
   "cell_type": "code",
   "execution_count": 461,
   "metadata": {},
   "outputs": [],
   "source": [
    "def solve_model(ifp,\n",
    "                K,\n",
    "                tol=1e-3,\n",
    "                max_iter=1e3,\n",
    "                verbose=True,\n",
    "                print_skip=4):\n",
    "\n",
    "    \"\"\"\n",
    "    Solves for the optimal policy using operator K\n",
    "\n",
    "    * ifp is an instance of ConsumerProblem\n",
    "    * K is an operator that updates consumption policy\n",
    "    \"\"\"\n",
    "\n",
    "    # Initial guess of a and c\n",
    "    k = len(ifp.s_grid)\n",
    "    n = len(ifp.P)\n",
    "    σ_init = np.empty((k, n))\n",
    "    for z in range(n):\n",
    "        σ_init[:, z] = ifp.s_grid\n",
    "    a_init = np.copy(σ_init)\n",
    "\n",
    "    i = 0\n",
    "    error = tol + 1\n",
    "\n",
    "    while i < max_iter and error > tol:\n",
    "        a_new, c_new = K(a, c, ifp)\n",
    "\n",
    "        error = np.max(np.abs(c - c_new))\n",
    "        i += 1\n",
    "\n",
    "        if verbose and i % print_skip == 1:\n",
    "            print(f\"Error at iteration {i} is {error}.\")\n",
    "\n",
    "        a[:, :], c[:, :] = a_new, c_new\n",
    "\n",
    "    if i == max_iter:\n",
    "        print(\"Failed to converge!\")\n",
    "\n",
    "    if verbose and i < max_iter:\n",
    "        print(f\"\\nConverged in {i} iterations.\")\n",
    "\n",
    "    return a, c"
   ]
  },
  {
   "cell_type": "code",
   "execution_count": 462,
   "metadata": {},
   "outputs": [],
   "source": [
    "ifp = IFP()"
   ]
  },
  {
   "cell_type": "code",
   "execution_count": null,
   "metadata": {
    "scrolled": true
   },
   "outputs": [],
   "source": [
    "%%time\n",
    "a, c = solve_model(ifp, K)"
   ]
  },
  {
   "cell_type": "code",
   "execution_count": 404,
   "metadata": {
    "scrolled": true
   },
   "outputs": [
    {
     "data": {
      "image/png": "[encoded data removed]",
      "text/plain": [
       "<Figure size 432x288 with 1 Axes>"
      ]
     },
     "metadata": {
      "needs_background": "light"
     },
     "output_type": "display_data"
    }
   ],
   "source": [
    "for z in [0, 1]:\n",
    "    plt.plot(ifp.a_grid, c[:, z], label=f\"$z$ = {z}\")\n",
    "\n",
    "plt.legend()\n",
    "plt.show()"
   ]
  },
  {
   "cell_type": "code",
   "execution_count": null,
   "metadata": {},
   "outputs": [],
   "source": []
  },
  {
   "cell_type": "markdown",
   "metadata": {},
   "source": [
    "## Testing the assumptions"
   ]
  },
  {
   "cell_type": "code",
   "execution_count": 324,
   "metadata": {},
   "outputs": [],
   "source": [
    "def G_φ(Z_φ, P_φ):\n",
    "    \n",
    "    D_φ = np.diag(Z_φ)\n",
    "    if D_φ.max() == np.inf:\n",
    "        G_R = np.nan\n",
    "    else:\n",
    "        L_φ = P_φ @ D_φ # 3\n",
    "        G_φ = max(np.abs(eig(L_φ)[0])) # G_φ = r(L_φ)\n",
    "    \n",
    "    return G_φ"
   ]
  },
  {
   "cell_type": "code",
   "execution_count": 405,
   "metadata": {},
   "outputs": [
    {
     "data": {
      "text/plain": [
       "1.0410393036187355"
      ]
     },
     "execution_count": 405,
     "metadata": {},
     "output_type": "execute_result"
    }
   ],
   "source": [
    "G_βR = G_φ(np.exp(ifp.z_vec + (ifp.z_vec)**2 /2), ifp.P)\n",
    "G_βR"
   ]
  },
  {
   "cell_type": "code",
   "execution_count": null,
   "metadata": {},
   "outputs": [],
   "source": []
  }
 ],
 "metadata": {
  "jupytext": {
   "formats": "ipynb,md"
  },
  "kernelspec": {
   "display_name": "Python 3",
   "language": "python",
   "name": "python3"
  },
  "language_info": {
   "codemirror_mode": {
    "name": "ipython",
    "version": 3
   },
   "file_extension": ".py",
   "mimetype": "text/x-python",
   "name": "python",
   "nbconvert_exporter": "python",
   "pygments_lexer": "ipython3",
   "version": "3.7.6"
  }
 },
 "nbformat": 4,
 "nbformat_minor": 4
}
