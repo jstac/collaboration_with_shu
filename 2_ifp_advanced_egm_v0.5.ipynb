{
 "cells": [
  {
   "cell_type": "markdown",
   "metadata": {},
   "source": [
    "### Collaboration's notice\n",
    "\n",
    "\n",
    "1. Improvements compared with V0.1:\n",
    "   - Break the function ``egm_factory`` into two functions ``optimal_c`` and ``K``.\n",
    "   - Convert it into ``MyST-md`` format by ``jupytext``.\n",
    "   - Adjust the coefficient of $P$ and $\\sigma$_vec and $\\mu$-vec.\n",
    "   - Converging time is **much shorter**.\n",
    "   - Add assumption testings.\n",
    "   - Change the loop structure.\n",
    "\n",
    "2. Fault:\n",
    "   - The assumption testing is still not on the money.\n",
    "\n",
    "3. Solution:\n",
    "   - Simulate the AR(1) Z and refer to section 4 &5 in John & Qingyin's paper."
   ]
  },
  {
   "cell_type": "code",
   "execution_count": 159,
   "metadata": {},
   "outputs": [],
   "source": [
    "import numpy as np\n",
    "import matplotlib.pyplot as plt\n",
    "from interpolation import interp\n",
    "from numba import jit, njit, jitclass, prange, float64\n",
    "from quantecon.optimize.root_finding import brentq\n",
    "\n",
    "%matplotlib inline"
   ]
  },
  {
   "cell_type": "code",
   "execution_count": 160,
   "metadata": {},
   "outputs": [],
   "source": [
    "ifp_data = [\n",
    "    ('γ', float64),              # Utility parameter \n",
    "    ('P', float64[:, :]),        # Transition probs for z_t\n",
    "    ('σ_vec', float64[:]),       # Shock scale parameters for R_t, β_t, Y\n",
    "    ('μ_vec', float64[:]),       \n",
    "    ('a_grid', float64[:]),      # Grid over asset values (array)\n",
    "    ('s_grid', float64[:]),\n",
    "    ('ε_draws', float64[:]),\n",
    "    ('η_draws', float64[:]),     # Draws of innovation η for MC (array)\n",
    "    ('ζ_draws', float64[:])      # Draws of innovation ζ for MC (array)\n",
    "]"
   ]
  },
  {
   "cell_type": "code",
   "execution_count": 161,
   "metadata": {
    "incorrectly_encoded_metadata": "hide-output=false"
   },
   "outputs": [],
   "source": [
    "@jitclass(ifp_data)\n",
    "class IFP:\n",
    "    \"\"\"\n",
    "    A class that stores primitives for the income fluctuation \n",
    "    problem. \n",
    "    \"\"\"\n",
    "    def __init__(self,\n",
    "                 γ=2.5,                        \n",
    "                 P=np.array([(0.8, 0.2), \n",
    "                             (0.7, 0.3)]),\n",
    "                 σ_vec=np.array((0.0, -3.25)),\n",
    "                 μ_vec=np.array((0.0, 0.03)),\n",
    "                 shock_draw_size=400,\n",
    "                 grid_max=10,\n",
    "                 grid_size=20):\n",
    "        \n",
    "        np.random.seed(1234)  # arbitrary seed\n",
    "\n",
    "        self.γ = γ\n",
    "        self.P, self.σ_vec, self.μ_vec = P, σ_vec, μ_vec\n",
    "        self.ε_draws = np.random.randn(shock_draw_size)\n",
    "        self.η_draws = np.random.randn(shock_draw_size)\n",
    "        self.ζ_draws = np.random.randn(shock_draw_size)\n",
    "        self.a_grid = np.linspace(0, grid_max, grid_size)\n",
    "        self.s_grid = np.copy(self.a_grid)\n",
    "        \n",
    "    # Marginal utility    \n",
    "    def u_prime(self, c):\n",
    "        return c ** (-self.γ)\n",
    "    \n",
    "    # Inverse utility\n",
    "    def u_prime_inv(self, du):\n",
    "        return du ** (-1 / self.γ)\n",
    "    \n",
    "    def β(self, z, ε):\n",
    "        return np.exp(self.σ_vec[z] * ε + self.μ_vec[z])\n",
    "    \n",
    "    def R(self, z, ζ):\n",
    "        return np.exp(self.σ_vec[z] * ζ + self.μ_vec[z])\n",
    "    \n",
    "    def Y(self, z, η):\n",
    "        return np.exp(self.σ_vec[z] * η + self.μ_vec[z])"
   ]
  },
  {
   "cell_type": "code",
   "execution_count": 162,
   "metadata": {},
   "outputs": [],
   "source": [
    "ifp = IFP()"
   ]
  },
  {
   "cell_type": "markdown",
   "metadata": {},
   "source": [
    "## Testing the assumptions"
   ]
  },
  {
   "cell_type": "code",
   "execution_count": 163,
   "metadata": {},
   "outputs": [],
   "source": [
    "@njit\n",
    "def growth_condition_beta(ifp):\n",
    "    u_prime, u_prime_inv = ifp.u_prime, ifp.u_prime_inv\n",
    "    a_grid, s_grid = ifp.a_grid, ifp.s_grid\n",
    "    η_draws, ζ_draws, ε_draws = ifp.η_draws, ifp.ζ_draws, ifp.ε_draws\n",
    "    n = len(ε_draws)\n",
    "    β, R, Y, P = ifp.β, ifp.R, ifp.Y, ifp.P\n",
    "    \n",
    "    β_prod = np.ones(n)\n",
    "    for z_hat in (0, 1):\n",
    "        for t in range(n):\n",
    "            β_prod[t+1] = β(z_hat, ε_draws[t+1]) * β_prod[t]\n",
    "    return β_prod[n] ** (1/n) "
   ]
  },
  {
   "cell_type": "code",
   "execution_count": 164,
   "metadata": {},
   "outputs": [
    {
     "data": {
      "text/plain": [
       "nan"
      ]
     },
     "execution_count": 164,
     "metadata": {},
     "output_type": "execute_result"
    }
   ],
   "source": [
    "growth_condition_beta(ifp)"
   ]
  },
  {
   "cell_type": "code",
   "execution_count": 165,
   "metadata": {},
   "outputs": [],
   "source": [
    "@njit\n",
    "def growth_condition_betaR(ifp):\n",
    "    u_prime, u_prime_inv = ifp.u_prime, ifp.u_prime_inv\n",
    "    a_grid, s_grid = ifp.a_grid, ifp.s_grid\n",
    "    η_draws, ζ_draws, ε_draws = ifp.η_draws, ifp.ζ_draws, ifp.ε_draws\n",
    "    n = len(ε_draws)\n",
    "    β, R, Y, P = ifp.β, ifp.R, ifp.Y, ifp.P\n",
    "    \n",
    "    βR_prod = np.ones(n)\n",
    "    for z_hat in (0, 1):\n",
    "        for t in range(n):\n",
    "            βR_prod[t+1] = β(z_hat, ε_draws[t+1]) * R(z_hat, ζ_draws[t+1]) * βR_prod[t]\n",
    "    return βR_prod[n] ** (1/n) "
   ]
  },
  {
   "cell_type": "code",
   "execution_count": 166,
   "metadata": {},
   "outputs": [
    {
     "data": {
      "text/plain": [
       "nan"
      ]
     },
     "execution_count": 166,
     "metadata": {},
     "output_type": "execute_result"
    }
   ],
   "source": [
    "growth_condition_betaR(ifp)"
   ]
  },
  {
   "cell_type": "markdown",
   "metadata": {},
   "source": [
    "## Implement the endogenous grid method"
   ]
  },
  {
   "cell_type": "code",
   "execution_count": 167,
   "metadata": {},
   "outputs": [],
   "source": [
    "@jit(nopython=True)\n",
    "def optimal_c(s, z, σ_vec, ifp):\n",
    "    \n",
    "    u_prime, u_prime_inv = ifp.u_prime, ifp.u_prime_inv\n",
    "    a_grid, s_grid = ifp.a_grid, ifp.s_grid\n",
    "    η_draws, ζ_draws, ε_draws = ifp.η_draws, ifp.ζ_draws, ifp.ε_draws\n",
    "    β, R, Y, P = ifp.β, ifp.R, ifp.Y, ifp.P\n",
    "    n = len(ε_draws)\n",
    "    \n",
    "    c = lambda a, z: interp(a_grid, σ_vec[:, z], a)\n",
    "        \n",
    "    Ez = 0.0\n",
    "    for z_hat in (0, 1):\n",
    "        for i in range(n):\n",
    "            β_hat = β(z_hat, ε_draws[i])\n",
    "            R_hat = R(z_hat, ζ_draws[i])\n",
    "            Y_hat = Y(z_hat, η_draws[i])\n",
    "            Ez += β_hat * R_hat * u_prime(c(R_hat * s + Y_hat, z_hat)) * P[z, z_hat]\n",
    "                \n",
    "    Ez = Ez / (n ** 3)\n",
    "    return u_prime_inv(Ez)\n",
    "    "
   ]
  },
  {
   "cell_type": "code",
   "execution_count": 168,
   "metadata": {},
   "outputs": [],
   "source": [
    "@jit(nopython=True)\n",
    "def K(c, ifp):\n",
    "    \n",
    "    a_grid, s_grid = ifp.a_grid, ifp.s_grid\n",
    "    \n",
    "    c_new = np.empty_like(c)\n",
    "    for z in (0, 1):\n",
    "        for i in range(len(s_grid)):\n",
    "            s = s_grid[i]\n",
    "            \n",
    "            c_new[i, z] = optimal_c(s, z, c, ifp)\n",
    "            \n",
    "        a_new = c_new[:, z] + s_grid\n",
    "        c_new[:, z] = interp(a_new, c_new[:, z], a_grid)\n",
    "        \n",
    "        c_new[:, z] = np.minimum(c_new[:, z], a_grid)\n",
    "        \n",
    "    return c_new"
   ]
  },
  {
   "cell_type": "code",
   "execution_count": 169,
   "metadata": {},
   "outputs": [],
   "source": [
    "def solve_model(ifp,\n",
    "                K,\n",
    "                tol=1e-3,\n",
    "                max_iter=1e3,\n",
    "                verbose=True,\n",
    "                print_skip=4):\n",
    "\n",
    "    \"\"\"\n",
    "    Solves for the optimal policy using operator K\n",
    "\n",
    "    * ifp is an instance of ConsumerProblem\n",
    "    * K is an operator that updates consumption policy\n",
    "    \"\"\"\n",
    "\n",
    "    # Initial guess of c_vec = consume all assets\n",
    "    n = len(ifp.a_grid)\n",
    "    c = np.empty((n, 2))\n",
    "    for z in 0, 1:\n",
    "        c[:, z] = ifp.a_grid\n",
    "\n",
    "    i = 0\n",
    "    error = tol + 1\n",
    "\n",
    "    while i < max_iter and error > tol:\n",
    "        c_new = K(c, ifp)\n",
    "\n",
    "        error = np.max(np.abs(c - c_new))\n",
    "        i += 1\n",
    "\n",
    "        if verbose and i % print_skip == 0:\n",
    "            print(f\"Error at iteration {i} is {error}.\")\n",
    "\n",
    "        c[:, :] = c_new\n",
    "\n",
    "    if i == max_iter:\n",
    "        print(\"Failed to converge!\")\n",
    "\n",
    "    if verbose and i < max_iter:\n",
    "        print(f\"\\nConverged in {i} iterations.\")\n",
    "\n",
    "    return c"
   ]
  },
  {
   "cell_type": "code",
   "execution_count": 170,
   "metadata": {
    "scrolled": true
   },
   "outputs": [
    {
     "name": "stdout",
     "output_type": "stream",
     "text": [
      "Error at iteration 4 is 0.5152792798532912.\n",
      "Error at iteration 8 is 0.4552502173748936.\n",
      "Error at iteration 12 is 0.3499516125596971.\n",
      "Error at iteration 16 is 0.26927172438978886.\n",
      "Error at iteration 20 is 0.20731575895326904.\n",
      "Error at iteration 24 is 0.15965651527485525.\n",
      "Error at iteration 28 is 0.12296700178722997.\n",
      "Error at iteration 32 is 0.09471367279300935.\n",
      "Error at iteration 36 is 0.07295373147641637.\n",
      "Error at iteration 40 is 0.056193751252571755.\n",
      "Error at iteration 44 is 0.04328439887895108.\n",
      "Error at iteration 48 is 0.03334084308077406.\n",
      "Error at iteration 52 is 0.025681633704757678.\n",
      "Error at iteration 56 is 0.01978195225350937.\n",
      "Error at iteration 60 is 0.015237577404412506.\n",
      "Error at iteration 64 is 0.011737156055044246.\n",
      "Error at iteration 68 is 0.00904086435052584.\n",
      "Error at iteration 72 is 0.006963973503481227.\n",
      "Error at iteration 76 is 0.005364192136911944.\n",
      "Error at iteration 80 is 0.004131916934025141.\n",
      "Error at iteration 84 is 0.0031827231962576613.\n",
      "Error at iteration 88 is 0.0024515806167496185.\n",
      "Error at iteration 92 is 0.0018883978844073564.\n",
      "Error at iteration 96 is 0.0014545908250944428.\n",
      "Error at iteration 100 is 0.0011204389348576024.\n",
      "\n",
      "Converged in 102 iterations.\n",
      "CPU times: user 1.12 s, sys: 11.1 ms, total: 1.13 s\n",
      "Wall time: 1.13 s\n"
     ]
    }
   ],
   "source": [
    "%%time\n",
    "c = solve_model(ifp, K)"
   ]
  },
  {
   "cell_type": "code",
   "execution_count": 171,
   "metadata": {
    "scrolled": true
   },
   "outputs": [
    {
     "data": {
      "image/png": "[encoded data removed]",
      "text/plain": [
       "<Figure size 432x288 with 1 Axes>"
      ]
     },
     "metadata": {
      "needs_background": "light"
     },
     "output_type": "display_data"
    }
   ],
   "source": [
    "for z in [0, 1]:\n",
    "    plt.plot(ifp.a_grid, c[:, z], label=f\"$z$ = {z}\")\n",
    "\n",
    "plt.legend()\n",
    "plt.show()"
   ]
  },
  {
   "cell_type": "code",
   "execution_count": null,
   "metadata": {},
   "outputs": [],
   "source": []
  },
  {
   "cell_type": "code",
   "execution_count": null,
   "metadata": {},
   "outputs": [],
   "source": []
  }
 ],
 "metadata": {
  "jupytext": {
   "formats": "ipynb,md"
  },
  "kernelspec": {
   "display_name": "Python 3",
   "language": "python",
   "name": "python3"
  },
  "language_info": {
   "codemirror_mode": {
    "name": "ipython",
    "version": 3
   },
   "file_extension": ".py",
   "mimetype": "text/x-python",
   "name": "python",
   "nbconvert_exporter": "python",
   "pygments_lexer": "ipython3",
   "version": "3.7.6"
  }
 },
 "nbformat": 4,
 "nbformat_minor": 4
}
