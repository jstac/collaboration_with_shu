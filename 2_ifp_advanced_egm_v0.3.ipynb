{
 "cells": [
  {
   "cell_type": "markdown",
   "metadata": {},
   "source": [
    "### Collaboration's notice\n",
    "\n",
    "1. This version works but takes too much time to converge.\n",
    "\n",
    "2. Improvements compared with V0.1:\n",
    "   - Break the function ``egm_factory`` into two functions ``optimal_c`` and ``K``.\n",
    "   - Convert it into ``MyST-md`` format by ``jupytext``.\n",
    "\n",
    "3. Fault:\n",
    "   - It takes too much time to converge.\n",
    "\n",
    "4. Solution:\n",
    "   - Check the growth assumption of $\\beta_t$ and $G \\beta_t$."
   ]
  },
  {
   "cell_type": "code",
   "execution_count": 1,
   "metadata": {},
   "outputs": [],
   "source": [
    "import numpy as np\n",
    "import matplotlib.pyplot as plt\n",
    "from interpolation import interp\n",
    "from numba import jit, njit, jitclass, prange, float64\n",
    "from quantecon.optimize.root_finding import brentq\n",
    "\n",
    "%matplotlib inline"
   ]
  },
  {
   "cell_type": "code",
   "execution_count": 2,
   "metadata": {},
   "outputs": [],
   "source": [
    "ifp_data = [\n",
    "    ('γ', float64),              # Utility parameter \n",
    "    ('P', float64[:, :]),        # Transition probs for z_t\n",
    "    ('σ_vec', float64[:]),       # Shock scale parameters for R_t\n",
    "    ('a_grid', float64[:]),        # Grid over asset values (array)\n",
    "    ('s_grid', float64[:]),\n",
    "    ('ε_draws', float64[:]),\n",
    "    ('η_draws', float64[:]),     # Draws of innovation η for MC (array)\n",
    "    ('ζ_draws', float64[:])      # Draws of innovation ζ for MC (array)\n",
    "]"
   ]
  },
  {
   "cell_type": "code",
   "execution_count": 3,
   "metadata": {
    "incorrectly_encoded_metadata": "hide-output=false"
   },
   "outputs": [],
   "source": [
    "@jitclass(ifp_data)\n",
    "class IFP:\n",
    "    \"\"\"\n",
    "    A class that stores primitives for the income fluctuation \n",
    "    problem. \n",
    "    \"\"\"\n",
    "    def __init__(self,\n",
    "                 γ=2.5,                        \n",
    "                 P=np.array([(0.8, 0.2), \n",
    "                             (0.7, 0.3)]),\n",
    "                 σ_vec=np.array((0.0, 0.5)),\n",
    "                 shock_draw_size=400,\n",
    "                 grid_max=10,\n",
    "                 grid_size=20):\n",
    "        \n",
    "        np.random.seed(1234)  # arbitrary seed\n",
    "\n",
    "        self.γ = γ\n",
    "        self.P, self.σ_vec = P, σ_vec\n",
    "        self.ε_draws = np.random.randn(shock_draw_size)\n",
    "        self.η_draws = np.random.randn(shock_draw_size)\n",
    "        self.ζ_draws = np.random.randn(shock_draw_size)\n",
    "        self.a_grid = np.linspace(0, grid_max, grid_size)\n",
    "        self.s_grid = np.copy(self.a_grid)\n",
    "        \n",
    "    # Marginal utility    \n",
    "    def u_prime(self, c):\n",
    "        return c ** (-self.γ)\n",
    "    \n",
    "    # Inverse utility\n",
    "    def u_prime_inv(self, du):\n",
    "        return du ** (-1 / self.γ)\n",
    "    \n",
    "    def β(self, z, ε):\n",
    "        return np.exp(self.σ_vec[z] * ε)\n",
    "    \n",
    "    def R(self, z, ζ):\n",
    "        return np.exp(self.σ_vec[z] * ζ)\n",
    "    \n",
    "    def Y(self, z, η):\n",
    "        return np.exp(self.σ_vec[z] * η)"
   ]
  },
  {
   "cell_type": "code",
   "execution_count": 4,
   "metadata": {},
   "outputs": [],
   "source": [
    "@njit\n",
    "def optimal_c(s, z, σ_vec, ifp):\n",
    "    \n",
    "    u_prime, u_prime_inv = ifp.u_prime, ifp.u_prime_inv\n",
    "    a_grid, s_grid = ifp.a_grid, ifp.s_grid\n",
    "    η_draws, ζ_draws, ε_draws = ifp.η_draws, ifp.ζ_draws, ifp.ε_draws\n",
    "    β, R, Y, P = ifp.β, ifp.R, ifp.Y, ifp.P\n",
    "    \n",
    "    \n",
    "    c = lambda a, z: interp(a_grid, σ_vec[:, z], a)\n",
    "        \n",
    "    Ez = 0.0\n",
    "    for z_hat in (0, 1):\n",
    "        for η in η_draws:\n",
    "            for ζ in ζ_draws:\n",
    "                for ε in ε_draws:\n",
    "                    β_hat = β(z_hat, ε)\n",
    "                    R_hat = R(z_hat, ζ)\n",
    "                    Y_hat = Y(z_hat, η)\n",
    "                    Ez += β_hat * R_hat * u_prime(c(R_hat * s + Y_hat, z_hat)) * P[z, z_hat]\n",
    "                \n",
    "    Ez = Ez / (len(η_draws) * len(ζ_draws) * len(ε_draws))\n",
    "    return u_prime_inv(Ez)\n",
    "    "
   ]
  },
  {
   "cell_type": "code",
   "execution_count": 5,
   "metadata": {},
   "outputs": [],
   "source": [
    "@njit\n",
    "def K(c, ifp):\n",
    "    \n",
    "    a_grid, s_grid = ifp.a_grid, ifp.s_grid\n",
    "    \n",
    "    c_new = np.empty_like(c)\n",
    "    for z in (0, 1):\n",
    "        for i in range(len(s_grid)):\n",
    "            s = s_grid[i]\n",
    "            \n",
    "            c_new[i, z] = optimal_c(s, z, c, ifp)\n",
    "            \n",
    "        a_new = c_new[:, z] + s_grid\n",
    "        c_new[:, z] = interp(a_new, c_new[:, z], a_grid)\n",
    "        \n",
    "        c_new[:, z] = np.minimum(c_new[:, z], a_grid)\n",
    "        \n",
    "    return c_new"
   ]
  },
  {
   "cell_type": "code",
   "execution_count": 6,
   "metadata": {},
   "outputs": [],
   "source": [
    "def solve_model(ifp,\n",
    "                K,\n",
    "                tol=1e-2,\n",
    "                max_iter=1e3,\n",
    "                verbose=True,\n",
    "                print_skip=4):\n",
    "\n",
    "    \"\"\"\n",
    "    Solves for the optimal policy using operator K\n",
    "\n",
    "    * ifp is an instance of ConsumerProblem\n",
    "    * K is an operator that updates consumption policy\n",
    "    \"\"\"\n",
    "\n",
    "    # Initial guess of c_vec = consume all assets\n",
    "    n = len(ifp.a_grid)\n",
    "    c = np.empty((n, 2))\n",
    "    for z in 0, 1:\n",
    "        c[:, z] = ifp.a_grid\n",
    "\n",
    "    i = 0\n",
    "    error = tol + 1\n",
    "\n",
    "    while i < max_iter and error > tol:\n",
    "        c_new = K(c, ifp)\n",
    "\n",
    "        error = np.max(np.abs(c - c_new))\n",
    "        i += 1\n",
    "\n",
    "        if verbose and i % print_skip == 0:\n",
    "            print(f\"Error at iteration {i} is {error}.\")\n",
    "\n",
    "        c[:, :] = c_new\n",
    "\n",
    "    if i == max_iter:\n",
    "        print(\"Failed to converge!\")\n",
    "\n",
    "    if verbose and i < max_iter:\n",
    "        print(f\"\\nConverged in {i} iterations.\")\n",
    "\n",
    "    return c"
   ]
  },
  {
   "cell_type": "code",
   "execution_count": 7,
   "metadata": {},
   "outputs": [
    {
     "name": "stdout",
     "output_type": "stream",
     "text": [
      "Error at iteration 4 is 0.46167624965761167.\n",
      "Error at iteration 8 is 0.13588525572515597.\n",
      "Error at iteration 12 is 0.06938276730433546.\n",
      "Error at iteration 16 is 0.04564694086232546.\n",
      "Error at iteration 20 is 0.03433031885049864.\n",
      "Error at iteration 24 is 0.028269418562965942.\n",
      "Error at iteration 28 is 0.024315146563155587.\n",
      "Error at iteration 32 is 0.021360299524817772.\n",
      "Error at iteration 36 is 0.019024964755902873.\n",
      "Error at iteration 40 is 0.01707798250754622.\n",
      "Error at iteration 44 is 0.015390467306221067.\n",
      "Error at iteration 48 is 0.013893031293517266.\n",
      "Error at iteration 52 is 0.012548889849602785.\n",
      "Error at iteration 56 is 0.011336823919232852.\n",
      "Error at iteration 60 is 0.010242275380547783.\n",
      "\n",
      "Converged in 61 iterations.\n"
     ]
    }
   ],
   "source": [
    "ifp = IFP()\n",
    "c = solve_model(ifp, K)"
   ]
  },
  {
   "cell_type": "code",
   "execution_count": null,
   "metadata": {},
   "outputs": [],
   "source": []
  },
  {
   "cell_type": "code",
   "execution_count": null,
   "metadata": {},
   "outputs": [],
   "source": []
  },
  {
   "cell_type": "code",
   "execution_count": null,
   "metadata": {},
   "outputs": [],
   "source": []
  }
 ],
 "metadata": {
  "jupytext": {
   "formats": "ipynb,md"
  },
  "kernelspec": {
   "display_name": "Python 3",
   "language": "python",
   "name": "python3"
  },
  "language_info": {
   "codemirror_mode": {
    "name": "ipython",
    "version": 3
   },
   "file_extension": ".py",
   "mimetype": "text/x-python",
   "name": "python",
   "nbconvert_exporter": "python",
   "pygments_lexer": "ipython3",
   "version": "3.7.6"
  }
 },
 "nbformat": 4,
 "nbformat_minor": 4
}
